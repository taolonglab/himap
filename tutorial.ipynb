{
 "cells": [
  {
   "cell_type": "markdown",
   "metadata": {},
   "source": [
    "# HiMAP tutorial: human data"
   ]
  },
  {
   "cell_type": "markdown",
   "metadata": {},
   "source": [
    "This tutorial assumes you've installed HiMAP."
   ]
  },
  {
   "cell_type": "markdown",
   "metadata": {},
   "source": [
    "To test, download files from 2 samples of [DIABIMMUNE Tri-county cohort](https://pubs.broadinstitute.org/diabimmune/three-country-cohort/resources/16s-sequence-data):\n",
    "* [Sample G3225 (forward)](https://pubs.broadinstitute.org/diabimmune/data/10/G63225_R1_001.fastq.gz)\n",
    "* [Sample G3225 (reverse)](https://pubs.broadinstitute.org/diabimmune/data/10/G63225_R2_001.fastq.gz)\n",
    "* [Sample G3228 (forward)](https://pubs.broadinstitute.org/diabimmune/data/10/G63228_R1_001.fastq.gz)\n",
    "* [Sample G3228 (reverse)](https://pubs.broadinstitute.org/diabimmune/data/10/G63228_R2_001.fastq.gz)\n",
    "\n",
    "and save them to a folder. For the purposes of this tutorial, we will save them to `~/data/diabimmune/fastq_tutorial/`. ~ is a shortcut for an individual user folder.\n",
    "\n",
    "In these samples, V4 hyper-variable region is sequenced. PCR primers have already been removed from these reads, but we will run the PCR primer removal anyway, to demonstrate the full pipeline."
   ]
  },
  {
   "cell_type": "code",
   "execution_count": 1,
   "metadata": {
    "collapsed": false
   },
   "outputs": [
    {
     "name": "stderr",
     "output_type": "stream",
     "text": [
      "HiMAP v1.0 loaded.\n"
     ]
    }
   ],
   "source": [
    "library(himap)"
   ]
  },
  {
   "cell_type": "markdown",
   "metadata": {},
   "source": [
    "## Loading files and specifying folders"
   ]
  },
  {
   "cell_type": "markdown",
   "metadata": {},
   "source": [
    "First, we will need full paths to the FASTQ files for pair-end 16S reads. Filenames for all forwards reads will be stored in `fq_fwd` and reverse in `fq_rev`."
   ]
  },
  {
   "cell_type": "code",
   "execution_count": 2,
   "metadata": {
    "collapsed": false
   },
   "outputs": [],
   "source": [
    "fastq_path = '~/data/diabimmune/tutorial/fastq'\n",
    "fq_fwd = read_files(fastq_path, 'R1')\n",
    "fq_rev = read_files(fastq_path, 'R2')"
   ]
  },
  {
   "cell_type": "markdown",
   "metadata": {},
   "source": [
    "The filenames are used to extract identifiers for each file, either with forward or reverse reads. The function `sampleids_from_filenames` will retrieve those, given a separator (default is the underscore _). For example, from forward files: "
   ]
  },
  {
   "cell_type": "code",
   "execution_count": 3,
   "metadata": {
    "collapsed": false
   },
   "outputs": [
    {
     "data": {
      "text/html": [
       "<ol class=list-inline>\n",
       "\t<li>'/Users/igor/data/diabimmune/tutorial/fastq/G63225_R1_001.fastq.gz'</li>\n",
       "\t<li>'/Users/igor/data/diabimmune/tutorial/fastq/G63228_R1_001.fastq.gz'</li>\n",
       "</ol>\n"
      ],
      "text/latex": [
       "\\begin{enumerate*}\n",
       "\\item '/Users/igor/data/diabimmune/tutorial/fastq/G63225\\_R1\\_001.fastq.gz'\n",
       "\\item '/Users/igor/data/diabimmune/tutorial/fastq/G63228\\_R1\\_001.fastq.gz'\n",
       "\\end{enumerate*}\n"
      ],
      "text/markdown": [
       "1. '/Users/igor/data/diabimmune/tutorial/fastq/G63225_R1_001.fastq.gz'\n",
       "2. '/Users/igor/data/diabimmune/tutorial/fastq/G63228_R1_001.fastq.gz'\n",
       "\n",
       "\n"
      ],
      "text/plain": [
       "[1] \"/Users/igor/data/diabimmune/tutorial/fastq/G63225_R1_001.fastq.gz\"\n",
       "[2] \"/Users/igor/data/diabimmune/tutorial/fastq/G63228_R1_001.fastq.gz\""
      ]
     },
     "metadata": {},
     "output_type": "display_data"
    }
   ],
   "source": [
    "head(fq_fwd)"
   ]
  },
  {
   "cell_type": "markdown",
   "metadata": {},
   "source": [
    "we would like `G63225` and `G63228` labels:"
   ]
  },
  {
   "cell_type": "code",
   "execution_count": 4,
   "metadata": {
    "collapsed": false
   },
   "outputs": [
    {
     "data": {
      "text/html": [
       "<ol class=list-inline>\n",
       "\t<li>'G63225'</li>\n",
       "\t<li>'G63228'</li>\n",
       "</ol>\n"
      ],
      "text/latex": [
       "\\begin{enumerate*}\n",
       "\\item 'G63225'\n",
       "\\item 'G63228'\n",
       "\\end{enumerate*}\n"
      ],
      "text/markdown": [
       "1. 'G63225'\n",
       "2. 'G63228'\n",
       "\n",
       "\n"
      ],
      "text/plain": [
       "[1] \"G63225\" \"G63228\""
      ]
     },
     "metadata": {},
     "output_type": "display_data"
    }
   ],
   "source": [
    "sample_ids = sampleids_from_filenames(fq_fwd, separator='_')\n",
    "head(sample_ids)"
   ]
  },
  {
   "cell_type": "markdown",
   "metadata": {},
   "source": [
    "HiMAP will output a number of output files and folders, which will be explained as we go along, so specify a folder where to save all files:"
   ]
  },
  {
   "cell_type": "code",
   "execution_count": 5,
   "metadata": {
    "collapsed": false
   },
   "outputs": [
    {
     "data": {
      "text/html": [
       "'/Users/igor/data/diabimmune/tutorial'"
      ],
      "text/latex": [
       "'/Users/igor/data/diabimmune/tutorial'"
      ],
      "text/markdown": [
       "'/Users/igor/data/diabimmune/tutorial'"
      ],
      "text/plain": [
       "[1] \"/Users/igor/data/diabimmune/tutorial\""
      ]
     },
     "metadata": {},
     "output_type": "display_data"
    }
   ],
   "source": [
    "out_path = path.expand('~/data/diabimmune/tutorial')\n",
    "out_path"
   ]
  },
  {
   "cell_type": "markdown",
   "metadata": {},
   "source": [
    "## Merging reads"
   ]
  },
  {
   "cell_type": "markdown",
   "metadata": {},
   "source": [
    "First specify the output files for each sample, then merge:"
   ]
  },
  {
   "cell_type": "code",
   "execution_count": 6,
   "metadata": {
    "collapsed": false
   },
   "outputs": [
    {
     "name": "stderr",
     "output_type": "stream",
     "text": [
      "Loading FASTQ reads: G63225_R1_001.fastq.gz, G63225_R2_001.fastq.gz ... OK.\n",
      "Merging pairs... OK.\n",
      "Writing output files... OK.\n",
      "Loading FASTQ reads: G63228_R1_001.fastq.gz, G63228_R2_001.fastq.gz ... OK.\n",
      "Merging pairs... OK.\n",
      "Writing output files... OK.\n"
     ]
    }
   ],
   "source": [
    "fq_mer = file.path(out_path, 'merged', paste0(sample_ids, '.fastq'))\n",
    "mergestats = merge_pairs(fq_fwd, fq_rev, fq_mer, verbose=T)"
   ]
  },
  {
   "cell_type": "markdown",
   "metadata": {},
   "source": [
    "Check how many reads are merged and not merged:"
   ]
  },
  {
   "cell_type": "code",
   "execution_count": 7,
   "metadata": {
    "collapsed": false
   },
   "outputs": [
    {
     "data": {
      "text/html": [
       "<table>\n",
       "<thead><tr><th></th><th scope=col>/Users/igor/data/diabimmune/tutorial/fastq/G63225_R1_001.fastq.gz</th><th scope=col>/Users/igor/data/diabimmune/tutorial/fastq/G63228_R1_001.fastq.gz</th></tr></thead>\n",
       "<tbody>\n",
       "\t<tr><th scope=row>total</th><td>107153</td><td>129781</td></tr>\n",
       "\t<tr><th scope=row>low_pct_sim</th><td>1264</td><td>989 </td></tr>\n",
       "\t<tr><th scope=row>low_aln_len</th><td>6 </td><td>20</td></tr>\n",
       "</tbody>\n",
       "</table>\n"
      ],
      "text/latex": [
       "\\begin{tabular}{r|ll}\n",
       "  & /Users/igor/data/diabimmune/tutorial/fastq/G63225\\_R1\\_001.fastq.gz & /Users/igor/data/diabimmune/tutorial/fastq/G63228\\_R1\\_001.fastq.gz\\\\\n",
       "\\hline\n",
       "\ttotal & 107153 & 129781\\\\\n",
       "\tlow\\_pct\\_sim & 1264 & 989 \\\\\n",
       "\tlow\\_aln\\_len & 6  & 20\\\\\n",
       "\\end{tabular}\n"
      ],
      "text/markdown": [
       "\n",
       "| <!--/--> | /Users/igor/data/diabimmune/tutorial/fastq/G63225_R1_001.fastq.gz | /Users/igor/data/diabimmune/tutorial/fastq/G63228_R1_001.fastq.gz | \n",
       "|---|---|---|\n",
       "| total | 107153 | 129781 | \n",
       "| low_pct_sim | 1264 | 989  | \n",
       "| low_aln_len | 6  | 20 | \n",
       "\n",
       "\n"
      ],
      "text/plain": [
       "            /Users/igor/data/diabimmune/tutorial/fastq/G63225_R1_001.fastq.gz\n",
       "total       107153                                                           \n",
       "low_pct_sim 1264                                                             \n",
       "low_aln_len 6                                                                \n",
       "            /Users/igor/data/diabimmune/tutorial/fastq/G63228_R1_001.fastq.gz\n",
       "total       129781                                                           \n",
       "low_pct_sim 989                                                              \n",
       "low_aln_len 20                                                               "
      ]
     },
     "metadata": {},
     "output_type": "display_data"
    }
   ],
   "source": [
    "mergestats"
   ]
  },
  {
   "cell_type": "markdown",
   "metadata": {},
   "source": [
    "Out of 107,153 total reads, in the first sample 1,264 were not merged due to low percentage similarity in the alignment (if this number is high, consider lowering `min_sim` parameter) and 6 due to overlap alignment being too short (less than default 50 nt). If this number of reads in `low_aln_len` is too high, that overlap alignment was rejected due to being too short, in which case minimum alignment length needs to be reduced (parameter `min_aln_len`). See `?merge_pairs` for more details."
   ]
  },
  {
   "cell_type": "markdown",
   "metadata": {},
   "source": [
    "## Remove PCR primers"
   ]
  },
  {
   "cell_type": "markdown",
   "metadata": {},
   "source": [
    "Remove PCR primers from merged reads. First, we will create output filenames, then remove standard V4 region primers. Exact primer sequences can also be specified using arguments `pr_fwd` and `pr_rev`; see `?remove_pcr_primers` for details."
   ]
  },
  {
   "cell_type": "code",
   "execution_count": 8,
   "metadata": {
    "collapsed": false
   },
   "outputs": [],
   "source": [
    "fq_pcr = file.path(out_path, 'primer_removed', paste0(sample_ids, '.fastq'))\n",
    "trimstats = remove_pcr_primers(fq_mer, fq_pcr, region='V4')"
   ]
  },
  {
   "cell_type": "code",
   "execution_count": 9,
   "metadata": {
    "collapsed": false
   },
   "outputs": [
    {
     "data": {
      "text/html": [
       "<table>\n",
       "<thead><tr><th></th><th scope=col>/Users/igor/data/diabimmune/tutorial/merged/G63225.fastq</th><th scope=col>/Users/igor/data/diabimmune/tutorial/merged/G63228.fastq</th></tr></thead>\n",
       "<tbody>\n",
       "\t<tr><th scope=row>fwd_trim</th><td>0</td><td>0</td></tr>\n",
       "\t<tr><th scope=row>rev_trim</th><td>1</td><td>0</td></tr>\n",
       "</tbody>\n",
       "</table>\n"
      ],
      "text/latex": [
       "\\begin{tabular}{r|ll}\n",
       "  & /Users/igor/data/diabimmune/tutorial/merged/G63225.fastq & /Users/igor/data/diabimmune/tutorial/merged/G63228.fastq\\\\\n",
       "\\hline\n",
       "\tfwd\\_trim & 0 & 0\\\\\n",
       "\trev\\_trim & 1 & 0\\\\\n",
       "\\end{tabular}\n"
      ],
      "text/markdown": [
       "\n",
       "| <!--/--> | /Users/igor/data/diabimmune/tutorial/merged/G63225.fastq | /Users/igor/data/diabimmune/tutorial/merged/G63228.fastq | \n",
       "|---|---|\n",
       "| fwd_trim | 0 | 0 | \n",
       "| rev_trim | 1 | 0 | \n",
       "\n",
       "\n"
      ],
      "text/plain": [
       "         /Users/igor/data/diabimmune/tutorial/merged/G63225.fastq\n",
       "fwd_trim 0                                                       \n",
       "rev_trim 1                                                       \n",
       "         /Users/igor/data/diabimmune/tutorial/merged/G63228.fastq\n",
       "fwd_trim 0                                                       \n",
       "rev_trim 0                                                       "
      ]
     },
     "metadata": {},
     "output_type": "display_data"
    }
   ],
   "source": [
    "trimstats"
   ]
  },
  {
   "cell_type": "markdown",
   "metadata": {},
   "source": [
    "No primers were found in this dataset."
   ]
  },
  {
   "cell_type": "markdown",
   "metadata": {},
   "source": [
    "## Quality control and fixed-length trimming"
   ]
  },
  {
   "cell_type": "markdown",
   "metadata": {},
   "source": [
    "Since the input for DADA2 denoising requires all sequences to be trimmed to the fixed length, we first inspect the distribution of sequence lengths before choosing this parameter:"
   ]
  },
  {
   "cell_type": "code",
   "execution_count": 10,
   "metadata": {
    "collapsed": true
   },
   "outputs": [],
   "source": [
    "seqlen.ft = sequence_length_table(fq_pcr)"
   ]
  },
  {
   "cell_type": "code",
   "execution_count": 11,
   "metadata": {
    "collapsed": false
   },
   "outputs": [
    {
     "data": {
      "image/png": "[encoded data removed]",
      "text/plain": [
       "plot without title"
      ]
     },
     "metadata": {},
     "output_type": "display_data"
    }
   ],
   "source": [
    "options(repr.plot.width=4, repr.plot.height=3) # Make a small plot\n",
    "plot(seqlen.ft)"
   ]
  },
  {
   "cell_type": "markdown",
   "metadata": {},
   "source": [
    "We can select the minimum trimming length by finding the length above which we have 99% of the reads, since most of the reads here have 252 and 253 nt length."
   ]
  },
  {
   "cell_type": "code",
   "execution_count": 12,
   "metadata": {
    "collapsed": false
   },
   "outputs": [
    {
     "data": {
      "text/html": [
       "252"
      ],
      "text/latex": [
       "252"
      ],
      "text/markdown": [
       "252"
      ],
      "text/plain": [
       "[1] 252"
      ]
     },
     "metadata": {},
     "output_type": "display_data"
    }
   ],
   "source": [
    "trim_length = ftquantile(seqlen.ft, 0.01)\n",
    "trim_length"
   ]
  },
  {
   "cell_type": "markdown",
   "metadata": {},
   "source": [
    "Now we can use that to do the trimming. For quality control keep sequences with 2 or less expected errors [Edgar, Flyberg]. This also removes any phiX sequences and sequences containing any Ns after truncation (trimming):"
   ]
  },
  {
   "cell_type": "code",
   "execution_count": 13,
   "metadata": {
    "collapsed": false
   },
   "outputs": [],
   "source": [
    "fq_tri = file.path(out_path, 'filtered', paste0(sample_ids, '.fastq'))\n",
    "filtstats = filter_and_trim(fq_pcr, fq_tri, truncLen=trim_length, verbose=T)"
   ]
  },
  {
   "cell_type": "markdown",
   "metadata": {},
   "source": [
    "As before, the function returns the table showing the number of reads kept during the QC filtering process:"
   ]
  },
  {
   "cell_type": "code",
   "execution_count": 14,
   "metadata": {
    "collapsed": false
   },
   "outputs": [
    {
     "data": {
      "text/html": [
       "<table>\n",
       "<thead><tr><th></th><th scope=col>reads.in</th><th scope=col>reads.out</th></tr></thead>\n",
       "<tbody>\n",
       "\t<tr><th scope=row>G63225.fastq</th><td>105889</td><td> 98352</td></tr>\n",
       "\t<tr><th scope=row>G63228.fastq</th><td>128782</td><td>122382</td></tr>\n",
       "</tbody>\n",
       "</table>\n"
      ],
      "text/latex": [
       "\\begin{tabular}{r|ll}\n",
       "  & reads.in & reads.out\\\\\n",
       "\\hline\n",
       "\tG63225.fastq & 105889 &  98352\\\\\n",
       "\tG63228.fastq & 128782 & 122382\\\\\n",
       "\\end{tabular}\n"
      ],
      "text/markdown": [
       "\n",
       "| <!--/--> | reads.in | reads.out | \n",
       "|---|---|\n",
       "| G63225.fastq | 105889 |  98352 | \n",
       "| G63228.fastq | 128782 | 122382 | \n",
       "\n",
       "\n"
      ],
      "text/plain": [
       "             reads.in reads.out\n",
       "G63225.fastq 105889    98352   \n",
       "G63228.fastq 128782   122382   "
      ]
     },
     "metadata": {},
     "output_type": "display_data"
    }
   ],
   "source": [
    "filtstats"
   ]
  },
  {
   "cell_type": "markdown",
   "metadata": {},
   "source": [
    "## Denoising"
   ]
  },
  {
   "cell_type": "markdown",
   "metadata": {},
   "source": [
    "For denoising, we use `dada` function from the dada2 package. After the denoising part is done, for each partition, we retrieve pre-trimmed (after PCR removal) sequences and add their consensus sequence back. This can improve the accuracy of the alignment to the reference database in one of the next steps."
   ]
  },
  {
   "cell_type": "code",
   "execution_count": 15,
   "metadata": {
    "collapsed": false
   },
   "outputs": [
    {
     "name": "stdout",
     "output_type": "stream",
     "text": [
      "55624968 total bases in 220734 reads from 2 samples will be used for learning the error rates.\n",
      "Initializing error rates to maximum possible estimate.\n",
      "selfConsist step 1 ..\n",
      "   selfConsist step 2\n",
      "   selfConsist step 3\n",
      "   selfConsist step 4\n",
      "   selfConsist step 5\n",
      "   selfConsist step 6\n",
      "Convergence after  6  rounds.\n",
      "Sample 1 - 98352 reads in 33105 unique sequences.\n",
      "Sample 1 - 122382 reads in 37169 unique sequences.\n"
     ]
    }
   ],
   "source": [
    "dada_result = dada_denoise(fq_tri, fq_pcr)"
   ]
  },
  {
   "cell_type": "markdown",
   "metadata": {},
   "source": [
    "### Saving/restoring R variables\n",
    "Ocassionally, R might crash due to various reasons. For very long computations it is a good idea to have checkpoints and save finished computations. R variables can be saved (into compressed files) using `saveRDS` function, and loaded back using `readRDS`. For example, to save the file:"
   ]
  },
  {
   "cell_type": "code",
   "execution_count": 16,
   "metadata": {
    "collapsed": true
   },
   "outputs": [],
   "source": [
    "saveRDS(dada_result, '~/data/diabimmune/tutorial/dada_result')"
   ]
  },
  {
   "cell_type": "markdown",
   "metadata": {},
   "source": [
    "This saved `dada_result` variable to a file '~/data/diabimmune/tutorial/dada_result'. To read it back in the new R session use:"
   ]
  },
  {
   "cell_type": "code",
   "execution_count": 17,
   "metadata": {
    "collapsed": true
   },
   "outputs": [],
   "source": [
    "dada_result = readRDS('~/data/diabimmune/tutorial/dada_result')"
   ]
  },
  {
   "cell_type": "markdown",
   "metadata": {},
   "source": [
    "## Count sequences, remove bimeras, collapse sequences from multiple samples"
   ]
  },
  {
   "cell_type": "markdown",
   "metadata": {},
   "source": [
    "Next, we count the number of reads for each denoised sequence, remove chimeric (here bimeric) reads. If we work with multiple samples, we pool together denoised sequences that are identical up to shifts or length variation:"
   ]
  },
  {
   "cell_type": "code",
   "execution_count": 18,
   "metadata": {
    "collapsed": false
   },
   "outputs": [
    {
     "name": "stdout",
     "output_type": "stream",
     "text": [
      "* generating sequence table..."
     ]
    },
    {
     "name": "stderr",
     "output_type": "stream",
     "text": [
      "The sequences being tabled vary in length.\n"
     ]
    },
    {
     "name": "stdout",
     "output_type": "stream",
     "text": [
      " OK.\n",
      "* removing bimeras..."
     ]
    },
    {
     "name": "stderr",
     "output_type": "stream",
     "text": [
      "Identified 930 bimeras out of 1416 input sequences.\n"
     ]
    },
    {
     "name": "stdout",
     "output_type": "stream",
     "text": [
      " OK.\n",
      "* adding together sequences that differ in shifts on lengths...collapse:\n",
      "* generating temporary files...OK.\n",
      "* blast word size: 202 \n",
      "* running blast...blast status:  0\n",
      "OK.\n",
      "* selecting ends-free alignments...OK.\n",
      "* no sequences need collapsing.\n",
      "* cleaning up temporary files...OK.\n",
      "* returning input.\n",
      " OK.\n"
     ]
    }
   ],
   "source": [
    "ab.dt = sequence_abundance(dada_result)"
   ]
  },
  {
   "cell_type": "markdown",
   "metadata": {},
   "source": [
    "We can inspect the sequence abundance table:"
   ]
  },
  {
   "cell_type": "code",
   "execution_count": 19,
   "metadata": {
    "collapsed": false
   },
   "outputs": [
    {
     "data": {
      "text/html": [
       "<table>\n",
       "<thead><tr><th scope=col>sample_id</th><th scope=col>qseqid</th><th scope=col>raw_count</th><th scope=col>sequence</th></tr></thead>\n",
       "<tbody>\n",
       "\t<tr><td>G63225                                                                                                                                                                                                                                                       </td><td>1                                                                                                                                                                                                                                                            </td><td>25318                                                                                                                                                                                                                                                        </td><td>TACGGAGGATCCGAGCGTTATCCGGATTTATTGGGTTTAAAGGGAGCGTAGATGGATGTTTAAGTCAGTTGTGAAAGTTTGCGGCTCAACCGTAAAATTGCAGTTGATACTGGATGTCTTGAGTGCAGTTGAGGCAGGCGGAATTCGTGGTGTAGCGGTGAAATGCTTAGATATCACGAAGAACTCCGATTGCGAAGGCAGCCTGCTAAGCTGCAACTGACATTGAGGCTCGAAAGTGTGGGTATCAAACAGG</td></tr>\n",
       "\t<tr><td>G63228                                                                                                                                                                                                                                                       </td><td>1                                                                                                                                                                                                                                                            </td><td>   31                                                                                                                                                                                                                                                        </td><td>TACGGAGGATCCGAGCGTTATCCGGATTTATTGGGTTTAAAGGGAGCGTAGATGGATGTTTAAGTCAGTTGTGAAAGTTTGCGGCTCAACCGTAAAATTGCAGTTGATACTGGATGTCTTGAGTGCAGTTGAGGCAGGCGGAATTCGTGGTGTAGCGGTGAAATGCTTAGATATCACGAAGAACTCCGATTGCGAAGGCAGCCTGCTAAGCTGCAACTGACATTGAGGCTCGAAAGTGTGGGTATCAAACAGG</td></tr>\n",
       "\t<tr><td>G63225                                                                                                                                                                                                                                                       </td><td>2                                                                                                                                                                                                                                                            </td><td>    0                                                                                                                                                                                                                                                        </td><td>TACAGAGGTCTCAAGCGTTGTTCGGAATCACTGGGCGTAAAGCGTGCGTAGGCTGTTTCGTAAGTCGTGTGTGAAAGGCGCGGGCTCAACCCGCGGACGGCACATGATACTGCGAGACTAGAGTAATGGAGGGGGAACCGGAATTCTCGGTGTAGCAGTGAAATGCGTAGATATCGAGAGGAACACTCGTGGCGAAGGCGGGTTCCTGGACATTAACTGACGCTGAGGCACGAAGGCCAGGGGAGCGAAAGGG</td></tr>\n",
       "\t<tr><td>G63228                                                                                                                                                                                                                                                       </td><td>2                                                                                                                                                                                                                                                            </td><td>23179                                                                                                                                                                                                                                                        </td><td>TACAGAGGTCTCAAGCGTTGTTCGGAATCACTGGGCGTAAAGCGTGCGTAGGCTGTTTCGTAAGTCGTGTGTGAAAGGCGCGGGCTCAACCCGCGGACGGCACATGATACTGCGAGACTAGAGTAATGGAGGGGGAACCGGAATTCTCGGTGTAGCAGTGAAATGCGTAGATATCGAGAGGAACACTCGTGGCGAAGGCGGGTTCCTGGACATTAACTGACGCTGAGGCACGAAGGCCAGGGGAGCGAAAGGG</td></tr>\n",
       "\t<tr><td>G63225                                                                                                                                                                                                                                                       </td><td>3                                                                                                                                                                                                                                                            </td><td>  825                                                                                                                                                                                                                                                        </td><td>AACGTAGGTCACAAGCGTTGTCCGGAATTACTGGGTGTAAAGGGAGCGCAGGCGGGAAGACAAGTTGGAAGTGAAATCTATGGGCTCAACCCATAAACTGCTTTCAAAACTGTTTTTCTTGAGTAGTGCAGAGGTAGGCGGAATTCCCGGTGTAGCGGTGGAATGCGTAGATATCGGGAGGAACACCAGTGGCGAAGGCGGCCTACTGGGCACCAACTGACGCTGAGGCTCGAAAGTGTGGGTAGCAAACAGG</td></tr>\n",
       "\t<tr><td>G63228                                                                                                                                                                                                                                                       </td><td>3                                                                                                                                                                                                                                                            </td><td> 9932                                                                                                                                                                                                                                                        </td><td>AACGTAGGTCACAAGCGTTGTCCGGAATTACTGGGTGTAAAGGGAGCGCAGGCGGGAAGACAAGTTGGAAGTGAAATCTATGGGCTCAACCCATAAACTGCTTTCAAAACTGTTTTTCTTGAGTAGTGCAGAGGTAGGCGGAATTCCCGGTGTAGCGGTGGAATGCGTAGATATCGGGAGGAACACCAGTGGCGAAGGCGGCCTACTGGGCACCAACTGACGCTGAGGCTCGAAAGTGTGGGTAGCAAACAGG</td></tr>\n",
       "\t<tr><td>G63225                                                                                                                                                                                                                                                       </td><td>4                                                                                                                                                                                                                                                            </td><td>  413                                                                                                                                                                                                                                                        </td><td>TACGTATGGTGCAAGCGTTATCCGGATTTACTGGGTGTAAAGGGAGCGCAGGCGGTGCGGCAAGTCTGATGTGAAAGCCCGGGGCTCAACCCCGGTACTGCATTGGAAACTGTCGTACTAGAGTGTCGGAGGGGTAAGCGGAATTCCTAGTGTAGCGGTGAAATGCGTAGATATTAGGAGGAACACCAGTGGCGAAGGCGGCTTACTGGACGATAACTGACGCTGAGGCTCGAAAGCGTGGGGAGCAAACAGG</td></tr>\n",
       "\t<tr><td>G63228                                                                                                                                                                                                                                                       </td><td>4                                                                                                                                                                                                                                                            </td><td> 8417                                                                                                                                                                                                                                                        </td><td>TACGTATGGTGCAAGCGTTATCCGGATTTACTGGGTGTAAAGGGAGCGCAGGCGGTGCGGCAAGTCTGATGTGAAAGCCCGGGGCTCAACCCCGGTACTGCATTGGAAACTGTCGTACTAGAGTGTCGGAGGGGTAAGCGGAATTCCTAGTGTAGCGGTGAAATGCGTAGATATTAGGAGGAACACCAGTGGCGAAGGCGGCTTACTGGACGATAACTGACGCTGAGGCTCGAAAGCGTGGGGAGCAAACAGG</td></tr>\n",
       "\t<tr><td>G63225                                                                                                                                                                                                                                                       </td><td>5                                                                                                                                                                                                                                                            </td><td>    0                                                                                                                                                                                                                                                        </td><td>TACGGAAGGTCCGGGCGTTATCCGGATTTATTGGGTTTAAAGGGAGCGTAGGCCGGAGATTAAGCGTGTTGTGAAATGTAGACGCTCAACGTCTGCACTGCAGCGCGAACTGGTTTCCTTGAGTACGCACAAAGTGGGCGGAATTCGTGGTGTAGCGGTGAAATGCTTAGATATCACGAAGAACTCCGATTGCGAAGGCAGCTCACTGGAGCGCAACTGACGCTGAAGCTCGAAAGTGCGGGTATCGAACAGG</td></tr>\n",
       "\t<tr><td>G63228                                                                                                                                                                                                                                                       </td><td>5                                                                                                                                                                                                                                                            </td><td> 7914                                                                                                                                                                                                                                                        </td><td>TACGGAAGGTCCGGGCGTTATCCGGATTTATTGGGTTTAAAGGGAGCGTAGGCCGGAGATTAAGCGTGTTGTGAAATGTAGACGCTCAACGTCTGCACTGCAGCGCGAACTGGTTTCCTTGAGTACGCACAAAGTGGGCGGAATTCGTGGTGTAGCGGTGAAATGCTTAGATATCACGAAGAACTCCGATTGCGAAGGCAGCTCACTGGAGCGCAACTGACGCTGAAGCTCGAAAGTGCGGGTATCGAACAGG</td></tr>\n",
       "</tbody>\n",
       "</table>\n"
      ],
      "text/latex": [
       "\\begin{tabular}{r|llll}\n",
       " sample\\_id & qseqid & raw\\_count & sequence\\\\\n",
       "\\hline\n",
       "\t G63225                                                                                                                                                                                                                                                        & 1                                                                                                                                                                                                                                                             & 25318                                                                                                                                                                                                                                                         & TACGGAGGATCCGAGCGTTATCCGGATTTATTGGGTTTAAAGGGAGCGTAGATGGATGTTTAAGTCAGTTGTGAAAGTTTGCGGCTCAACCGTAAAATTGCAGTTGATACTGGATGTCTTGAGTGCAGTTGAGGCAGGCGGAATTCGTGGTGTAGCGGTGAAATGCTTAGATATCACGAAGAACTCCGATTGCGAAGGCAGCCTGCTAAGCTGCAACTGACATTGAGGCTCGAAAGTGTGGGTATCAAACAGG\\\\\n",
       "\t G63228                                                                                                                                                                                                                                                        & 1                                                                                                                                                                                                                                                             &    31                                                                                                                                                                                                                                                         & TACGGAGGATCCGAGCGTTATCCGGATTTATTGGGTTTAAAGGGAGCGTAGATGGATGTTTAAGTCAGTTGTGAAAGTTTGCGGCTCAACCGTAAAATTGCAGTTGATACTGGATGTCTTGAGTGCAGTTGAGGCAGGCGGAATTCGTGGTGTAGCGGTGAAATGCTTAGATATCACGAAGAACTCCGATTGCGAAGGCAGCCTGCTAAGCTGCAACTGACATTGAGGCTCGAAAGTGTGGGTATCAAACAGG\\\\\n",
       "\t G63225                                                                                                                                                                                                                                                        & 2                                                                                                                                                                                                                                                             &     0                                                                                                                                                                                                                                                         & TACAGAGGTCTCAAGCGTTGTTCGGAATCACTGGGCGTAAAGCGTGCGTAGGCTGTTTCGTAAGTCGTGTGTGAAAGGCGCGGGCTCAACCCGCGGACGGCACATGATACTGCGAGACTAGAGTAATGGAGGGGGAACCGGAATTCTCGGTGTAGCAGTGAAATGCGTAGATATCGAGAGGAACACTCGTGGCGAAGGCGGGTTCCTGGACATTAACTGACGCTGAGGCACGAAGGCCAGGGGAGCGAAAGGG\\\\\n",
       "\t G63228                                                                                                                                                                                                                                                        & 2                                                                                                                                                                                                                                                             & 23179                                                                                                                                                                                                                                                         & TACAGAGGTCTCAAGCGTTGTTCGGAATCACTGGGCGTAAAGCGTGCGTAGGCTGTTTCGTAAGTCGTGTGTGAAAGGCGCGGGCTCAACCCGCGGACGGCACATGATACTGCGAGACTAGAGTAATGGAGGGGGAACCGGAATTCTCGGTGTAGCAGTGAAATGCGTAGATATCGAGAGGAACACTCGTGGCGAAGGCGGGTTCCTGGACATTAACTGACGCTGAGGCACGAAGGCCAGGGGAGCGAAAGGG\\\\\n",
       "\t G63225                                                                                                                                                                                                                                                        & 3                                                                                                                                                                                                                                                             &   825                                                                                                                                                                                                                                                         & AACGTAGGTCACAAGCGTTGTCCGGAATTACTGGGTGTAAAGGGAGCGCAGGCGGGAAGACAAGTTGGAAGTGAAATCTATGGGCTCAACCCATAAACTGCTTTCAAAACTGTTTTTCTTGAGTAGTGCAGAGGTAGGCGGAATTCCCGGTGTAGCGGTGGAATGCGTAGATATCGGGAGGAACACCAGTGGCGAAGGCGGCCTACTGGGCACCAACTGACGCTGAGGCTCGAAAGTGTGGGTAGCAAACAGG\\\\\n",
       "\t G63228                                                                                                                                                                                                                                                        & 3                                                                                                                                                                                                                                                             &  9932                                                                                                                                                                                                                                                         & AACGTAGGTCACAAGCGTTGTCCGGAATTACTGGGTGTAAAGGGAGCGCAGGCGGGAAGACAAGTTGGAAGTGAAATCTATGGGCTCAACCCATAAACTGCTTTCAAAACTGTTTTTCTTGAGTAGTGCAGAGGTAGGCGGAATTCCCGGTGTAGCGGTGGAATGCGTAGATATCGGGAGGAACACCAGTGGCGAAGGCGGCCTACTGGGCACCAACTGACGCTGAGGCTCGAAAGTGTGGGTAGCAAACAGG\\\\\n",
       "\t G63225                                                                                                                                                                                                                                                        & 4                                                                                                                                                                                                                                                             &   413                                                                                                                                                                                                                                                         & TACGTATGGTGCAAGCGTTATCCGGATTTACTGGGTGTAAAGGGAGCGCAGGCGGTGCGGCAAGTCTGATGTGAAAGCCCGGGGCTCAACCCCGGTACTGCATTGGAAACTGTCGTACTAGAGTGTCGGAGGGGTAAGCGGAATTCCTAGTGTAGCGGTGAAATGCGTAGATATTAGGAGGAACACCAGTGGCGAAGGCGGCTTACTGGACGATAACTGACGCTGAGGCTCGAAAGCGTGGGGAGCAAACAGG\\\\\n",
       "\t G63228                                                                                                                                                                                                                                                        & 4                                                                                                                                                                                                                                                             &  8417                                                                                                                                                                                                                                                         & TACGTATGGTGCAAGCGTTATCCGGATTTACTGGGTGTAAAGGGAGCGCAGGCGGTGCGGCAAGTCTGATGTGAAAGCCCGGGGCTCAACCCCGGTACTGCATTGGAAACTGTCGTACTAGAGTGTCGGAGGGGTAAGCGGAATTCCTAGTGTAGCGGTGAAATGCGTAGATATTAGGAGGAACACCAGTGGCGAAGGCGGCTTACTGGACGATAACTGACGCTGAGGCTCGAAAGCGTGGGGAGCAAACAGG\\\\\n",
       "\t G63225                                                                                                                                                                                                                                                        & 5                                                                                                                                                                                                                                                             &     0                                                                                                                                                                                                                                                         & TACGGAAGGTCCGGGCGTTATCCGGATTTATTGGGTTTAAAGGGAGCGTAGGCCGGAGATTAAGCGTGTTGTGAAATGTAGACGCTCAACGTCTGCACTGCAGCGCGAACTGGTTTCCTTGAGTACGCACAAAGTGGGCGGAATTCGTGGTGTAGCGGTGAAATGCTTAGATATCACGAAGAACTCCGATTGCGAAGGCAGCTCACTGGAGCGCAACTGACGCTGAAGCTCGAAAGTGCGGGTATCGAACAGG\\\\\n",
       "\t G63228                                                                                                                                                                                                                                                        & 5                                                                                                                                                                                                                                                             &  7914                                                                                                                                                                                                                                                         & TACGGAAGGTCCGGGCGTTATCCGGATTTATTGGGTTTAAAGGGAGCGTAGGCCGGAGATTAAGCGTGTTGTGAAATGTAGACGCTCAACGTCTGCACTGCAGCGCGAACTGGTTTCCTTGAGTACGCACAAAGTGGGCGGAATTCGTGGTGTAGCGGTGAAATGCTTAGATATCACGAAGAACTCCGATTGCGAAGGCAGCTCACTGGAGCGCAACTGACGCTGAAGCTCGAAAGTGCGGGTATCGAACAGG\\\\\n",
       "\\end{tabular}\n"
      ],
      "text/markdown": [
       "\n",
       "sample_id | qseqid | raw_count | sequence | \n",
       "|---|---|---|---|---|---|---|---|---|---|\n",
       "| G63225                                                                                                                                                                                                                                                        | 1                                                                                                                                                                                                                                                             | 25318                                                                                                                                                                                                                                                         | TACGGAGGATCCGAGCGTTATCCGGATTTATTGGGTTTAAAGGGAGCGTAGATGGATGTTTAAGTCAGTTGTGAAAGTTTGCGGCTCAACCGTAAAATTGCAGTTGATACTGGATGTCTTGAGTGCAGTTGAGGCAGGCGGAATTCGTGGTGTAGCGGTGAAATGCTTAGATATCACGAAGAACTCCGATTGCGAAGGCAGCCTGCTAAGCTGCAACTGACATTGAGGCTCGAAAGTGTGGGTATCAAACAGG | \n",
       "| G63228                                                                                                                                                                                                                                                        | 1                                                                                                                                                                                                                                                             |    31                                                                                                                                                                                                                                                         | TACGGAGGATCCGAGCGTTATCCGGATTTATTGGGTTTAAAGGGAGCGTAGATGGATGTTTAAGTCAGTTGTGAAAGTTTGCGGCTCAACCGTAAAATTGCAGTTGATACTGGATGTCTTGAGTGCAGTTGAGGCAGGCGGAATTCGTGGTGTAGCGGTGAAATGCTTAGATATCACGAAGAACTCCGATTGCGAAGGCAGCCTGCTAAGCTGCAACTGACATTGAGGCTCGAAAGTGTGGGTATCAAACAGG | \n",
       "| G63225                                                                                                                                                                                                                                                        | 2                                                                                                                                                                                                                                                             |     0                                                                                                                                                                                                                                                         | TACAGAGGTCTCAAGCGTTGTTCGGAATCACTGGGCGTAAAGCGTGCGTAGGCTGTTTCGTAAGTCGTGTGTGAAAGGCGCGGGCTCAACCCGCGGACGGCACATGATACTGCGAGACTAGAGTAATGGAGGGGGAACCGGAATTCTCGGTGTAGCAGTGAAATGCGTAGATATCGAGAGGAACACTCGTGGCGAAGGCGGGTTCCTGGACATTAACTGACGCTGAGGCACGAAGGCCAGGGGAGCGAAAGGG | \n",
       "| G63228                                                                                                                                                                                                                                                        | 2                                                                                                                                                                                                                                                             | 23179                                                                                                                                                                                                                                                         | TACAGAGGTCTCAAGCGTTGTTCGGAATCACTGGGCGTAAAGCGTGCGTAGGCTGTTTCGTAAGTCGTGTGTGAAAGGCGCGGGCTCAACCCGCGGACGGCACATGATACTGCGAGACTAGAGTAATGGAGGGGGAACCGGAATTCTCGGTGTAGCAGTGAAATGCGTAGATATCGAGAGGAACACTCGTGGCGAAGGCGGGTTCCTGGACATTAACTGACGCTGAGGCACGAAGGCCAGGGGAGCGAAAGGG | \n",
       "| G63225                                                                                                                                                                                                                                                        | 3                                                                                                                                                                                                                                                             |   825                                                                                                                                                                                                                                                         | AACGTAGGTCACAAGCGTTGTCCGGAATTACTGGGTGTAAAGGGAGCGCAGGCGGGAAGACAAGTTGGAAGTGAAATCTATGGGCTCAACCCATAAACTGCTTTCAAAACTGTTTTTCTTGAGTAGTGCAGAGGTAGGCGGAATTCCCGGTGTAGCGGTGGAATGCGTAGATATCGGGAGGAACACCAGTGGCGAAGGCGGCCTACTGGGCACCAACTGACGCTGAGGCTCGAAAGTGTGGGTAGCAAACAGG | \n",
       "| G63228                                                                                                                                                                                                                                                        | 3                                                                                                                                                                                                                                                             |  9932                                                                                                                                                                                                                                                         | AACGTAGGTCACAAGCGTTGTCCGGAATTACTGGGTGTAAAGGGAGCGCAGGCGGGAAGACAAGTTGGAAGTGAAATCTATGGGCTCAACCCATAAACTGCTTTCAAAACTGTTTTTCTTGAGTAGTGCAGAGGTAGGCGGAATTCCCGGTGTAGCGGTGGAATGCGTAGATATCGGGAGGAACACCAGTGGCGAAGGCGGCCTACTGGGCACCAACTGACGCTGAGGCTCGAAAGTGTGGGTAGCAAACAGG | \n",
       "| G63225                                                                                                                                                                                                                                                        | 4                                                                                                                                                                                                                                                             |   413                                                                                                                                                                                                                                                         | TACGTATGGTGCAAGCGTTATCCGGATTTACTGGGTGTAAAGGGAGCGCAGGCGGTGCGGCAAGTCTGATGTGAAAGCCCGGGGCTCAACCCCGGTACTGCATTGGAAACTGTCGTACTAGAGTGTCGGAGGGGTAAGCGGAATTCCTAGTGTAGCGGTGAAATGCGTAGATATTAGGAGGAACACCAGTGGCGAAGGCGGCTTACTGGACGATAACTGACGCTGAGGCTCGAAAGCGTGGGGAGCAAACAGG | \n",
       "| G63228                                                                                                                                                                                                                                                        | 4                                                                                                                                                                                                                                                             |  8417                                                                                                                                                                                                                                                         | TACGTATGGTGCAAGCGTTATCCGGATTTACTGGGTGTAAAGGGAGCGCAGGCGGTGCGGCAAGTCTGATGTGAAAGCCCGGGGCTCAACCCCGGTACTGCATTGGAAACTGTCGTACTAGAGTGTCGGAGGGGTAAGCGGAATTCCTAGTGTAGCGGTGAAATGCGTAGATATTAGGAGGAACACCAGTGGCGAAGGCGGCTTACTGGACGATAACTGACGCTGAGGCTCGAAAGCGTGGGGAGCAAACAGG | \n",
       "| G63225                                                                                                                                                                                                                                                        | 5                                                                                                                                                                                                                                                             |     0                                                                                                                                                                                                                                                         | TACGGAAGGTCCGGGCGTTATCCGGATTTATTGGGTTTAAAGGGAGCGTAGGCCGGAGATTAAGCGTGTTGTGAAATGTAGACGCTCAACGTCTGCACTGCAGCGCGAACTGGTTTCCTTGAGTACGCACAAAGTGGGCGGAATTCGTGGTGTAGCGGTGAAATGCTTAGATATCACGAAGAACTCCGATTGCGAAGGCAGCTCACTGGAGCGCAACTGACGCTGAAGCTCGAAAGTGCGGGTATCGAACAGG | \n",
       "| G63228                                                                                                                                                                                                                                                        | 5                                                                                                                                                                                                                                                             |  7914                                                                                                                                                                                                                                                         | TACGGAAGGTCCGGGCGTTATCCGGATTTATTGGGTTTAAAGGGAGCGTAGGCCGGAGATTAAGCGTGTTGTGAAATGTAGACGCTCAACGTCTGCACTGCAGCGCGAACTGGTTTCCTTGAGTACGCACAAAGTGGGCGGAATTCGTGGTGTAGCGGTGAAATGCTTAGATATCACGAAGAACTCCGATTGCGAAGGCAGCTCACTGGAGCGCAACTGACGCTGAAGCTCGAAAGTGCGGGTATCGAACAGG | \n",
       "\n",
       "\n"
      ],
      "text/plain": [
       "   sample_id qseqid raw_count\n",
       "1  G63225    1      25318    \n",
       "2  G63228    1         31    \n",
       "3  G63225    2          0    \n",
       "4  G63228    2      23179    \n",
       "5  G63225    3        825    \n",
       "6  G63228    3       9932    \n",
       "7  G63225    4        413    \n",
       "8  G63228    4       8417    \n",
       "9  G63225    5          0    \n",
       "10 G63228    5       7914    \n",
       "   sequence                                                                                                                                                                                                                                                     \n",
       "1  TACGGAGGATCCGAGCGTTATCCGGATTTATTGGGTTTAAAGGGAGCGTAGATGGATGTTTAAGTCAGTTGTGAAAGTTTGCGGCTCAACCGTAAAATTGCAGTTGATACTGGATGTCTTGAGTGCAGTTGAGGCAGGCGGAATTCGTGGTGTAGCGGTGAAATGCTTAGATATCACGAAGAACTCCGATTGCGAAGGCAGCCTGCTAAGCTGCAACTGACATTGAGGCTCGAAAGTGTGGGTATCAAACAGG\n",
       "2  TACGGAGGATCCGAGCGTTATCCGGATTTATTGGGTTTAAAGGGAGCGTAGATGGATGTTTAAGTCAGTTGTGAAAGTTTGCGGCTCAACCGTAAAATTGCAGTTGATACTGGATGTCTTGAGTGCAGTTGAGGCAGGCGGAATTCGTGGTGTAGCGGTGAAATGCTTAGATATCACGAAGAACTCCGATTGCGAAGGCAGCCTGCTAAGCTGCAACTGACATTGAGGCTCGAAAGTGTGGGTATCAAACAGG\n",
       "3  TACAGAGGTCTCAAGCGTTGTTCGGAATCACTGGGCGTAAAGCGTGCGTAGGCTGTTTCGTAAGTCGTGTGTGAAAGGCGCGGGCTCAACCCGCGGACGGCACATGATACTGCGAGACTAGAGTAATGGAGGGGGAACCGGAATTCTCGGTGTAGCAGTGAAATGCGTAGATATCGAGAGGAACACTCGTGGCGAAGGCGGGTTCCTGGACATTAACTGACGCTGAGGCACGAAGGCCAGGGGAGCGAAAGGG\n",
       "4  TACAGAGGTCTCAAGCGTTGTTCGGAATCACTGGGCGTAAAGCGTGCGTAGGCTGTTTCGTAAGTCGTGTGTGAAAGGCGCGGGCTCAACCCGCGGACGGCACATGATACTGCGAGACTAGAGTAATGGAGGGGGAACCGGAATTCTCGGTGTAGCAGTGAAATGCGTAGATATCGAGAGGAACACTCGTGGCGAAGGCGGGTTCCTGGACATTAACTGACGCTGAGGCACGAAGGCCAGGGGAGCGAAAGGG\n",
       "5  AACGTAGGTCACAAGCGTTGTCCGGAATTACTGGGTGTAAAGGGAGCGCAGGCGGGAAGACAAGTTGGAAGTGAAATCTATGGGCTCAACCCATAAACTGCTTTCAAAACTGTTTTTCTTGAGTAGTGCAGAGGTAGGCGGAATTCCCGGTGTAGCGGTGGAATGCGTAGATATCGGGAGGAACACCAGTGGCGAAGGCGGCCTACTGGGCACCAACTGACGCTGAGGCTCGAAAGTGTGGGTAGCAAACAGG\n",
       "6  AACGTAGGTCACAAGCGTTGTCCGGAATTACTGGGTGTAAAGGGAGCGCAGGCGGGAAGACAAGTTGGAAGTGAAATCTATGGGCTCAACCCATAAACTGCTTTCAAAACTGTTTTTCTTGAGTAGTGCAGAGGTAGGCGGAATTCCCGGTGTAGCGGTGGAATGCGTAGATATCGGGAGGAACACCAGTGGCGAAGGCGGCCTACTGGGCACCAACTGACGCTGAGGCTCGAAAGTGTGGGTAGCAAACAGG\n",
       "7  TACGTATGGTGCAAGCGTTATCCGGATTTACTGGGTGTAAAGGGAGCGCAGGCGGTGCGGCAAGTCTGATGTGAAAGCCCGGGGCTCAACCCCGGTACTGCATTGGAAACTGTCGTACTAGAGTGTCGGAGGGGTAAGCGGAATTCCTAGTGTAGCGGTGAAATGCGTAGATATTAGGAGGAACACCAGTGGCGAAGGCGGCTTACTGGACGATAACTGACGCTGAGGCTCGAAAGCGTGGGGAGCAAACAGG\n",
       "8  TACGTATGGTGCAAGCGTTATCCGGATTTACTGGGTGTAAAGGGAGCGCAGGCGGTGCGGCAAGTCTGATGTGAAAGCCCGGGGCTCAACCCCGGTACTGCATTGGAAACTGTCGTACTAGAGTGTCGGAGGGGTAAGCGGAATTCCTAGTGTAGCGGTGAAATGCGTAGATATTAGGAGGAACACCAGTGGCGAAGGCGGCTTACTGGACGATAACTGACGCTGAGGCTCGAAAGCGTGGGGAGCAAACAGG\n",
       "9  TACGGAAGGTCCGGGCGTTATCCGGATTTATTGGGTTTAAAGGGAGCGTAGGCCGGAGATTAAGCGTGTTGTGAAATGTAGACGCTCAACGTCTGCACTGCAGCGCGAACTGGTTTCCTTGAGTACGCACAAAGTGGGCGGAATTCGTGGTGTAGCGGTGAAATGCTTAGATATCACGAAGAACTCCGATTGCGAAGGCAGCTCACTGGAGCGCAACTGACGCTGAAGCTCGAAAGTGCGGGTATCGAACAGG\n",
       "10 TACGGAAGGTCCGGGCGTTATCCGGATTTATTGGGTTTAAAGGGAGCGTAGGCCGGAGATTAAGCGTGTTGTGAAATGTAGACGCTCAACGTCTGCACTGCAGCGCGAACTGGTTTCCTTGAGTACGCACAAAGTGGGCGGAATTCGTGGTGTAGCGGTGAAATGCTTAGATATCACGAAGAACTCCGATTGCGAAGGCAGCTCACTGGAGCGCAACTGACGCTGAAGCTCGAAAGTGCGGGTATCGAACAGG"
      ]
     },
     "metadata": {},
     "output_type": "display_data"
    }
   ],
   "source": [
    "head(ab.dt, 10)"
   ]
  },
  {
   "cell_type": "markdown",
   "metadata": {},
   "source": [
    "where `sample_id` denotes our sample identifiers, `qseqid` are just integers enumerating unique sequences and `raw_count` is the total number of reads in each sample for that sequence.\n",
    "\n",
    "Generally, large number of unique sequences are identified by bimeras, however they should not make up a large fraction of total counts. Here we have:"
   ]
  },
  {
   "cell_type": "code",
   "execution_count": 20,
   "metadata": {
    "collapsed": false
   },
   "outputs": [
    {
     "data": {
      "text/html": [
       "195313"
      ],
      "text/latex": [
       "195313"
      ],
      "text/markdown": [
       "195313"
      ],
      "text/plain": [
       "[1] 195313"
      ]
     },
     "metadata": {},
     "output_type": "display_data"
    }
   ],
   "source": [
    "ab.dt[, sum(raw_count)]"
   ]
  },
  {
   "cell_type": "markdown",
   "metadata": {},
   "source": [
    "reads, and without bimera removal we would have:"
   ]
  },
  {
   "cell_type": "code",
   "execution_count": 21,
   "metadata": {
    "collapsed": false
   },
   "outputs": [
    {
     "name": "stdout",
     "output_type": "stream",
     "text": [
      "* generating sequence table..."
     ]
    },
    {
     "name": "stderr",
     "output_type": "stream",
     "text": [
      "The sequences being tabled vary in length.\n"
     ]
    },
    {
     "name": "stdout",
     "output_type": "stream",
     "text": [
      " OK.\n",
      "* adding together sequences that differ in shifts on lengths...collapse:\n",
      "* generating temporary files...OK.\n",
      "* blast word size: 202 \n",
      "* running blast...blast status:  0\n",
      "OK.\n",
      "* selecting ends-free alignments...OK.\n",
      "* no sequences need collapsing.\n",
      "* cleaning up temporary files...OK.\n",
      "* returning input.\n",
      " OK.\n"
     ]
    }
   ],
   "source": [
    "ab_with_bimera.dt = sequence_abundance(dada_result, remove_bimeras=F)"
   ]
  },
  {
   "cell_type": "code",
   "execution_count": 22,
   "metadata": {
    "collapsed": false
   },
   "outputs": [
    {
     "data": {
      "text/html": [
       "220258"
      ],
      "text/latex": [
       "220258"
      ],
      "text/markdown": [
       "220258"
      ],
      "text/plain": [
       "[1] 220258"
      ]
     },
     "metadata": {},
     "output_type": "display_data"
    }
   ],
   "source": [
    "ab_with_bimera.dt[, sum(raw_count)]"
   ]
  },
  {
   "cell_type": "markdown",
   "metadata": {},
   "source": [
    "So about 11% of the reads are bimeric by abundance, and about 66% (930 out of 1416) of all unique sequences."
   ]
  },
  {
   "cell_type": "markdown",
   "metadata": {},
   "source": [
    "## Align sequences vs reference database"
   ]
  },
  {
   "cell_type": "markdown",
   "metadata": {},
   "source": [
    "Now that we have a final list of sequences, we align these sequences to the reference database. We BLAST these sequences against our V4 region HiMAP database:"
   ]
  },
  {
   "cell_type": "code",
   "execution_count": 23,
   "metadata": {
    "collapsed": false
   },
   "outputs": [
    {
     "name": "stdout",
     "output_type": "stream",
     "text": [
      "* blast input type: abundance table\n",
      "* blast out: OK. blast best: OK. copy number table: OK.\n",
      "merge: OK. Fix overhang differences:..OK. OK.\n"
     ]
    }
   ],
   "source": [
    "blast_output = blast(ab.dt, region='V4', verbose=T)"
   ]
  },
  {
   "cell_type": "markdown",
   "metadata": {},
   "source": [
    "## Calculate OSU abundances"
   ]
  },
  {
   "cell_type": "markdown",
   "metadata": {},
   "source": [
    "We then use sequence abundance table `ab.dt` and `blast_output` to infer OSUs: "
   ]
  },
  {
   "cell_type": "code",
   "execution_count": 24,
   "metadata": {
    "collapsed": false
   },
   "outputs": [],
   "source": [
    "osu_ab.dt = abundance(ab.dt, blast_output)"
   ]
  },
  {
   "cell_type": "code",
   "execution_count": 25,
   "metadata": {
    "collapsed": false
   },
   "outputs": [
    {
     "data": {
      "text/html": [
       "<table>\n",
       "<thead><tr><th scope=col>sample_id</th><th scope=col>osu_id</th><th scope=col>osu_count</th><th scope=col>pctsim</th><th scope=col>species</th></tr></thead>\n",
       "<tbody>\n",
       "\t<tr><td>G63225                                                                                                                                                                                                                                                                </td><td>   2844                                                                                                                                                                                                                                                               </td><td>8439                                                                                                                                                                                                                                                                  </td><td>100.00                                                                                                                                                                                                                                                                </td><td>Bacteroides_dorei_DSM_17855,Bacteroides_sp._9_1_42FAA,Bacteroides_dorei_5_1_36/D4,Bacteroides_sp._3_1_33FAA,Bacteroides_dorei_An16,Bacteroides_dorei_An41,Bacteroides_dorei_175,Bacteroides_dorei_CL02T00C15,Bacteroides_dorei_CL02T12C06,Bacteroides_dorei_CL03T12C01</td></tr>\n",
       "\t<tr><td>G63225                                                                                                                                                                                                                                                                </td><td>   3274                                                                                                                                                                                                                                                               </td><td>7165                                                                                                                                                                                                                                                                  </td><td>100.00                                                                                                                                                                                                                                                                </td><td>Bacteroides_ovatus_SD_CMC_3f,Bacteroides_ovatus_3725_D9_iii,Bacteroides_ovatus_CL09T03C03,Bacteroides_ovatus_KLE1656,Bacteroides_sp._KFT8                                                                                                                             </td></tr>\n",
       "\t<tr><td>G63225                                                                                                                                                                                                                                                                </td><td>1000009                                                                                                                                                                                                                                                               </td><td>4172                                                                                                                                                                                                                                                                  </td><td> 95.26                                                                                                                                                                                                                                                                </td><td>Ruminococcus_bicirculans_80/3                                                                                                                                                                                                                                         </td></tr>\n",
       "\t<tr><td>G63225                                                                                                                                                                                                                                                                </td><td>   2627                                                                                                                                                                                                                                                               </td><td>3881                                                                                                                                                                                                                                                                  </td><td>100.00                                                                                                                                                                                                                                                                </td><td>Burkholderiales_bacterium_1_1_47,Parasutterella_excrementihominis_YIT_11859                                                                                                                                                                                           </td></tr>\n",
       "\t<tr><td>G63225                                                                                                                                                                                                                                                                </td><td>   2791                                                                                                                                                                                                                                                               </td><td>2128                                                                                                                                                                                                                                                                  </td><td>100.00                                                                                                                                                                                                                                                                </td><td>Alistipes_putredinis_DSM_17216,Alistipes_putredinis_JCM_16772                                                                                                                                                                                                         </td></tr>\n",
       "\t<tr><td>G63225                                                                                                                                                                                                                                                                </td><td>   2954                                                                                                                                                                                                                                                               </td><td>2107                                                                                                                                                                                                                                                                  </td><td>100.00                                                                                                                                                                                                                                                                </td><td>Dialister_invisus_DSM_15470,Dialister_invisus_E7.25,Dialister_invisus_JCM_17566                                                                                                                                                                                       </td></tr>\n",
       "\t<tr><td>G63225                                                                                                                                                                                                                                                                </td><td>   6799                                                                                                                                                                                                                                                               </td><td>1976                                                                                                                                                                                                                                                                  </td><td>100.00                                                                                                                                                                                                                                                                </td><td>Oscillibacter_sp._ER4                                                                                                                                                                                                                                                 </td></tr>\n",
       "\t<tr><td>G63225                                                                                                                                                                                                                                                                </td><td>   5660                                                                                                                                                                                                                                                               </td><td>1939                                                                                                                                                                                                                                                                  </td><td>100.00                                                                                                                                                                                                                                                                </td><td>Oscillibacter_sp._KLE_1728,Oscillibacter_sp._KLE_1745,Oscillospiraceae_bacterium_VE202-24                                                                                                                                                                             </td></tr>\n",
       "\t<tr><td>G63225                                                                                                                                                                                                                                                                </td><td>   7746                                                                                                                                                                                                                                                               </td><td>1743                                                                                                                                                                                                                                                                  </td><td>100.00                                                                                                                                                                                                                                                                </td><td>Faecalibacterium_prausnitzii_2789STDY5608869,Faecalibacterium_prausnitzii_CNCM_I_4575                                                                                                                                                                                 </td></tr>\n",
       "\t<tr><td>G63225                                                                                                                                                                                                                                                                </td><td>1000023                                                                                                                                                                                                                                                               </td><td>1586                                                                                                                                                                                                                                                                  </td><td> 99.60                                                                                                                                                                                                                                                                </td><td>Burkholderiales_bacterium_1_1_47,Parasutterella_excrementihominis_YIT_11859                                                                                                                                                                                           </td></tr>\n",
       "</tbody>\n",
       "</table>\n"
      ],
      "text/latex": [
       "\\begin{tabular}{r|lllll}\n",
       " sample\\_id & osu\\_id & osu\\_count & pctsim & species\\\\\n",
       "\\hline\n",
       "\t G63225                                                                                                                                                                                                                                                                                                                       &    2844                                                                                                                                                                                                                                                                                                                      & 8439                                                                                                                                                                                                                                                                                                                         & 100.00                                                                                                                                                                                                                                                                                                                       & Bacteroides\\_dorei\\_DSM\\_17855,Bacteroides\\_sp.\\_9\\_1\\_42FAA,Bacteroides\\_dorei\\_5\\_1\\_36/D4,Bacteroides\\_sp.\\_3\\_1\\_33FAA,Bacteroides\\_dorei\\_An16,Bacteroides\\_dorei\\_An41,Bacteroides\\_dorei\\_175,Bacteroides\\_dorei\\_CL02T00C15,Bacteroides\\_dorei\\_CL02T12C06,Bacteroides\\_dorei\\_CL03T12C01\\\\\n",
       "\t G63225                                                                                                                                                                                                                                                                                             &    3274                                                                                                                                                                                                                                                                                            & 7165                                                                                                                                                                                                                                                                                               & 100.00                                                                                                                                                                                                                                                                                             & Bacteroides\\_ovatus\\_SD\\_CMC\\_3f,Bacteroides\\_ovatus\\_3725\\_D9\\_iii,Bacteroides\\_ovatus\\_CL09T03C03,Bacteroides\\_ovatus\\_KLE1656,Bacteroides\\_sp.\\_KFT8                                                                                                                             \\\\\n",
       "\t G63225                                                                                                                                                                                                                                                                     & 1000009                                                                                                                                                                                                                                                                    & 4172                                                                                                                                                                                                                                                                       &  95.26                                                                                                                                                                                                                                                                     & Ruminococcus\\_bicirculans\\_80/3                                                                                                                                                                                                                                         \\\\\n",
       "\t G63225                                                                                                                                                                                                                                                                               &    2627                                                                                                                                                                                                                                                                              & 3881                                                                                                                                                                                                                                                                                 & 100.00                                                                                                                                                                                                                                                                               & Burkholderiales\\_bacterium\\_1\\_1\\_47,Parasutterella\\_excrementihominis\\_YIT\\_11859                                                                                                                                                                                           \\\\\n",
       "\t G63225                                                                                                                                                                                                                                                                             &    2791                                                                                                                                                                                                                                                                            & 2128                                                                                                                                                                                                                                                                               & 100.00                                                                                                                                                                                                                                                                             & Alistipes\\_putredinis\\_DSM\\_17216,Alistipes\\_putredinis\\_JCM\\_16772                                                                                                                                                                                                         \\\\\n",
       "\t G63225                                                                                                                                                                                                                                                                                 &    2954                                                                                                                                                                                                                                                                                & 2107                                                                                                                                                                                                                                                                                   & 100.00                                                                                                                                                                                                                                                                                 & Dialister\\_invisus\\_DSM\\_15470,Dialister\\_invisus\\_E7.25,Dialister\\_invisus\\_JCM\\_17566                                                                                                                                                                                       \\\\\n",
       "\t G63225                                                                                                                                                                                                                                                                     &    6799                                                                                                                                                                                                                                                                    & 1976                                                                                                                                                                                                                                                                       & 100.00                                                                                                                                                                                                                                                                     & Oscillibacter\\_sp.\\_ER4                                                                                                                                                                                                                                                 \\\\\n",
       "\t G63225                                                                                                                                                                                                                                                                                 &    5660                                                                                                                                                                                                                                                                                & 1939                                                                                                                                                                                                                                                                                   & 100.00                                                                                                                                                                                                                                                                                 & Oscillibacter\\_sp.\\_KLE\\_1728,Oscillibacter\\_sp.\\_KLE\\_1745,Oscillospiraceae\\_bacterium\\_VE202-24                                                                                                                                                                             \\\\\n",
       "\t G63225                                                                                                                                                                                                                                                                             &    7746                                                                                                                                                                                                                                                                            & 1743                                                                                                                                                                                                                                                                               & 100.00                                                                                                                                                                                                                                                                             & Faecalibacterium\\_prausnitzii\\_2789STDY5608869,Faecalibacterium\\_prausnitzii\\_CNCM\\_I\\_4575                                                                                                                                                                                 \\\\\n",
       "\t G63225                                                                                                                                                                                                                                                                               & 1000023                                                                                                                                                                                                                                                                              & 1586                                                                                                                                                                                                                                                                                 &  99.60                                                                                                                                                                                                                                                                               & Burkholderiales\\_bacterium\\_1\\_1\\_47,Parasutterella\\_excrementihominis\\_YIT\\_11859                                                                                                                                                                                           \\\\\n",
       "\\end{tabular}\n"
      ],
      "text/markdown": [
       "\n",
       "sample_id | osu_id | osu_count | pctsim | species | \n",
       "|---|---|---|---|---|---|---|---|---|---|\n",
       "| G63225                                                                                                                                                                                                                                                                 |    2844                                                                                                                                                                                                                                                                | 8439                                                                                                                                                                                                                                                                   | 100.00                                                                                                                                                                                                                                                                 | Bacteroides_dorei_DSM_17855,Bacteroides_sp._9_1_42FAA,Bacteroides_dorei_5_1_36/D4,Bacteroides_sp._3_1_33FAA,Bacteroides_dorei_An16,Bacteroides_dorei_An41,Bacteroides_dorei_175,Bacteroides_dorei_CL02T00C15,Bacteroides_dorei_CL02T12C06,Bacteroides_dorei_CL03T12C01 | \n",
       "| G63225                                                                                                                                                                                                                                                                 |    3274                                                                                                                                                                                                                                                                | 7165                                                                                                                                                                                                                                                                   | 100.00                                                                                                                                                                                                                                                                 | Bacteroides_ovatus_SD_CMC_3f,Bacteroides_ovatus_3725_D9_iii,Bacteroides_ovatus_CL09T03C03,Bacteroides_ovatus_KLE1656,Bacteroides_sp._KFT8                                                                                                                              | \n",
       "| G63225                                                                                                                                                                                                                                                                 | 1000009                                                                                                                                                                                                                                                                | 4172                                                                                                                                                                                                                                                                   |  95.26                                                                                                                                                                                                                                                                 | Ruminococcus_bicirculans_80/3                                                                                                                                                                                                                                          | \n",
       "| G63225                                                                                                                                                                                                                                                                 |    2627                                                                                                                                                                                                                                                                | 3881                                                                                                                                                                                                                                                                   | 100.00                                                                                                                                                                                                                                                                 | Burkholderiales_bacterium_1_1_47,Parasutterella_excrementihominis_YIT_11859                                                                                                                                                                                            | \n",
       "| G63225                                                                                                                                                                                                                                                                 |    2791                                                                                                                                                                                                                                                                | 2128                                                                                                                                                                                                                                                                   | 100.00                                                                                                                                                                                                                                                                 | Alistipes_putredinis_DSM_17216,Alistipes_putredinis_JCM_16772                                                                                                                                                                                                          | \n",
       "| G63225                                                                                                                                                                                                                                                                 |    2954                                                                                                                                                                                                                                                                | 2107                                                                                                                                                                                                                                                                   | 100.00                                                                                                                                                                                                                                                                 | Dialister_invisus_DSM_15470,Dialister_invisus_E7.25,Dialister_invisus_JCM_17566                                                                                                                                                                                        | \n",
       "| G63225                                                                                                                                                                                                                                                                 |    6799                                                                                                                                                                                                                                                                | 1976                                                                                                                                                                                                                                                                   | 100.00                                                                                                                                                                                                                                                                 | Oscillibacter_sp._ER4                                                                                                                                                                                                                                                  | \n",
       "| G63225                                                                                                                                                                                                                                                                 |    5660                                                                                                                                                                                                                                                                | 1939                                                                                                                                                                                                                                                                   | 100.00                                                                                                                                                                                                                                                                 | Oscillibacter_sp._KLE_1728,Oscillibacter_sp._KLE_1745,Oscillospiraceae_bacterium_VE202-24                                                                                                                                                                              | \n",
       "| G63225                                                                                                                                                                                                                                                                 |    7746                                                                                                                                                                                                                                                                | 1743                                                                                                                                                                                                                                                                   | 100.00                                                                                                                                                                                                                                                                 | Faecalibacterium_prausnitzii_2789STDY5608869,Faecalibacterium_prausnitzii_CNCM_I_4575                                                                                                                                                                                  | \n",
       "| G63225                                                                                                                                                                                                                                                                 | 1000023                                                                                                                                                                                                                                                                | 1586                                                                                                                                                                                                                                                                   |  99.60                                                                                                                                                                                                                                                                 | Burkholderiales_bacterium_1_1_47,Parasutterella_excrementihominis_YIT_11859                                                                                                                                                                                            | \n",
       "\n",
       "\n"
      ],
      "text/plain": [
       "   sample_id osu_id  osu_count pctsim\n",
       "1  G63225       2844 8439      100.00\n",
       "2  G63225       3274 7165      100.00\n",
       "3  G63225    1000009 4172       95.26\n",
       "4  G63225       2627 3881      100.00\n",
       "5  G63225       2791 2128      100.00\n",
       "6  G63225       2954 2107      100.00\n",
       "7  G63225       6799 1976      100.00\n",
       "8  G63225       5660 1939      100.00\n",
       "9  G63225       7746 1743      100.00\n",
       "10 G63225    1000023 1586       99.60\n",
       "   species                                                                                                                                                                                                                                                               \n",
       "1  Bacteroides_dorei_DSM_17855,Bacteroides_sp._9_1_42FAA,Bacteroides_dorei_5_1_36/D4,Bacteroides_sp._3_1_33FAA,Bacteroides_dorei_An16,Bacteroides_dorei_An41,Bacteroides_dorei_175,Bacteroides_dorei_CL02T00C15,Bacteroides_dorei_CL02T12C06,Bacteroides_dorei_CL03T12C01\n",
       "2  Bacteroides_ovatus_SD_CMC_3f,Bacteroides_ovatus_3725_D9_iii,Bacteroides_ovatus_CL09T03C03,Bacteroides_ovatus_KLE1656,Bacteroides_sp._KFT8                                                                                                                             \n",
       "3  Ruminococcus_bicirculans_80/3                                                                                                                                                                                                                                         \n",
       "4  Burkholderiales_bacterium_1_1_47,Parasutterella_excrementihominis_YIT_11859                                                                                                                                                                                           \n",
       "5  Alistipes_putredinis_DSM_17216,Alistipes_putredinis_JCM_16772                                                                                                                                                                                                         \n",
       "6  Dialister_invisus_DSM_15470,Dialister_invisus_E7.25,Dialister_invisus_JCM_17566                                                                                                                                                                                       \n",
       "7  Oscillibacter_sp._ER4                                                                                                                                                                                                                                                 \n",
       "8  Oscillibacter_sp._KLE_1728,Oscillibacter_sp._KLE_1745,Oscillospiraceae_bacterium_VE202-24                                                                                                                                                                             \n",
       "9  Faecalibacterium_prausnitzii_2789STDY5608869,Faecalibacterium_prausnitzii_CNCM_I_4575                                                                                                                                                                                 \n",
       "10 Burkholderiales_bacterium_1_1_47,Parasutterella_excrementihominis_YIT_11859                                                                                                                                                                                           "
      ]
     },
     "metadata": {},
     "output_type": "display_data"
    }
   ],
   "source": [
    "head(osu_ab.dt, 10)"
   ]
  },
  {
   "cell_type": "markdown",
   "metadata": {},
   "source": [
    "## Add taxonomy"
   ]
  },
  {
   "cell_type": "markdown",
   "metadata": {},
   "source": [
    "For each OSU, we get taxonomic ranks for all detected strains. This is done by retrieving classification from the offline version of the NCBI Taxonomy database, included with the HiMAP package."
   ]
  },
  {
   "cell_type": "code",
   "execution_count": 26,
   "metadata": {
    "collapsed": false
   },
   "outputs": [],
   "source": [
    "osu_tax.dt = taxonomy(osu_ab.dt)"
   ]
  },
  {
   "cell_type": "code",
   "execution_count": 27,
   "metadata": {
    "collapsed": false
   },
   "outputs": [
    {
     "data": {
      "text/html": [
       "<table>\n",
       "<thead><tr><th scope=col>osu_id</th><th scope=col>pctsim</th><th scope=col>phylum</th><th scope=col>class</th><th scope=col>order</th><th scope=col>family</th><th scope=col>genus</th></tr></thead>\n",
       "<tbody>\n",
       "\t<tr><td>   1                                                            </td><td>100                                                             </td><td>Actinobacteria_[145]                                            </td><td>Actinobacteria_[145]                                            </td><td>Bifidobacteriales_[145]                                         </td><td>Bifidobacteriaceae_[145]                                        </td><td>Bifidobacterium_[145]                                           </td></tr>\n",
       "\t<tr><td> 150                                                            </td><td>100                                                             </td><td>Proteobacteria_[8448]                                           </td><td>Gammaproteobacteria_[8448]                                      </td><td>Enterobacterales_[8448]                                         </td><td>Enterobacteriaceae_[8448]                                       </td><td>Escherichia_[7472],Shigella_[974],Citrobacter_[1],Klebsiella_[1]</td></tr>\n",
       "\t<tr><td> 355                                                            </td><td>100                                                             </td><td>Proteobacteria_[1]                                              </td><td>Gammaproteobacteria_[1]                                         </td><td>Enterobacterales_[1]                                            </td><td>Enterobacteriaceae_[1]                                          </td><td>Escherichia_[1]                                                 </td></tr>\n",
       "\t<tr><td> 532                                                            </td><td>100                                                             </td><td>Proteobacteria_[1906]                                           </td><td>Gammaproteobacteria_[1906]                                      </td><td>Pseudomonadales_[1906]                                          </td><td>Pseudomonadaceae_[1906]                                         </td><td>Pseudomonas_[1906],Hepatobacter_[1]                             </td></tr>\n",
       "\t<tr><td> 581                                                            </td><td>100                                                             </td><td>Firmicutes_[109]                                                </td><td>Bacilli_[109]                                                   </td><td>Lactobacillales_[109]                                           </td><td>Streptococcaceae_[109]                                          </td><td>Lactococcus_[109]                                               </td></tr>\n",
       "\t<tr><td>1404                                                            </td><td>100                                                             </td><td>Proteobacteria_[1]                                              </td><td>Gammaproteobacteria_[1]                                         </td><td>Enterobacterales_[1]                                            </td><td>Enterobacteriaceae_[1]                                          </td><td>Klebsiella_[1]                                                  </td></tr>\n",
       "\t<tr><td>1485                                                            </td><td>100                                                             </td><td>Bacteroidetes_[103]                                             </td><td>Bacteroidia_[103]                                               </td><td>Bacteroidales_[103]                                             </td><td>Bacteroidaceae_[103]                                            </td><td>Bacteroides_[103]                                               </td></tr>\n",
       "\t<tr><td>1533                                                            </td><td>100                                                             </td><td>Actinobacteria_[26]                                             </td><td>Actinobacteria_[26]                                             </td><td>Bifidobacteriales_[26]                                          </td><td>Bifidobacteriaceae_[26]                                         </td><td>Bifidobacterium_[26]                                            </td></tr>\n",
       "\t<tr><td>1565                                                            </td><td>100                                                             </td><td>Bacteroidetes_[20]                                              </td><td>Bacteroidia_[20]                                                </td><td>Bacteroidales_[20]                                              </td><td>Bacteroidaceae_[20]                                             </td><td>Bacteroides_[20]                                                </td></tr>\n",
       "\t<tr><td>1670                                                            </td><td>100                                                             </td><td>Firmicutes_[98]                                                 </td><td>Bacilli_[98]                                                    </td><td>Lactobacillales_[98]                                            </td><td>Streptococcaceae_[98]                                           </td><td>Streptococcus_[98]                                              </td></tr>\n",
       "</tbody>\n",
       "</table>\n"
      ],
      "text/latex": [
       "\\begin{tabular}{r|lllllll}\n",
       " osu\\_id & pctsim & phylum & class & order & family & genus\\\\\n",
       "\\hline\n",
       "\t    1                                                                   & 100                                                                    & Actinobacteria\\_{[}145{]}                                             & Actinobacteria\\_{[}145{]}                                             & Bifidobacteriales\\_{[}145{]}                                          & Bifidobacteriaceae\\_{[}145{]}                                         & Bifidobacterium\\_{[}145{]}                                           \\\\\n",
       "\t  150                                                                                     & 100                                                                                      & Proteobacteria\\_{[}8448{]}                                                              & Gammaproteobacteria\\_{[}8448{]}                                                         & Enterobacterales\\_{[}8448{]}                                                            & Enterobacteriaceae\\_{[}8448{]}                                                          & Escherichia\\_{[}7472{]},Shigella\\_{[}974{]},Citrobacter\\_{[}1{]},Klebsiella\\_{[}1{]}\\\\\n",
       "\t  355                                                                   & 100                                                                    & Proteobacteria\\_{[}1{]}                                               & Gammaproteobacteria\\_{[}1{]}                                          & Enterobacterales\\_{[}1{]}                                             & Enterobacteriaceae\\_{[}1{]}                                           & Escherichia\\_{[}1{]}                                                 \\\\\n",
       "\t  532                                                                         & 100                                                                          & Proteobacteria\\_{[}1906{]}                                                  & Gammaproteobacteria\\_{[}1906{]}                                             & Pseudomonadales\\_{[}1906{]}                                                 & Pseudomonadaceae\\_{[}1906{]}                                                & Pseudomonas\\_{[}1906{]},Hepatobacter\\_{[}1{]}                             \\\\\n",
       "\t  581                                                                   & 100                                                                    & Firmicutes\\_{[}109{]}                                                 & Bacilli\\_{[}109{]}                                                    & Lactobacillales\\_{[}109{]}                                            & Streptococcaceae\\_{[}109{]}                                           & Lactococcus\\_{[}109{]}                                               \\\\\n",
       "\t 1404                                                                   & 100                                                                    & Proteobacteria\\_{[}1{]}                                               & Gammaproteobacteria\\_{[}1{]}                                          & Enterobacterales\\_{[}1{]}                                             & Enterobacteriaceae\\_{[}1{]}                                           & Klebsiella\\_{[}1{]}                                                  \\\\\n",
       "\t 1485                                                                   & 100                                                                    & Bacteroidetes\\_{[}103{]}                                              & Bacteroidia\\_{[}103{]}                                                & Bacteroidales\\_{[}103{]}                                              & Bacteroidaceae\\_{[}103{]}                                             & Bacteroides\\_{[}103{]}                                               \\\\\n",
       "\t 1533                                                                   & 100                                                                    & Actinobacteria\\_{[}26{]}                                              & Actinobacteria\\_{[}26{]}                                              & Bifidobacteriales\\_{[}26{]}                                           & Bifidobacteriaceae\\_{[}26{]}                                          & Bifidobacterium\\_{[}26{]}                                            \\\\\n",
       "\t 1565                                                                   & 100                                                                    & Bacteroidetes\\_{[}20{]}                                               & Bacteroidia\\_{[}20{]}                                                 & Bacteroidales\\_{[}20{]}                                               & Bacteroidaceae\\_{[}20{]}                                              & Bacteroides\\_{[}20{]}                                                \\\\\n",
       "\t 1670                                                                   & 100                                                                    & Firmicutes\\_{[}98{]}                                                  & Bacilli\\_{[}98{]}                                                     & Lactobacillales\\_{[}98{]}                                             & Streptococcaceae\\_{[}98{]}                                            & Streptococcus\\_{[}98{]}                                              \\\\\n",
       "\\end{tabular}\n"
      ],
      "text/markdown": [
       "\n",
       "osu_id | pctsim | phylum | class | order | family | genus | \n",
       "|---|---|---|---|---|---|---|---|---|---|\n",
       "|    1                                                             | 100                                                              | Actinobacteria_[145]                                             | Actinobacteria_[145]                                             | Bifidobacteriales_[145]                                          | Bifidobacteriaceae_[145]                                         | Bifidobacterium_[145]                                            | \n",
       "|  150                                                             | 100                                                              | Proteobacteria_[8448]                                            | Gammaproteobacteria_[8448]                                       | Enterobacterales_[8448]                                          | Enterobacteriaceae_[8448]                                        | Escherichia_[7472],Shigella_[974],Citrobacter_[1],Klebsiella_[1] | \n",
       "|  355                                                             | 100                                                              | Proteobacteria_[1]                                               | Gammaproteobacteria_[1]                                          | Enterobacterales_[1]                                             | Enterobacteriaceae_[1]                                           | Escherichia_[1]                                                  | \n",
       "|  532                                                             | 100                                                              | Proteobacteria_[1906]                                            | Gammaproteobacteria_[1906]                                       | Pseudomonadales_[1906]                                           | Pseudomonadaceae_[1906]                                          | Pseudomonas_[1906],Hepatobacter_[1]                              | \n",
       "|  581                                                             | 100                                                              | Firmicutes_[109]                                                 | Bacilli_[109]                                                    | Lactobacillales_[109]                                            | Streptococcaceae_[109]                                           | Lactococcus_[109]                                                | \n",
       "| 1404                                                             | 100                                                              | Proteobacteria_[1]                                               | Gammaproteobacteria_[1]                                          | Enterobacterales_[1]                                             | Enterobacteriaceae_[1]                                           | Klebsiella_[1]                                                   | \n",
       "| 1485                                                             | 100                                                              | Bacteroidetes_[103]                                              | Bacteroidia_[103]                                                | Bacteroidales_[103]                                              | Bacteroidaceae_[103]                                             | Bacteroides_[103]                                                | \n",
       "| 1533                                                             | 100                                                              | Actinobacteria_[26]                                              | Actinobacteria_[26]                                              | Bifidobacteriales_[26]                                           | Bifidobacteriaceae_[26]                                          | Bifidobacterium_[26]                                             | \n",
       "| 1565                                                             | 100                                                              | Bacteroidetes_[20]                                               | Bacteroidia_[20]                                                 | Bacteroidales_[20]                                               | Bacteroidaceae_[20]                                              | Bacteroides_[20]                                                 | \n",
       "| 1670                                                             | 100                                                              | Firmicutes_[98]                                                  | Bacilli_[98]                                                     | Lactobacillales_[98]                                             | Streptococcaceae_[98]                                            | Streptococcus_[98]                                               | \n",
       "\n",
       "\n"
      ],
      "text/plain": [
       "   osu_id pctsim phylum                class                     \n",
       "1     1   100    Actinobacteria_[145]  Actinobacteria_[145]      \n",
       "2   150   100    Proteobacteria_[8448] Gammaproteobacteria_[8448]\n",
       "3   355   100    Proteobacteria_[1]    Gammaproteobacteria_[1]   \n",
       "4   532   100    Proteobacteria_[1906] Gammaproteobacteria_[1906]\n",
       "5   581   100    Firmicutes_[109]      Bacilli_[109]             \n",
       "6  1404   100    Proteobacteria_[1]    Gammaproteobacteria_[1]   \n",
       "7  1485   100    Bacteroidetes_[103]   Bacteroidia_[103]         \n",
       "8  1533   100    Actinobacteria_[26]   Actinobacteria_[26]       \n",
       "9  1565   100    Bacteroidetes_[20]    Bacteroidia_[20]          \n",
       "10 1670   100    Firmicutes_[98]       Bacilli_[98]              \n",
       "   order                   family                   \n",
       "1  Bifidobacteriales_[145] Bifidobacteriaceae_[145] \n",
       "2  Enterobacterales_[8448] Enterobacteriaceae_[8448]\n",
       "3  Enterobacterales_[1]    Enterobacteriaceae_[1]   \n",
       "4  Pseudomonadales_[1906]  Pseudomonadaceae_[1906]  \n",
       "5  Lactobacillales_[109]   Streptococcaceae_[109]   \n",
       "6  Enterobacterales_[1]    Enterobacteriaceae_[1]   \n",
       "7  Bacteroidales_[103]     Bacteroidaceae_[103]     \n",
       "8  Bifidobacteriales_[26]  Bifidobacteriaceae_[26]  \n",
       "9  Bacteroidales_[20]      Bacteroidaceae_[20]      \n",
       "10 Lactobacillales_[98]    Streptococcaceae_[98]    \n",
       "   genus                                                           \n",
       "1  Bifidobacterium_[145]                                           \n",
       "2  Escherichia_[7472],Shigella_[974],Citrobacter_[1],Klebsiella_[1]\n",
       "3  Escherichia_[1]                                                 \n",
       "4  Pseudomonas_[1906],Hepatobacter_[1]                             \n",
       "5  Lactococcus_[109]                                               \n",
       "6  Klebsiella_[1]                                                  \n",
       "7  Bacteroides_[103]                                               \n",
       "8  Bifidobacterium_[26]                                            \n",
       "9  Bacteroides_[20]                                                \n",
       "10 Streptococcus_[98]                                              "
      ]
     },
     "metadata": {},
     "output_type": "display_data"
    }
   ],
   "source": [
    "head(osu_tax.dt[order(osu_id)], 10)"
   ]
  },
  {
   "cell_type": "markdown",
   "metadata": {},
   "source": [
    "Reference table between OSUs and exact sequences:"
   ]
  },
  {
   "cell_type": "code",
   "execution_count": 28,
   "metadata": {
    "collapsed": false
   },
   "outputs": [
    {
     "data": {
      "text/html": [
       "<table>\n",
       "<thead><tr><th scope=col>osu_id</th><th scope=col>species</th><th scope=col>qseqid</th><th scope=col>copy_number</th><th scope=col>pctsim</th><th scope=col>sequence</th></tr></thead>\n",
       "<tbody>\n",
       "\t<tr><td>  1                                                                                                                                                                                                                                                                                                                                                                                                                                                                                                                                                                                                                                                                                                                                                                                                                                                                                                                                                                                               </td><td>Bifidobacterium_longum_[91],Bifidobacterium_breve_[52],Bifidobacterium_sp._12_1_47BFAA,Bifidobacterium_sp._TRE_D                                                                                                                                                                                                                                                                                                                                                                                                                                                                                                                                                                                                                                                                                                                                                                                                                                                                                  </td><td> 53                                                                                                                                                                                                                                                                                                                                                                                                                                                                                                                                                                                                                                                                                                                                                                                                                                                                                                                                                                                               </td><td>2                                                                                                                                                                                                                                                                                                                                                                                                                                                                                                                                                                                                                                                                                                                                                                                                                                                                                                                                                                                                 </td><td>100                                                                                                                                                                                                                                                                                                                                                                                                                                                                                                                                                                                                                                                                                                                                                                                                                                                                                                                                                                                               </td><td>TACGTAGGGTGCAAGCGTTATCCGGAATTATTGGGCGTAAAGGGCTCGTAGGCGGTTCGTCGCGTCCGGTGTGAAAGTCCATCGCTTAACGGTGGATCCGCGCCGGGTACGGGCGGGCTTGAGTGCGGTAGGGGAGACTGGAATTCCCGGTGTAACGGTGGAATGTGTAGATATCGGGAAGAACACCAATGGCGAAGGCAGGTCTCTGGGCCGTTACTGACGCTGAGGAGCGAAAGCGTGGGGAGCGAACAGG                                                                                                                                                                                                                                                                                                                                                                                                                                                                                                                                                                                                                                                                                                                                     </td></tr>\n",
       "\t<tr><td>150                                                                                                                                                                                                                                                                                                                                                                                                                                                                                                                                                                                                                                                                                                                                                                                                                                                                                                                                                                                               </td><td>Escherichia_coli_[7451],Shigella_sonnei_[850],Shigella_flexneri_[70],Shigella_boydii_[51],Escherichia_fergusonii_[7],Escherichia_albertii_[2],Shigella_dysenteriae_[2],Citrobacter_braakii_SCC4,Escherichia_marmotae_HT073016,Escherichia_sp._1_1_43,Escherichia_sp._3_2_53FAA,Escherichia_sp._4_1_40B,Escherichia_sp._B1147,Escherichia_sp._KTE11,Escherichia_sp._KTE159,Escherichia_sp._KTE172,Escherichia_sp._KTE52,Escherichia_sp._KTE96,Escherichia_sp._TW09308,Escherichia_vulneris_ATCC_33821,Klebsiella_oxytoca_2880STDY5682666,Shigella_sp._PAMC_28760                                                                                                                                                                                                                                                                                                                                                                                                                                   </td><td>121                                                                                                                                                                                                                                                                                                                                                                                                                                                                                                                                                                                                                                                                                                                                                                                                                                                                                                                                                                                               </td><td>2                                                                                                                                                                                                                                                                                                                                                                                                                                                                                                                                                                                                                                                                                                                                                                                                                                                                                                                                                                                                 </td><td>100                                                                                                                                                                                                                                                                                                                                                                                                                                                                                                                                                                                                                                                                                                                                                                                                                                                                                                                                                                                               </td><td>TACGGAGGGTGCAAGCGTTAATCGGAATTACTGGGCGTAAAGCGCACGCAGGCGGTTTGTTAAGTCAGATGTGAAATCCCCGGGCTCAACCTGGGAACTGCATCTGATACTGGCAAGCTTGAGTCTCGTAGAGGGGGGTAGAATTCCAGGTGTAGCGGTGAAATGCGTAGAGATCTGGAGGAATACCGGTGGCGAAGGCGGCCCCCTGGACGAAGACTGACGCTCAGGTGCGAAAGCGTGGGGAGCAAACAGG                                                                                                                                                                                                                                                                                                                                                                                                                                                                                                                                                                                                                                                                                                                                     </td></tr>\n",
       "\t<tr><td>355                                                                                                                                                                                                                                                                                                                                                                                                                                                                                                                                                                                                                                                                                                                                                                                                                                                                                                                                                                                               </td><td>Escherichia_coli_MOD1-EC5273                                                                                                                                                                                                                                                                                                                                                                                                                                                                                                                                                                                                                                                                                                                                                                                                                                                                                                                                                                      </td><td>121                                                                                                                                                                                                                                                                                                                                                                                                                                                                                                                                                                                                                                                                                                                                                                                                                                                                                                                                                                                               </td><td>1                                                                                                                                                                                                                                                                                                                                                                                                                                                                                                                                                                                                                                                                                                                                                                                                                                                                                                                                                                                                 </td><td>100                                                                                                                                                                                                                                                                                                                                                                                                                                                                                                                                                                                                                                                                                                                                                                                                                                                                                                                                                                                               </td><td>TACGGAGGGTGCAAGCGTTAATCGGAATTACTGGGCGTAAAGCGCACGCAGGCGGTTTGTTAAGTCAGATGTGAAATCCCCGGGCTCAACCTGGGAACTGCATCTGATACTGGCAAGCTTGAGTCTCGTAGAGGGGGGTAGAATTCCAGGTGTAGCGGTGAAATGCGTAGAGATCTGGAGGAATACCGGTGGCGAAGGCGGCCCCCTGGACGAAGACTGACGCTCAGGTGCGAAAGCGTGGGGAGCAAACAGG                                                                                                                                                                                                                                                                                                                                                                                                                                                                                                                                                                                                                                                                                                                                     </td></tr>\n",
       "\t<tr><td>355                                                                                                                                                                                                                                                                                                                                                                                                                                                                                                                                                                                                                                                                                                                                                                                                                                                                                                                                                                                               </td><td>Escherichia_coli_MOD1-EC5273                                                                                                                                                                                                                                                                                                                                                                                                                                                                                                                                                                                                                                                                                                                                                                                                                                                                                                                                                                      </td><td>415                                                                                                                                                                                                                                                                                                                                                                                                                                                                                                                                                                                                                                                                                                                                                                                                                                                                                                                                                                                               </td><td>1                                                                                                                                                                                                                                                                                                                                                                                                                                                                                                                                                                                                                                                                                                                                                                                                                                                                                                                                                                                                 </td><td>100                                                                                                                                                                                                                                                                                                                                                                                                                                                                                                                                                                                                                                                                                                                                                                                                                                                                                                                                                                                               </td><td>TACGTAGGTGGCAAGCGTTGTCCGGATTTATTGGGCGTAAAGCGAGCGCAGGCGGAAGAATAAGTCTGATGTGAAAGCCCTCGGCTTAACCGAGGAACTGCATCGGAAACTGTTTTTCTTGAGTGCAGAAGAGGAGAGTGGAACTCCATGTGTAGCGGTGGAATGCGTAGATATATGGAAGAACACCAGTGGCGAAGGCGGCTCTCTGGTCTGCAACTGACGCTGAGGCTCGAAAGCATGGGTAGCGAACAGG                                                                                                                                                                                                                                                                                                                                                                                                                                                                                                                                                                                                                                                                                                                                     </td></tr>\n",
       "\t<tr><td>532                                                                                                                                                                                                                                                                                                                                                                                                                                                                                                                                                                                                                                                                                                                                                                                                                                                                                                                                                                                               </td><td>Pseudomonas_aeruginosa_[1873],Candidatus_Hepatobacter_penaei_NHPB,Pseudomonas_denitrificans_(nomen_rejiciendum),Pseudomonas_otitidis_LNU-E-001,Pseudomonas_sp._2_1_26,Pseudomonas_sp._HMSC057H01,Pseudomonas_sp._HMSC058A10,Pseudomonas_sp._HMSC058B07,Pseudomonas_sp._HMSC058C05,Pseudomonas_sp._HMSC059F05,Pseudomonas_sp._HMSC05H02,Pseudomonas_sp._HMSC060F12,Pseudomonas_sp._HMSC060G01,Pseudomonas_sp._HMSC060G02,Pseudomonas_sp._HMSC061A10,Pseudomonas_sp._HMSC063H08,Pseudomonas_sp._HMSC064G05,Pseudomonas_sp._HMSC065H01,Pseudomonas_sp._HMSC065H02,Pseudomonas_sp._HMSC066A08,Pseudomonas_sp._HMSC066B03,Pseudomonas_sp._HMSC067D05,Pseudomonas_sp._HMSC067F09,Pseudomonas_sp._HMSC067G02,Pseudomonas_sp._HMSC069G05,Pseudomonas_sp._HMSC070B12,Pseudomonas_sp._HMSC071F02,Pseudomonas_sp._HMSC072F09,Pseudomonas_sp._HMSC073F05,Pseudomonas_sp._HMSC075A08,Pseudomonas_sp._HMSC076A11,Pseudomonas_sp._HMSC076A12,Pseudomonas_sp._HMSC16B01,Pseudomonas_sp._P179,Pseudomonas_sp._YS-1p</td><td>446                                                                                                                                                                                                                                                                                                                                                                                                                                                                                                                                                                                                                                                                                                                                                                                                                                                                                                                                                                                               </td><td>1                                                                                                                                                                                                                                                                                                                                                                                                                                                                                                                                                                                                                                                                                                                                                                                                                                                                                                                                                                                                 </td><td>100                                                                                                                                                                                                                                                                                                                                                                                                                                                                                                                                                                                                                                                                                                                                                                                                                                                                                                                                                                                               </td><td>TACGAAGGGTGCAAGCGTTAATCGGAATTACTGGGCGTAAAGCGCGCGTAGGTGGTTCAGCAAGTTGGATGTGAAATCCCCGGGCTCAACCTGGGAACTGCATCCAAAACTACTGAGCTAGAGTACGGTAGAGGGTGGTGGAATTTCCTGTGTAGCGGTGAAATGCGTAGATATAGGAAGGAACACCAGTGGCGAAGGCGACCACCTGGACTGATACTGACACTGAGGTGCGAAAGCGTGGGGAGCAAACAGG                                                                                                                                                                                                                                                                                                                                                                                                                                                                                                                                                                                                                                                                                                                                     </td></tr>\n",
       "\t<tr><td>581                                                                                                                                                                                                                                                                                                                                                                                                                                                                                                                                                                                                                                                                                                                                                                                                                                                                                                                                                                                               </td><td>Lactococcus_lactis_[108],Lactococcus_taiwanensis_0905C15                                                                                                                                                                                                                                                                                                                                                                                                                                                                                                                                                                                                                                                                                                                                                                                                                                                                                                                                          </td><td>304                                                                                                                                                                                                                                                                                                                                                                                                                                                                                                                                                                                                                                                                                                                                                                                                                                                                                                                                                                                               </td><td>3                                                                                                                                                                                                                                                                                                                                                                                                                                                                                                                                                                                                                                                                                                                                                                                                                                                                                                                                                                                                 </td><td>100                                                                                                                                                                                                                                                                                                                                                                                                                                                                                                                                                                                                                                                                                                                                                                                                                                                                                                                                                                                               </td><td>TACGTAGGTCCCGAGCGTTGTCCGGATTTATTGGGCGTAAAGCGAGCGCAGGTGGTTTATTAAGTCTGGTGTAAAAGGCAGTGGCTCAACCATTGTATGCATTGGAAACTGGTAGACTTGAGTGCAGGAGAGGAGAGTGGAATTCCATGTGTAGCGGTGAAATGCGTAGATATATGGAGGAACACCGGTGGCGAAAGCGGCTCTCTGGCCTGTAACTGACACTGAGGCTCGAAAGCGTGGGGAGCAAACAGG                                                                                                                                                                                                                                                                                                                                                                                                                                                                                                                                                                                                                                                                                                                                      </td></tr>\n",
       "</tbody>\n",
       "</table>\n"
      ],
      "text/latex": [
       "\\begin{tabular}{r|llllll}\n",
       " osu\\_id & species & qseqid & copy\\_number & pctsim & sequence\\\\\n",
       "\\hline\n",
       "\t   1                                                                                                                                                                                                                                                                                                                                                                                                                                                                                                                                                                                                                                                                                                                                                                                                                                                                                                                                                                                                                              & Bifidobacterium\\_longum\\_{[}91{]},Bifidobacterium\\_breve\\_{[}52{]},Bifidobacterium\\_sp.\\_12\\_1\\_47BFAA,Bifidobacterium\\_sp.\\_TRE\\_D                                                                                                                                                                                                                                                                                                                                                                                                                                                                                                                                                                                                                                                                                                                                                                                                                                                                                   &  53                                                                                                                                                                                                                                                                                                                                                                                                                                                                                                                                                                                                                                                                                                                                                                                                                                                                                                                                                                                                                              & 2                                                                                                                                                                                                                                                                                                                                                                                                                                                                                                                                                                                                                                                                                                                                                                                                                                                                                                                                                                                                                                & 100                                                                                                                                                                                                                                                                                                                                                                                                                                                                                                                                                                                                                                                                                                                                                                                                                                                                                                                                                                                                                              & TACGTAGGGTGCAAGCGTTATCCGGAATTATTGGGCGTAAAGGGCTCGTAGGCGGTTCGTCGCGTCCGGTGTGAAAGTCCATCGCTTAACGGTGGATCCGCGCCGGGTACGGGCGGGCTTGAGTGCGGTAGGGGAGACTGGAATTCCCGGTGTAACGGTGGAATGTGTAGATATCGGGAAGAACACCAATGGCGAAGGCAGGTCTCTGGGCCGTTACTGACGCTGAGGAGCGAAAGCGTGGGGAGCGAACAGG                                                                                                                                                                                                                                                                                                                                                                                                                                                                                                                                                                                                                                                                                                                                                                   \\\\\n",
       "\t 150                                                                                                                                                                                                                                                                                                                                                                                                                                                                                                                                                                                                                                                                                                                                                                                                                                                                                                                                                                                                                                                                                                                                    & Escherichia\\_coli\\_{[}7451{]},Shigella\\_sonnei\\_{[}850{]},Shigella\\_flexneri\\_{[}70{]},Shigella\\_boydii\\_{[}51{]},Escherichia\\_fergusonii\\_{[}7{]},Escherichia\\_albertii\\_{[}2{]},Shigella\\_dysenteriae\\_{[}2{]},Citrobacter\\_braakii\\_SCC4,Escherichia\\_marmotae\\_HT073016,Escherichia\\_sp.\\_1\\_1\\_43,Escherichia\\_sp.\\_3\\_2\\_53FAA,Escherichia\\_sp.\\_4\\_1\\_40B,Escherichia\\_sp.\\_B1147,Escherichia\\_sp.\\_KTE11,Escherichia\\_sp.\\_KTE159,Escherichia\\_sp.\\_KTE172,Escherichia\\_sp.\\_KTE52,Escherichia\\_sp.\\_KTE96,Escherichia\\_sp.\\_TW09308,Escherichia\\_vulneris\\_ATCC\\_33821,Klebsiella\\_oxytoca\\_2880STDY5682666,Shigella\\_sp.\\_PAMC\\_28760                                                                                                                                                                                                                                                                                                                                                                                                                                    & 121                                                                                                                                                                                                                                                                                                                                                                                                                                                                                                                                                                                                                                                                                                                                                                                                                                                                                                                                                                                                                                                                                                                                    & 2                                                                                                                                                                                                                                                                                                                                                                                                                                                                                                                                                                                                                                                                                                                                                                                                                                                                                                                                                                                                                                                                                                                                      & 100                                                                                                                                                                                                                                                                                                                                                                                                                                                                                                                                                                                                                                                                                                                                                                                                                                                                                                                                                                                                                                                                                                                                    & TACGGAGGGTGCAAGCGTTAATCGGAATTACTGGGCGTAAAGCGCACGCAGGCGGTTTGTTAAGTCAGATGTGAAATCCCCGGGCTCAACCTGGGAACTGCATCTGATACTGGCAAGCTTGAGTCTCGTAGAGGGGGGTAGAATTCCAGGTGTAGCGGTGAAATGCGTAGAGATCTGGAGGAATACCGGTGGCGAAGGCGGCCCCCTGGACGAAGACTGACGCTCAGGTGCGAAAGCGTGGGGAGCAAACAGG                                                                                                                                                                                                                                                                                                                                                                                                                                                                                                                                                                                                                                                                                                                                                                                                                                                                         \\\\\n",
       "\t 355                                                                                                                                                                                                                                                                                                                                                                                                                                                                                                                                                                                                                                                                                                                                                                                                                                                                                                                                                                                                    & Escherichia\\_coli\\_MOD1-EC5273                                                                                                                                                                                                                                                                                                                                                                                                                                                                                                                                                                                                                                                                                                                                                                                                                                                                                                                                                                       & 121                                                                                                                                                                                                                                                                                                                                                                                                                                                                                                                                                                                                                                                                                                                                                                                                                                                                                                                                                                                                    & 1                                                                                                                                                                                                                                                                                                                                                                                                                                                                                                                                                                                                                                                                                                                                                                                                                                                                                                                                                                                                      & 100                                                                                                                                                                                                                                                                                                                                                                                                                                                                                                                                                                                                                                                                                                                                                                                                                                                                                                                                                                                                    & TACGGAGGGTGCAAGCGTTAATCGGAATTACTGGGCGTAAAGCGCACGCAGGCGGTTTGTTAAGTCAGATGTGAAATCCCCGGGCTCAACCTGGGAACTGCATCTGATACTGGCAAGCTTGAGTCTCGTAGAGGGGGGTAGAATTCCAGGTGTAGCGGTGAAATGCGTAGAGATCTGGAGGAATACCGGTGGCGAAGGCGGCCCCCTGGACGAAGACTGACGCTCAGGTGCGAAAGCGTGGGGAGCAAACAGG                                                                                                                                                                                                                                                                                                                                                                                                                                                                                                                                                                                                                                                                                                                                         \\\\\n",
       "\t 355                                                                                                                                                                                                                                                                                                                                                                                                                                                                                                                                                                                                                                                                                                                                                                                                                                                                                                                                                                                                    & Escherichia\\_coli\\_MOD1-EC5273                                                                                                                                                                                                                                                                                                                                                                                                                                                                                                                                                                                                                                                                                                                                                                                                                                                                                                                                                                       & 415                                                                                                                                                                                                                                                                                                                                                                                                                                                                                                                                                                                                                                                                                                                                                                                                                                                                                                                                                                                                    & 1                                                                                                                                                                                                                                                                                                                                                                                                                                                                                                                                                                                                                                                                                                                                                                                                                                                                                                                                                                                                      & 100                                                                                                                                                                                                                                                                                                                                                                                                                                                                                                                                                                                                                                                                                                                                                                                                                                                                                                                                                                                                    & TACGTAGGTGGCAAGCGTTGTCCGGATTTATTGGGCGTAAAGCGAGCGCAGGCGGAAGAATAAGTCTGATGTGAAAGCCCTCGGCTTAACCGAGGAACTGCATCGGAAACTGTTTTTCTTGAGTGCAGAAGAGGAGAGTGGAACTCCATGTGTAGCGGTGGAATGCGTAGATATATGGAAGAACACCAGTGGCGAAGGCGGCTCTCTGGTCTGCAACTGACGCTGAGGCTCGAAAGCATGGGTAGCGAACAGG                                                                                                                                                                                                                                                                                                                                                                                                                                                                                                                                                                                                                                                                                                                                         \\\\\n",
       "\t 532                                                                                                                                                                                                                                                                                                                                                                                                                                                                                                                                                                                                                                                                                                                                                                                                                                                                                                                                                                                                                                                                                                                                                        & Pseudomonas\\_aeruginosa\\_{[}1873{]},Candidatus\\_Hepatobacter\\_penaei\\_NHPB,Pseudomonas\\_denitrificans\\_(nomen\\_rejiciendum),Pseudomonas\\_otitidis\\_LNU-E-001,Pseudomonas\\_sp.\\_2\\_1\\_26,Pseudomonas\\_sp.\\_HMSC057H01,Pseudomonas\\_sp.\\_HMSC058A10,Pseudomonas\\_sp.\\_HMSC058B07,Pseudomonas\\_sp.\\_HMSC058C05,Pseudomonas\\_sp.\\_HMSC059F05,Pseudomonas\\_sp.\\_HMSC05H02,Pseudomonas\\_sp.\\_HMSC060F12,Pseudomonas\\_sp.\\_HMSC060G01,Pseudomonas\\_sp.\\_HMSC060G02,Pseudomonas\\_sp.\\_HMSC061A10,Pseudomonas\\_sp.\\_HMSC063H08,Pseudomonas\\_sp.\\_HMSC064G05,Pseudomonas\\_sp.\\_HMSC065H01,Pseudomonas\\_sp.\\_HMSC065H02,Pseudomonas\\_sp.\\_HMSC066A08,Pseudomonas\\_sp.\\_HMSC066B03,Pseudomonas\\_sp.\\_HMSC067D05,Pseudomonas\\_sp.\\_HMSC067F09,Pseudomonas\\_sp.\\_HMSC067G02,Pseudomonas\\_sp.\\_HMSC069G05,Pseudomonas\\_sp.\\_HMSC070B12,Pseudomonas\\_sp.\\_HMSC071F02,Pseudomonas\\_sp.\\_HMSC072F09,Pseudomonas\\_sp.\\_HMSC073F05,Pseudomonas\\_sp.\\_HMSC075A08,Pseudomonas\\_sp.\\_HMSC076A11,Pseudomonas\\_sp.\\_HMSC076A12,Pseudomonas\\_sp.\\_HMSC16B01,Pseudomonas\\_sp.\\_P179,Pseudomonas\\_sp.\\_YS-1p & 446                                                                                                                                                                                                                                                                                                                                                                                                                                                                                                                                                                                                                                                                                                                                                                                                                                                                                                                                                                                                                                                                                                                                                        & 1                                                                                                                                                                                                                                                                                                                                                                                                                                                                                                                                                                                                                                                                                                                                                                                                                                                                                                                                                                                                                                                                                                                                                          & 100                                                                                                                                                                                                                                                                                                                                                                                                                                                                                                                                                                                                                                                                                                                                                                                                                                                                                                                                                                                                                                                                                                                                                        & TACGAAGGGTGCAAGCGTTAATCGGAATTACTGGGCGTAAAGCGCGCGTAGGTGGTTCAGCAAGTTGGATGTGAAATCCCCGGGCTCAACCTGGGAACTGCATCCAAAACTACTGAGCTAGAGTACGGTAGAGGGTGGTGGAATTTCCTGTGTAGCGGTGAAATGCGTAGATATAGGAAGGAACACCAGTGGCGAAGGCGACCACCTGGACTGATACTGACACTGAGGTGCGAAAGCGTGGGGAGCAAACAGG                                                                                                                                                                                                                                                                                                                                                                                                                                                                                                                                                                                                                                                                                                                                                                                                                                                                                             \\\\\n",
       "\t 581                                                                                                                                                                                                                                                                                                                                                                                                                                                                                                                                                                                                                                                                                                                                                                                                                                                                                                                                                                                                            & Lactococcus\\_lactis\\_{[}108{]},Lactococcus\\_taiwanensis\\_0905C15                                                                                                                                                                                                                                                                                                                                                                                                                                                                                                                                                                                                                                                                                                                                                                                                                                                                                                                                           & 304                                                                                                                                                                                                                                                                                                                                                                                                                                                                                                                                                                                                                                                                                                                                                                                                                                                                                                                                                                                                            & 3                                                                                                                                                                                                                                                                                                                                                                                                                                                                                                                                                                                                                                                                                                                                                                                                                                                                                                                                                                                                              & 100                                                                                                                                                                                                                                                                                                                                                                                                                                                                                                                                                                                                                                                                                                                                                                                                                                                                                                                                                                                                            & TACGTAGGTCCCGAGCGTTGTCCGGATTTATTGGGCGTAAAGCGAGCGCAGGTGGTTTATTAAGTCTGGTGTAAAAGGCAGTGGCTCAACCATTGTATGCATTGGAAACTGGTAGACTTGAGTGCAGGAGAGGAGAGTGGAATTCCATGTGTAGCGGTGAAATGCGTAGATATATGGAGGAACACCGGTGGCGAAAGCGGCTCTCTGGCCTGTAACTGACACTGAGGCTCGAAAGCGTGGGGAGCAAACAGG                                                                                                                                                                                                                                                                                                                                                                                                                                                                                                                                                                                                                                                                                                                                                  \\\\\n",
       "\\end{tabular}\n"
      ],
      "text/markdown": [
       "\n",
       "osu_id | species | qseqid | copy_number | pctsim | sequence | \n",
       "|---|---|---|---|---|---|\n",
       "|   1                                                                                                                                                                                                                                                                                                                                                                                                                                                                                                                                                                                                                                                                                                                                                                                                                                                                                                                                                                                                | Bifidobacterium_longum_[91],Bifidobacterium_breve_[52],Bifidobacterium_sp._12_1_47BFAA,Bifidobacterium_sp._TRE_D                                                                                                                                                                                                                                                                                                                                                                                                                                                                                                                                                                                                                                                                                                                                                                                                                                                                                   |  53                                                                                                                                                                                                                                                                                                                                                                                                                                                                                                                                                                                                                                                                                                                                                                                                                                                                                                                                                                                                | 2                                                                                                                                                                                                                                                                                                                                                                                                                                                                                                                                                                                                                                                                                                                                                                                                                                                                                                                                                                                                  | 100                                                                                                                                                                                                                                                                                                                                                                                                                                                                                                                                                                                                                                                                                                                                                                                                                                                                                                                                                                                                | TACGTAGGGTGCAAGCGTTATCCGGAATTATTGGGCGTAAAGGGCTCGTAGGCGGTTCGTCGCGTCCGGTGTGAAAGTCCATCGCTTAACGGTGGATCCGCGCCGGGTACGGGCGGGCTTGAGTGCGGTAGGGGAGACTGGAATTCCCGGTGTAACGGTGGAATGTGTAGATATCGGGAAGAACACCAATGGCGAAGGCAGGTCTCTGGGCCGTTACTGACGCTGAGGAGCGAAAGCGTGGGGAGCGAACAGG                                                                                                                                                                                                                                                                                                                                                                                                                                                                                                                                                                                                                                                                                                                                      | \n",
       "| 150                                                                                                                                                                                                                                                                                                                                                                                                                                                                                                                                                                                                                                                                                                                                                                                                                                                                                                                                                                                                | Escherichia_coli_[7451],Shigella_sonnei_[850],Shigella_flexneri_[70],Shigella_boydii_[51],Escherichia_fergusonii_[7],Escherichia_albertii_[2],Shigella_dysenteriae_[2],Citrobacter_braakii_SCC4,Escherichia_marmotae_HT073016,Escherichia_sp._1_1_43,Escherichia_sp._3_2_53FAA,Escherichia_sp._4_1_40B,Escherichia_sp._B1147,Escherichia_sp._KTE11,Escherichia_sp._KTE159,Escherichia_sp._KTE172,Escherichia_sp._KTE52,Escherichia_sp._KTE96,Escherichia_sp._TW09308,Escherichia_vulneris_ATCC_33821,Klebsiella_oxytoca_2880STDY5682666,Shigella_sp._PAMC_28760                                                                                                                                                                                                                                                                                                                                                                                                                                    | 121                                                                                                                                                                                                                                                                                                                                                                                                                                                                                                                                                                                                                                                                                                                                                                                                                                                                                                                                                                                                | 2                                                                                                                                                                                                                                                                                                                                                                                                                                                                                                                                                                                                                                                                                                                                                                                                                                                                                                                                                                                                  | 100                                                                                                                                                                                                                                                                                                                                                                                                                                                                                                                                                                                                                                                                                                                                                                                                                                                                                                                                                                                                | TACGGAGGGTGCAAGCGTTAATCGGAATTACTGGGCGTAAAGCGCACGCAGGCGGTTTGTTAAGTCAGATGTGAAATCCCCGGGCTCAACCTGGGAACTGCATCTGATACTGGCAAGCTTGAGTCTCGTAGAGGGGGGTAGAATTCCAGGTGTAGCGGTGAAATGCGTAGAGATCTGGAGGAATACCGGTGGCGAAGGCGGCCCCCTGGACGAAGACTGACGCTCAGGTGCGAAAGCGTGGGGAGCAAACAGG                                                                                                                                                                                                                                                                                                                                                                                                                                                                                                                                                                                                                                                                                                                                      | \n",
       "| 355                                                                                                                                                                                                                                                                                                                                                                                                                                                                                                                                                                                                                                                                                                                                                                                                                                                                                                                                                                                                | Escherichia_coli_MOD1-EC5273                                                                                                                                                                                                                                                                                                                                                                                                                                                                                                                                                                                                                                                                                                                                                                                                                                                                                                                                                                       | 121                                                                                                                                                                                                                                                                                                                                                                                                                                                                                                                                                                                                                                                                                                                                                                                                                                                                                                                                                                                                | 1                                                                                                                                                                                                                                                                                                                                                                                                                                                                                                                                                                                                                                                                                                                                                                                                                                                                                                                                                                                                  | 100                                                                                                                                                                                                                                                                                                                                                                                                                                                                                                                                                                                                                                                                                                                                                                                                                                                                                                                                                                                                | TACGGAGGGTGCAAGCGTTAATCGGAATTACTGGGCGTAAAGCGCACGCAGGCGGTTTGTTAAGTCAGATGTGAAATCCCCGGGCTCAACCTGGGAACTGCATCTGATACTGGCAAGCTTGAGTCTCGTAGAGGGGGGTAGAATTCCAGGTGTAGCGGTGAAATGCGTAGAGATCTGGAGGAATACCGGTGGCGAAGGCGGCCCCCTGGACGAAGACTGACGCTCAGGTGCGAAAGCGTGGGGAGCAAACAGG                                                                                                                                                                                                                                                                                                                                                                                                                                                                                                                                                                                                                                                                                                                                      | \n",
       "| 355                                                                                                                                                                                                                                                                                                                                                                                                                                                                                                                                                                                                                                                                                                                                                                                                                                                                                                                                                                                                | Escherichia_coli_MOD1-EC5273                                                                                                                                                                                                                                                                                                                                                                                                                                                                                                                                                                                                                                                                                                                                                                                                                                                                                                                                                                       | 415                                                                                                                                                                                                                                                                                                                                                                                                                                                                                                                                                                                                                                                                                                                                                                                                                                                                                                                                                                                                | 1                                                                                                                                                                                                                                                                                                                                                                                                                                                                                                                                                                                                                                                                                                                                                                                                                                                                                                                                                                                                  | 100                                                                                                                                                                                                                                                                                                                                                                                                                                                                                                                                                                                                                                                                                                                                                                                                                                                                                                                                                                                                | TACGTAGGTGGCAAGCGTTGTCCGGATTTATTGGGCGTAAAGCGAGCGCAGGCGGAAGAATAAGTCTGATGTGAAAGCCCTCGGCTTAACCGAGGAACTGCATCGGAAACTGTTTTTCTTGAGTGCAGAAGAGGAGAGTGGAACTCCATGTGTAGCGGTGGAATGCGTAGATATATGGAAGAACACCAGTGGCGAAGGCGGCTCTCTGGTCTGCAACTGACGCTGAGGCTCGAAAGCATGGGTAGCGAACAGG                                                                                                                                                                                                                                                                                                                                                                                                                                                                                                                                                                                                                                                                                                                                      | \n",
       "| 532                                                                                                                                                                                                                                                                                                                                                                                                                                                                                                                                                                                                                                                                                                                                                                                                                                                                                                                                                                                                | Pseudomonas_aeruginosa_[1873],Candidatus_Hepatobacter_penaei_NHPB,Pseudomonas_denitrificans_(nomen_rejiciendum),Pseudomonas_otitidis_LNU-E-001,Pseudomonas_sp._2_1_26,Pseudomonas_sp._HMSC057H01,Pseudomonas_sp._HMSC058A10,Pseudomonas_sp._HMSC058B07,Pseudomonas_sp._HMSC058C05,Pseudomonas_sp._HMSC059F05,Pseudomonas_sp._HMSC05H02,Pseudomonas_sp._HMSC060F12,Pseudomonas_sp._HMSC060G01,Pseudomonas_sp._HMSC060G02,Pseudomonas_sp._HMSC061A10,Pseudomonas_sp._HMSC063H08,Pseudomonas_sp._HMSC064G05,Pseudomonas_sp._HMSC065H01,Pseudomonas_sp._HMSC065H02,Pseudomonas_sp._HMSC066A08,Pseudomonas_sp._HMSC066B03,Pseudomonas_sp._HMSC067D05,Pseudomonas_sp._HMSC067F09,Pseudomonas_sp._HMSC067G02,Pseudomonas_sp._HMSC069G05,Pseudomonas_sp._HMSC070B12,Pseudomonas_sp._HMSC071F02,Pseudomonas_sp._HMSC072F09,Pseudomonas_sp._HMSC073F05,Pseudomonas_sp._HMSC075A08,Pseudomonas_sp._HMSC076A11,Pseudomonas_sp._HMSC076A12,Pseudomonas_sp._HMSC16B01,Pseudomonas_sp._P179,Pseudomonas_sp._YS-1p | 446                                                                                                                                                                                                                                                                                                                                                                                                                                                                                                                                                                                                                                                                                                                                                                                                                                                                                                                                                                                                | 1                                                                                                                                                                                                                                                                                                                                                                                                                                                                                                                                                                                                                                                                                                                                                                                                                                                                                                                                                                                                  | 100                                                                                                                                                                                                                                                                                                                                                                                                                                                                                                                                                                                                                                                                                                                                                                                                                                                                                                                                                                                                | TACGAAGGGTGCAAGCGTTAATCGGAATTACTGGGCGTAAAGCGCGCGTAGGTGGTTCAGCAAGTTGGATGTGAAATCCCCGGGCTCAACCTGGGAACTGCATCCAAAACTACTGAGCTAGAGTACGGTAGAGGGTGGTGGAATTTCCTGTGTAGCGGTGAAATGCGTAGATATAGGAAGGAACACCAGTGGCGAAGGCGACCACCTGGACTGATACTGACACTGAGGTGCGAAAGCGTGGGGAGCAAACAGG                                                                                                                                                                                                                                                                                                                                                                                                                                                                                                                                                                                                                                                                                                                                      | \n",
       "| 581                                                                                                                                                                                                                                                                                                                                                                                                                                                                                                                                                                                                                                                                                                                                                                                                                                                                                                                                                                                                | Lactococcus_lactis_[108],Lactococcus_taiwanensis_0905C15                                                                                                                                                                                                                                                                                                                                                                                                                                                                                                                                                                                                                                                                                                                                                                                                                                                                                                                                           | 304                                                                                                                                                                                                                                                                                                                                                                                                                                                                                                                                                                                                                                                                                                                                                                                                                                                                                                                                                                                                | 3                                                                                                                                                                                                                                                                                                                                                                                                                                                                                                                                                                                                                                                                                                                                                                                                                                                                                                                                                                                                  | 100                                                                                                                                                                                                                                                                                                                                                                                                                                                                                                                                                                                                                                                                                                                                                                                                                                                                                                                                                                                                | TACGTAGGTCCCGAGCGTTGTCCGGATTTATTGGGCGTAAAGCGAGCGCAGGTGGTTTATTAAGTCTGGTGTAAAAGGCAGTGGCTCAACCATTGTATGCATTGGAAACTGGTAGACTTGAGTGCAGGAGAGGAGAGTGGAATTCCATGTGTAGCGGTGAAATGCGTAGATATATGGAGGAACACCGGTGGCGAAAGCGGCTCTCTGGCCTGTAACTGACACTGAGGCTCGAAAGCGTGGGGAGCAAACAGG                                                                                                                                                                                                                                                                                                                                                                                                                                                                                                                                                                                                                                                                                                                                       | \n",
       "\n",
       "\n"
      ],
      "text/plain": [
       "  osu_id\n",
       "1   1   \n",
       "2 150   \n",
       "3 355   \n",
       "4 355   \n",
       "5 532   \n",
       "6 581   \n",
       "  species                                                                                                                                                                                                                                                                                                                                                                                                                                                                                                                                                                                                                                                                                                                                                                                                                                                                                                                                                                                           \n",
       "1 Bifidobacterium_longum_[91],Bifidobacterium_breve_[52],Bifidobacterium_sp._12_1_47BFAA,Bifidobacterium_sp._TRE_D                                                                                                                                                                                                                                                                                                                                                                                                                                                                                                                                                                                                                                                                                                                                                                                                                                                                                  \n",
       "2 Escherichia_coli_[7451],Shigella_sonnei_[850],Shigella_flexneri_[70],Shigella_boydii_[51],Escherichia_fergusonii_[7],Escherichia_albertii_[2],Shigella_dysenteriae_[2],Citrobacter_braakii_SCC4,Escherichia_marmotae_HT073016,Escherichia_sp._1_1_43,Escherichia_sp._3_2_53FAA,Escherichia_sp._4_1_40B,Escherichia_sp._B1147,Escherichia_sp._KTE11,Escherichia_sp._KTE159,Escherichia_sp._KTE172,Escherichia_sp._KTE52,Escherichia_sp._KTE96,Escherichia_sp._TW09308,Escherichia_vulneris_ATCC_33821,Klebsiella_oxytoca_2880STDY5682666,Shigella_sp._PAMC_28760                                                                                                                                                                                                                                                                                                                                                                                                                                   \n",
       "3 Escherichia_coli_MOD1-EC5273                                                                                                                                                                                                                                                                                                                                                                                                                                                                                                                                                                                                                                                                                                                                                                                                                                                                                                                                                                      \n",
       "4 Escherichia_coli_MOD1-EC5273                                                                                                                                                                                                                                                                                                                                                                                                                                                                                                                                                                                                                                                                                                                                                                                                                                                                                                                                                                      \n",
       "5 Pseudomonas_aeruginosa_[1873],Candidatus_Hepatobacter_penaei_NHPB,Pseudomonas_denitrificans_(nomen_rejiciendum),Pseudomonas_otitidis_LNU-E-001,Pseudomonas_sp._2_1_26,Pseudomonas_sp._HMSC057H01,Pseudomonas_sp._HMSC058A10,Pseudomonas_sp._HMSC058B07,Pseudomonas_sp._HMSC058C05,Pseudomonas_sp._HMSC059F05,Pseudomonas_sp._HMSC05H02,Pseudomonas_sp._HMSC060F12,Pseudomonas_sp._HMSC060G01,Pseudomonas_sp._HMSC060G02,Pseudomonas_sp._HMSC061A10,Pseudomonas_sp._HMSC063H08,Pseudomonas_sp._HMSC064G05,Pseudomonas_sp._HMSC065H01,Pseudomonas_sp._HMSC065H02,Pseudomonas_sp._HMSC066A08,Pseudomonas_sp._HMSC066B03,Pseudomonas_sp._HMSC067D05,Pseudomonas_sp._HMSC067F09,Pseudomonas_sp._HMSC067G02,Pseudomonas_sp._HMSC069G05,Pseudomonas_sp._HMSC070B12,Pseudomonas_sp._HMSC071F02,Pseudomonas_sp._HMSC072F09,Pseudomonas_sp._HMSC073F05,Pseudomonas_sp._HMSC075A08,Pseudomonas_sp._HMSC076A11,Pseudomonas_sp._HMSC076A12,Pseudomonas_sp._HMSC16B01,Pseudomonas_sp._P179,Pseudomonas_sp._YS-1p\n",
       "6 Lactococcus_lactis_[108],Lactococcus_taiwanensis_0905C15                                                                                                                                                                                                                                                                                                                                                                                                                                                                                                                                                                                                                                                                                                                                                                                                                                                                                                                                          \n",
       "  qseqid copy_number pctsim\n",
       "1  53    2           100   \n",
       "2 121    2           100   \n",
       "3 121    1           100   \n",
       "4 415    1           100   \n",
       "5 446    1           100   \n",
       "6 304    3           100   \n",
       "  sequence                                                                                                                                                                                                                                                     \n",
       "1 TACGTAGGGTGCAAGCGTTATCCGGAATTATTGGGCGTAAAGGGCTCGTAGGCGGTTCGTCGCGTCCGGTGTGAAAGTCCATCGCTTAACGGTGGATCCGCGCCGGGTACGGGCGGGCTTGAGTGCGGTAGGGGAGACTGGAATTCCCGGTGTAACGGTGGAATGTGTAGATATCGGGAAGAACACCAATGGCGAAGGCAGGTCTCTGGGCCGTTACTGACGCTGAGGAGCGAAAGCGTGGGGAGCGAACAGG\n",
       "2 TACGGAGGGTGCAAGCGTTAATCGGAATTACTGGGCGTAAAGCGCACGCAGGCGGTTTGTTAAGTCAGATGTGAAATCCCCGGGCTCAACCTGGGAACTGCATCTGATACTGGCAAGCTTGAGTCTCGTAGAGGGGGGTAGAATTCCAGGTGTAGCGGTGAAATGCGTAGAGATCTGGAGGAATACCGGTGGCGAAGGCGGCCCCCTGGACGAAGACTGACGCTCAGGTGCGAAAGCGTGGGGAGCAAACAGG\n",
       "3 TACGGAGGGTGCAAGCGTTAATCGGAATTACTGGGCGTAAAGCGCACGCAGGCGGTTTGTTAAGTCAGATGTGAAATCCCCGGGCTCAACCTGGGAACTGCATCTGATACTGGCAAGCTTGAGTCTCGTAGAGGGGGGTAGAATTCCAGGTGTAGCGGTGAAATGCGTAGAGATCTGGAGGAATACCGGTGGCGAAGGCGGCCCCCTGGACGAAGACTGACGCTCAGGTGCGAAAGCGTGGGGAGCAAACAGG\n",
       "4 TACGTAGGTGGCAAGCGTTGTCCGGATTTATTGGGCGTAAAGCGAGCGCAGGCGGAAGAATAAGTCTGATGTGAAAGCCCTCGGCTTAACCGAGGAACTGCATCGGAAACTGTTTTTCTTGAGTGCAGAAGAGGAGAGTGGAACTCCATGTGTAGCGGTGGAATGCGTAGATATATGGAAGAACACCAGTGGCGAAGGCGGCTCTCTGGTCTGCAACTGACGCTGAGGCTCGAAAGCATGGGTAGCGAACAGG\n",
       "5 TACGAAGGGTGCAAGCGTTAATCGGAATTACTGGGCGTAAAGCGCGCGTAGGTGGTTCAGCAAGTTGGATGTGAAATCCCCGGGCTCAACCTGGGAACTGCATCCAAAACTACTGAGCTAGAGTACGGTAGAGGGTGGTGGAATTTCCTGTGTAGCGGTGAAATGCGTAGATATAGGAAGGAACACCAGTGGCGAAGGCGACCACCTGGACTGATACTGACACTGAGGTGCGAAAGCGTGGGGAGCAAACAGG\n",
       "6 TACGTAGGTCCCGAGCGTTGTCCGGATTTATTGGGCGTAAAGCGAGCGCAGGTGGTTTATTAAGTCTGGTGTAAAAGGCAGTGGCTCAACCATTGTATGCATTGGAAACTGGTAGACTTGAGTGCAGGAGAGGAGAGTGGAATTCCATGTGTAGCGGTGAAATGCGTAGATATATGGAGGAACACCGGTGGCGAAAGCGGCTCTCTGGCCTGTAACTGACACTGAGGCTCGAAAGCGTGGGGAGCAAACAGG "
      ]
     },
     "metadata": {},
     "output_type": "display_data"
    }
   ],
   "source": [
    "osu_seq.dt = osu_sequences(osu_ab.dt, blast_output)\n",
    "head(osu_seq.dt)"
   ]
  },
  {
   "cell_type": "markdown",
   "metadata": {},
   "source": [
    "## Save output"
   ]
  },
  {
   "cell_type": "markdown",
   "metadata": {},
   "source": [
    "Finally, let's save the outputs:"
   ]
  },
  {
   "cell_type": "code",
   "execution_count": 29,
   "metadata": {
    "collapsed": true
   },
   "outputs": [],
   "source": [
    "write_table(osu_ab.dt, file.path(out_path, 'osu_abundances.txt'))\n",
    "write_table(osu_seq.dt, file.path(out_path, 'osu_sequences.txt'))\n",
    "write_table(osu_tax.dt, file.path(out_path, 'osu_taxonomy.txt'))"
   ]
  }
 ],
 "metadata": {
  "kernelspec": {
   "display_name": "R",
   "language": "R",
   "name": "ir"
  },
  "language_info": {
   "codemirror_mode": "r",
   "file_extension": ".r",
   "mimetype": "text/x-r-source",
   "name": "R",
   "pygments_lexer": "r",
   "version": "3.4.4"
  }
 },
 "nbformat": 4,
 "nbformat_minor": 2
}
