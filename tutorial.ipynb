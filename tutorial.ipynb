{
 "cells": [
  {
   "cell_type": "markdown",
   "metadata": {},
   "source": [
    "# HiMAP tutorial: human data"
   ]
  },
  {
   "cell_type": "markdown",
   "metadata": {},
   "source": [
    "This tutorial assumes you've installed HiMAP."
   ]
  },
  {
   "cell_type": "markdown",
   "metadata": {},
   "source": [
    "To test, download files from 2 samples of DIABIMMUNE Tri-county cohort:\n",
    "* [Sample G3225 (forward)](https://pubs.broadinstitute.org/diabimmune/data/10/G63225_R1_001.fastq.gz)\n",
    "* [Sample G3225 (reverse)](https://pubs.broadinstitute.org/diabimmune/data/10/G63225_R2_001.fastq.gz)\n",
    "* [Sample G3228 (forward)](https://pubs.broadinstitute.org/diabimmune/data/10/G63228_R1_001.fastq.gz)\n",
    "* [Sample G3228 (reverse)](https://pubs.broadinstitute.org/diabimmune/data/10/G63228_R2_001.fastq.gz)\n",
    "\n",
    "and save them to a folder. For the purposes of this tutorial, we will save them to `~/data/diabimmune/fastq_tutorial/`. In these samples, V4 hyper-variable region is sequenced."
   ]
  },
  {
   "cell_type": "code",
   "execution_count": 1,
   "metadata": {
    "collapsed": false
   },
   "outputs": [
    {
     "name": "stderr",
     "output_type": "stream",
     "text": [
      "HiMAP v1.0 loaded.\n"
     ]
    }
   ],
   "source": [
    "library(himap)"
   ]
  },
  {
   "cell_type": "markdown",
   "metadata": {},
   "source": [
    "## Loading files and specifying folders"
   ]
  },
  {
   "cell_type": "markdown",
   "metadata": {},
   "source": [
    "First, we will need full paths to the FASTQ files for pair-end 16S reads. Filenames for all forwards reads will be stored in `fq_fwd` and reverse in `fq_rev`."
   ]
  },
  {
   "cell_type": "code",
   "execution_count": 2,
   "metadata": {
    "collapsed": false
   },
   "outputs": [],
   "source": [
    "fastq_path = '~/data/diabimmune/tutorial/fastq'\n",
    "fq_fwd = read_files(fastq_path, 'R1')\n",
    "fq_rev = read_files(fastq_path, 'R2')"
   ]
  },
  {
   "cell_type": "markdown",
   "metadata": {},
   "source": [
    "The filenames are used to extract identifiers for each file, either with forward or reverse reads. The function `sampleids_from_filenames` will retrieve those, given a separator (default is the underscore _). For example, from forward files: "
   ]
  },
  {
   "cell_type": "code",
   "execution_count": 3,
   "metadata": {
    "collapsed": false
   },
   "outputs": [
    {
     "data": {
      "text/html": [
       "<ol class=list-inline>\n",
       "\t<li>'/Users/igor/data/diabimmune/tutorial/fastq/G63225_R1_001.fastq.gz'</li>\n",
       "\t<li>'/Users/igor/data/diabimmune/tutorial/fastq/G63228_R1_001.fastq.gz'</li>\n",
       "</ol>\n"
      ],
      "text/latex": [
       "\\begin{enumerate*}\n",
       "\\item '/Users/igor/data/diabimmune/tutorial/fastq/G63225\\_R1\\_001.fastq.gz'\n",
       "\\item '/Users/igor/data/diabimmune/tutorial/fastq/G63228\\_R1\\_001.fastq.gz'\n",
       "\\end{enumerate*}\n"
      ],
      "text/markdown": [
       "1. '/Users/igor/data/diabimmune/tutorial/fastq/G63225_R1_001.fastq.gz'\n",
       "2. '/Users/igor/data/diabimmune/tutorial/fastq/G63228_R1_001.fastq.gz'\n",
       "\n",
       "\n"
      ],
      "text/plain": [
       "[1] \"/Users/igor/data/diabimmune/tutorial/fastq/G63225_R1_001.fastq.gz\"\n",
       "[2] \"/Users/igor/data/diabimmune/tutorial/fastq/G63228_R1_001.fastq.gz\""
      ]
     },
     "metadata": {},
     "output_type": "display_data"
    }
   ],
   "source": [
    "head(fq_fwd)"
   ]
  },
  {
   "cell_type": "markdown",
   "metadata": {},
   "source": [
    "we would like `G63225` and `G63228` labels:"
   ]
  },
  {
   "cell_type": "code",
   "execution_count": 4,
   "metadata": {
    "collapsed": false
   },
   "outputs": [
    {
     "data": {
      "text/html": [
       "<ol class=list-inline>\n",
       "\t<li>'G63225'</li>\n",
       "\t<li>'G63228'</li>\n",
       "</ol>\n"
      ],
      "text/latex": [
       "\\begin{enumerate*}\n",
       "\\item 'G63225'\n",
       "\\item 'G63228'\n",
       "\\end{enumerate*}\n"
      ],
      "text/markdown": [
       "1. 'G63225'\n",
       "2. 'G63228'\n",
       "\n",
       "\n"
      ],
      "text/plain": [
       "[1] \"G63225\" \"G63228\""
      ]
     },
     "metadata": {},
     "output_type": "display_data"
    }
   ],
   "source": [
    "sample_ids = sampleids_from_filenames(fq_fwd, separator='_')\n",
    "head(sample_ids)"
   ]
  },
  {
   "cell_type": "markdown",
   "metadata": {},
   "source": [
    "HiMAP will output a number of output files and folders, which will be explained as we go along, so specify a folder where to save all files:"
   ]
  },
  {
   "cell_type": "code",
   "execution_count": 5,
   "metadata": {
    "collapsed": true
   },
   "outputs": [],
   "source": [
    "out_path = path.expand('~/data/diabimmune/tutorial')"
   ]
  },
  {
   "cell_type": "markdown",
   "metadata": {},
   "source": [
    "## Merging reads"
   ]
  },
  {
   "cell_type": "markdown",
   "metadata": {},
   "source": [
    "First specify the output files for each sample, the merge:"
   ]
  },
  {
   "cell_type": "code",
   "execution_count": 6,
   "metadata": {
    "collapsed": false
   },
   "outputs": [
    {
     "name": "stderr",
     "output_type": "stream",
     "text": [
      "Loading FASTQ reads... OK.\n",
      "Merging pairs... OK.\n",
      "Writing output files... OK.\n",
      "Loading FASTQ reads... OK.\n",
      "Merging pairs... OK.\n",
      "Writing output files... OK.\n"
     ]
    }
   ],
   "source": [
    "fq_mer = file.path(out_path, 'merged', paste0(sample_ids, '.fastq'))\n",
    "mergestats = merge_pairs(fq_fwd, fq_rev, fq_mer, verbose=T)"
   ]
  },
  {
   "cell_type": "markdown",
   "metadata": {},
   "source": [
    "Check how many reads are merged and not merged:"
   ]
  },
  {
   "cell_type": "code",
   "execution_count": 7,
   "metadata": {
    "collapsed": false
   },
   "outputs": [
    {
     "data": {
      "text/html": [
       "<table>\n",
       "<thead><tr><th></th><th scope=col>G63225</th><th scope=col>G63228</th></tr></thead>\n",
       "<tbody>\n",
       "\t<tr><th scope=row>total</th><td>107153</td><td>129781</td></tr>\n",
       "\t<tr><th scope=row>low_pct_sim</th><td>1264</td><td>989 </td></tr>\n",
       "\t<tr><th scope=row>low_aln_len</th><td>6 </td><td>20</td></tr>\n",
       "</tbody>\n",
       "</table>\n"
      ],
      "text/latex": [
       "\\begin{tabular}{r|ll}\n",
       "  & G63225 & G63228\\\\\n",
       "\\hline\n",
       "\ttotal & 107153 & 129781\\\\\n",
       "\tlow\\_pct\\_sim & 1264 & 989 \\\\\n",
       "\tlow\\_aln\\_len & 6  & 20\\\\\n",
       "\\end{tabular}\n"
      ],
      "text/markdown": [
       "\n",
       "| <!--/--> | G63225 | G63228 | \n",
       "|---|---|---|\n",
       "| total | 107153 | 129781 | \n",
       "| low_pct_sim | 1264 | 989  | \n",
       "| low_aln_len | 6  | 20 | \n",
       "\n",
       "\n"
      ],
      "text/plain": [
       "            G63225 G63228\n",
       "total       107153 129781\n",
       "low_pct_sim 1264   989   \n",
       "low_aln_len 6      20    "
      ]
     },
     "metadata": {},
     "output_type": "display_data"
    }
   ],
   "source": [
    "colnames(mergestats) = sample_ids\n",
    "mergestats"
   ]
  },
  {
   "cell_type": "markdown",
   "metadata": {},
   "source": [
    "Out of 107,153 total reads 1,264 were not merged due to low percentage similarity in the alignment (if this number is high, consider lowering `min_sim` parameter) or too high alignment length (if this number is too high, consider lowering `low_aln_len`). See `?merge_pairs` for more details."
   ]
  },
  {
   "cell_type": "markdown",
   "metadata": {},
   "source": [
    "## Trim PCR primers"
   ]
  },
  {
   "cell_type": "markdown",
   "metadata": {},
   "source": [
    "Trim PCR primers from merged reads. Specify region 'V4' or 'V3-V4'. First, create output filenames, then do the trimming, using V4 region primers. Exact primer sequences can also be specified using arguments `pr_fwd` and `pr_rev`; see `?pcr_primer_trimmer` for details."
   ]
  },
  {
   "cell_type": "code",
   "execution_count": 8,
   "metadata": {
    "collapsed": false
   },
   "outputs": [],
   "source": [
    "fq_tri = file.path(out_path, 'trimmed', paste0(sample_ids, '.fastq'))\n",
    "trimstats = pcr_primer_trimmer(fq_mer, fq_tri, region='V4')"
   ]
  },
  {
   "cell_type": "code",
   "execution_count": 9,
   "metadata": {
    "collapsed": false
   },
   "outputs": [
    {
     "data": {
      "text/html": [
       "<table>\n",
       "<thead><tr><th></th><th scope=col>G63225</th><th scope=col>G63228</th></tr></thead>\n",
       "<tbody>\n",
       "\t<tr><th scope=row>fwd_trim</th><td>0</td><td>0</td></tr>\n",
       "\t<tr><th scope=row>rev_trim</th><td>0</td><td>0</td></tr>\n",
       "</tbody>\n",
       "</table>\n"
      ],
      "text/latex": [
       "\\begin{tabular}{r|ll}\n",
       "  & G63225 & G63228\\\\\n",
       "\\hline\n",
       "\tfwd\\_trim & 0 & 0\\\\\n",
       "\trev\\_trim & 0 & 0\\\\\n",
       "\\end{tabular}\n"
      ],
      "text/markdown": [
       "\n",
       "| <!--/--> | G63225 | G63228 | \n",
       "|---|---|\n",
       "| fwd_trim | 0 | 0 | \n",
       "| rev_trim | 0 | 0 | \n",
       "\n",
       "\n"
      ],
      "text/plain": [
       "         G63225 G63228\n",
       "fwd_trim 0      0     \n",
       "rev_trim 0      0     "
      ]
     },
     "metadata": {},
     "output_type": "display_data"
    }
   ],
   "source": [
    "colnames(trimstats) = sample_ids\n",
    "trimstats"
   ]
  },
  {
   "cell_type": "markdown",
   "metadata": {},
   "source": [
    "No primers were found in this dataset."
   ]
  },
  {
   "cell_type": "markdown",
   "metadata": {},
   "source": [
    "## Quality control and fixed-length trimming"
   ]
  },
  {
   "cell_type": "markdown",
   "metadata": {},
   "source": [
    "Since the input for DADA2 denoising requires all sequences to be trimmed to the fixed length, we first inspect the distribution of sequence lengths before choosing this parameter:"
   ]
  },
  {
   "cell_type": "code",
   "execution_count": 10,
   "metadata": {
    "collapsed": true
   },
   "outputs": [],
   "source": [
    "seqlen.ft = sequence_length_table(fq_tri)"
   ]
  },
  {
   "cell_type": "code",
   "execution_count": 11,
   "metadata": {
    "collapsed": false
   },
   "outputs": [
    {
     "data": {
      "image/png": "[encoded data removed]",
      "text/plain": [
       "plot without title"
      ]
     },
     "metadata": {},
     "output_type": "display_data"
    }
   ],
   "source": [
    "options(repr.plot.width=4, repr.plot.height=3) # Make a smaller plot\n",
    "plot(seqlen.ft)"
   ]
  },
  {
   "cell_type": "markdown",
   "metadata": {},
   "source": [
    "We can select the minimum trimming length by finding the length above which we have 99% of the reads, since most of the reads here have 252 and 253 nt length."
   ]
  },
  {
   "cell_type": "code",
   "execution_count": 12,
   "metadata": {
    "collapsed": false
   },
   "outputs": [
    {
     "data": {
      "text/html": [
       "252"
      ],
      "text/latex": [
       "252"
      ],
      "text/markdown": [
       "252"
      ],
      "text/plain": [
       "[1] 252"
      ]
     },
     "metadata": {},
     "output_type": "display_data"
    }
   ],
   "source": [
    "trim_length = ftquantile(seqlen.ft, 0.01)\n",
    "trim_length"
   ]
  },
  {
   "cell_type": "markdown",
   "metadata": {},
   "source": [
    "Now we can use that to do the trimming. For quality control keep sequences with 2 or less expected errors [Edgar, Flyberg]. This also removes any phiX sequences and sequences containing any Ns after truncation (trimming):"
   ]
  },
  {
   "cell_type": "code",
   "execution_count": 13,
   "metadata": {
    "collapsed": false
   },
   "outputs": [],
   "source": [
    "fq_fil = file.path(out_path, 'filtered', paste0(sample_ids, '.fastq'))\n",
    "filtstats = dada2::filterAndTrim(fq_tri, fq_fil, truncLen=trim_length, maxEE=2, multithread=T, verbose=T)"
   ]
  },
  {
   "cell_type": "markdown",
   "metadata": {},
   "source": [
    "As before, the function returns the table showing the number of reads kept during the QC filtering process:"
   ]
  },
  {
   "cell_type": "code",
   "execution_count": 14,
   "metadata": {
    "collapsed": false
   },
   "outputs": [
    {
     "data": {
      "text/html": [
       "<table>\n",
       "<thead><tr><th></th><th scope=col>reads.in</th><th scope=col>reads.out</th></tr></thead>\n",
       "<tbody>\n",
       "\t<tr><th scope=row>G63225.fastq</th><td>105889</td><td> 98352</td></tr>\n",
       "\t<tr><th scope=row>G63228.fastq</th><td>128782</td><td>122382</td></tr>\n",
       "</tbody>\n",
       "</table>\n"
      ],
      "text/latex": [
       "\\begin{tabular}{r|ll}\n",
       "  & reads.in & reads.out\\\\\n",
       "\\hline\n",
       "\tG63225.fastq & 105889 &  98352\\\\\n",
       "\tG63228.fastq & 128782 & 122382\\\\\n",
       "\\end{tabular}\n"
      ],
      "text/markdown": [
       "\n",
       "| <!--/--> | reads.in | reads.out | \n",
       "|---|---|\n",
       "| G63225.fastq | 105889 |  98352 | \n",
       "| G63228.fastq | 128782 | 122382 | \n",
       "\n",
       "\n"
      ],
      "text/plain": [
       "             reads.in reads.out\n",
       "G63225.fastq 105889    98352   \n",
       "G63228.fastq 128782   122382   "
      ]
     },
     "metadata": {},
     "output_type": "display_data"
    }
   ],
   "source": [
    "filtstats"
   ]
  },
  {
   "cell_type": "markdown",
   "metadata": {},
   "source": [
    "## Denoising"
   ]
  },
  {
   "cell_type": "markdown",
   "metadata": {},
   "source": [
    "For denoising, we use `dada` function from the dada2 package. After the denoising part is done, for each partition, we retrieve pre-trimmed sequences and add their consensus sequence back. This can improve the accuracy of the alignment to the reference database in one of the next steps."
   ]
  },
  {
   "cell_type": "code",
   "execution_count": 15,
   "metadata": {
    "collapsed": false
   },
   "outputs": [],
   "source": [
    "# dada_result = dada_denoise(fq_fil, fq_tri)\n",
    "dada_result = readRDS(file.path(out_path, 'dada_result'))"
   ]
  },
  {
   "cell_type": "code",
   "execution_count": 16,
   "metadata": {
    "collapsed": true
   },
   "outputs": [],
   "source": [
    "# saveRDS(dada_result, file.path(out_path, 'dada_result'))"
   ]
  },
  {
   "cell_type": "markdown",
   "metadata": {},
   "source": [
    "## Count sequences, remove bimeras, collapse sequences from multiple samples"
   ]
  },
  {
   "cell_type": "markdown",
   "metadata": {},
   "source": [
    "Next, we count the number of reads for each denoised sequence, remove chimeric (here bimeric) reads. If we work with multiple samples, we pool together denoised sequences that are identical up to shifts or length variation:"
   ]
  },
  {
   "cell_type": "code",
   "execution_count": 17,
   "metadata": {
    "collapsed": false
   },
   "outputs": [
    {
     "name": "stdout",
     "output_type": "stream",
     "text": [
      "* generating sequence table..."
     ]
    },
    {
     "name": "stderr",
     "output_type": "stream",
     "text": [
      "The sequences being tabled vary in length.\n"
     ]
    },
    {
     "name": "stdout",
     "output_type": "stream",
     "text": [
      " OK.\n",
      "* removing bimeras..."
     ]
    },
    {
     "name": "stderr",
     "output_type": "stream",
     "text": [
      "Identified 1186 bimeras out of 1703 input sequences.\n"
     ]
    },
    {
     "name": "stdout",
     "output_type": "stream",
     "text": [
      " OK.\n",
      "* adding together sequences that differ in shifts on lengths...collapse:\n",
      "* generating temporary files...OK.\n",
      "* blast word size: 202 \n",
      "* running blast...blast status:  0\n",
      "OK.\n",
      "* selecting ends-free alignments...OK.\n",
      "* no sequences need collapsing.\n",
      "* cleaning up temporary files...OK.\n",
      "* returning input.\n",
      " OK.\n"
     ]
    }
   ],
   "source": [
    "ab.dt = sequence_abundance(dada_result)"
   ]
  },
  {
   "cell_type": "code",
   "execution_count": 18,
   "metadata": {
    "collapsed": false
   },
   "outputs": [
    {
     "data": {
      "text/html": [
       "<table>\n",
       "<thead><tr><th scope=col>sample_id</th><th scope=col>qseqid</th><th scope=col>raw_count</th><th scope=col>sequence</th></tr></thead>\n",
       "<tbody>\n",
       "\t<tr><td>G63225                                                                                                                                                                                                                                                       </td><td>1                                                                                                                                                                                                                                                            </td><td>25291                                                                                                                                                                                                                                                        </td><td>TACGGAGGATCCGAGCGTTATCCGGATTTATTGGGTTTAAAGGGAGCGTAGATGGATGTTTAAGTCAGTTGTGAAAGTTTGCGGCTCAACCGTAAAATTGCAGTTGATACTGGATGTCTTGAGTGCAGTTGAGGCAGGCGGAATTCGTGGTGTAGCGGTGAAATGCTTAGATATCACGAAGAACTCCGATTGCGAAGGCAGCCTGCTAAGCTGCAACTGACATTGAGGCTCGAAAGTGTGGGTATCAAACAGG</td></tr>\n",
       "\t<tr><td>G63228                                                                                                                                                                                                                                                       </td><td>1                                                                                                                                                                                                                                                            </td><td>   31                                                                                                                                                                                                                                                        </td><td>TACGGAGGATCCGAGCGTTATCCGGATTTATTGGGTTTAAAGGGAGCGTAGATGGATGTTTAAGTCAGTTGTGAAAGTTTGCGGCTCAACCGTAAAATTGCAGTTGATACTGGATGTCTTGAGTGCAGTTGAGGCAGGCGGAATTCGTGGTGTAGCGGTGAAATGCTTAGATATCACGAAGAACTCCGATTGCGAAGGCAGCCTGCTAAGCTGCAACTGACATTGAGGCTCGAAAGTGTGGGTATCAAACAGG</td></tr>\n",
       "\t<tr><td>G63225                                                                                                                                                                                                                                                       </td><td>2                                                                                                                                                                                                                                                            </td><td>    0                                                                                                                                                                                                                                                        </td><td>TACAGAGGTCTCAAGCGTTGTTCGGAATCACTGGGCGTAAAGCGTGCGTAGGCTGTTTCGTAAGTCGTGTGTGAAAGGCGCGGGCTCAACCCGCGGACGGCACATGATACTGCGAGACTAGAGTAATGGAGGGGGAACCGGAATTCTCGGTGTAGCAGTGAAATGCGTAGATATCGAGAGGAACACTCGTGGCGAAGGCGGGTTCCTGGACATTAACTGACGCTGAGGCACGAAGGCCAGGGGAGCGAAAGGG</td></tr>\n",
       "\t<tr><td>G63228                                                                                                                                                                                                                                                       </td><td>2                                                                                                                                                                                                                                                            </td><td>23187                                                                                                                                                                                                                                                        </td><td>TACAGAGGTCTCAAGCGTTGTTCGGAATCACTGGGCGTAAAGCGTGCGTAGGCTGTTTCGTAAGTCGTGTGTGAAAGGCGCGGGCTCAACCCGCGGACGGCACATGATACTGCGAGACTAGAGTAATGGAGGGGGAACCGGAATTCTCGGTGTAGCAGTGAAATGCGTAGATATCGAGAGGAACACTCGTGGCGAAGGCGGGTTCCTGGACATTAACTGACGCTGAGGCACGAAGGCCAGGGGAGCGAAAGGG</td></tr>\n",
       "\t<tr><td>G63225                                                                                                                                                                                                                                                       </td><td>3                                                                                                                                                                                                                                                            </td><td>  815                                                                                                                                                                                                                                                        </td><td>AACGTAGGTCACAAGCGTTGTCCGGAATTACTGGGTGTAAAGGGAGCGCAGGCGGGAAGACAAGTTGGAAGTGAAATCTATGGGCTCAACCCATAAACTGCTTTCAAAACTGTTTTTCTTGAGTAGTGCAGAGGTAGGCGGAATTCCCGGTGTAGCGGTGGAATGCGTAGATATCGGGAGGAACACCAGTGGCGAAGGCGGCCTACTGGGCACCAACTGACGCTGAGGCTCGAAAGTGTGGGTAGCAAACAGG</td></tr>\n",
       "\t<tr><td>G63228                                                                                                                                                                                                                                                       </td><td>3                                                                                                                                                                                                                                                            </td><td> 9908                                                                                                                                                                                                                                                        </td><td>AACGTAGGTCACAAGCGTTGTCCGGAATTACTGGGTGTAAAGGGAGCGCAGGCGGGAAGACAAGTTGGAAGTGAAATCTATGGGCTCAACCCATAAACTGCTTTCAAAACTGTTTTTCTTGAGTAGTGCAGAGGTAGGCGGAATTCCCGGTGTAGCGGTGGAATGCGTAGATATCGGGAGGAACACCAGTGGCGAAGGCGGCCTACTGGGCACCAACTGACGCTGAGGCTCGAAAGTGTGGGTAGCAAACAGG</td></tr>\n",
       "\t<tr><td>G63225                                                                                                                                                                                                                                                       </td><td>4                                                                                                                                                                                                                                                            </td><td>  403                                                                                                                                                                                                                                                        </td><td>TACGTATGGTGCAAGCGTTATCCGGATTTACTGGGTGTAAAGGGAGCGCAGGCGGTGCGGCAAGTCTGATGTGAAAGCCCGGGGCTCAACCCCGGTACTGCATTGGAAACTGTCGTACTAGAGTGTCGGAGGGGTAAGCGGAATTCCTAGTGTAGCGGTGAAATGCGTAGATATTAGGAGGAACACCAGTGGCGAAGGCGGCTTACTGGACGATAACTGACGCTGAGGCTCGAAAGCGTGGGGAGCAAACAGG</td></tr>\n",
       "\t<tr><td>G63228                                                                                                                                                                                                                                                       </td><td>4                                                                                                                                                                                                                                                            </td><td> 8392                                                                                                                                                                                                                                                        </td><td>TACGTATGGTGCAAGCGTTATCCGGATTTACTGGGTGTAAAGGGAGCGCAGGCGGTGCGGCAAGTCTGATGTGAAAGCCCGGGGCTCAACCCCGGTACTGCATTGGAAACTGTCGTACTAGAGTGTCGGAGGGGTAAGCGGAATTCCTAGTGTAGCGGTGAAATGCGTAGATATTAGGAGGAACACCAGTGGCGAAGGCGGCTTACTGGACGATAACTGACGCTGAGGCTCGAAAGCGTGGGGAGCAAACAGG</td></tr>\n",
       "\t<tr><td>G63225                                                                                                                                                                                                                                                       </td><td>5                                                                                                                                                                                                                                                            </td><td>    0                                                                                                                                                                                                                                                        </td><td>TACGGAAGGTCCGGGCGTTATCCGGATTTATTGGGTTTAAAGGGAGCGTAGGCCGGAGATTAAGCGTGTTGTGAAATGTAGACGCTCAACGTCTGCACTGCAGCGCGAACTGGTTTCCTTGAGTACGCACAAAGTGGGCGGAATTCGTGGTGTAGCGGTGAAATGCTTAGATATCACGAAGAACTCCGATTGCGAAGGCAGCTCACTGGAGCGCAACTGACGCTGAAGCTCGAAAGTGCGGGTATCGAACAGG</td></tr>\n",
       "\t<tr><td>G63228                                                                                                                                                                                                                                                       </td><td>5                                                                                                                                                                                                                                                            </td><td> 7915                                                                                                                                                                                                                                                        </td><td>TACGGAAGGTCCGGGCGTTATCCGGATTTATTGGGTTTAAAGGGAGCGTAGGCCGGAGATTAAGCGTGTTGTGAAATGTAGACGCTCAACGTCTGCACTGCAGCGCGAACTGGTTTCCTTGAGTACGCACAAAGTGGGCGGAATTCGTGGTGTAGCGGTGAAATGCTTAGATATCACGAAGAACTCCGATTGCGAAGGCAGCTCACTGGAGCGCAACTGACGCTGAAGCTCGAAAGTGCGGGTATCGAACAGG</td></tr>\n",
       "</tbody>\n",
       "</table>\n"
      ],
      "text/latex": [
       "\\begin{tabular}{r|llll}\n",
       " sample\\_id & qseqid & raw\\_count & sequence\\\\\n",
       "\\hline\n",
       "\t G63225                                                                                                                                                                                                                                                        & 1                                                                                                                                                                                                                                                             & 25291                                                                                                                                                                                                                                                         & TACGGAGGATCCGAGCGTTATCCGGATTTATTGGGTTTAAAGGGAGCGTAGATGGATGTTTAAGTCAGTTGTGAAAGTTTGCGGCTCAACCGTAAAATTGCAGTTGATACTGGATGTCTTGAGTGCAGTTGAGGCAGGCGGAATTCGTGGTGTAGCGGTGAAATGCTTAGATATCACGAAGAACTCCGATTGCGAAGGCAGCCTGCTAAGCTGCAACTGACATTGAGGCTCGAAAGTGTGGGTATCAAACAGG\\\\\n",
       "\t G63228                                                                                                                                                                                                                                                        & 1                                                                                                                                                                                                                                                             &    31                                                                                                                                                                                                                                                         & TACGGAGGATCCGAGCGTTATCCGGATTTATTGGGTTTAAAGGGAGCGTAGATGGATGTTTAAGTCAGTTGTGAAAGTTTGCGGCTCAACCGTAAAATTGCAGTTGATACTGGATGTCTTGAGTGCAGTTGAGGCAGGCGGAATTCGTGGTGTAGCGGTGAAATGCTTAGATATCACGAAGAACTCCGATTGCGAAGGCAGCCTGCTAAGCTGCAACTGACATTGAGGCTCGAAAGTGTGGGTATCAAACAGG\\\\\n",
       "\t G63225                                                                                                                                                                                                                                                        & 2                                                                                                                                                                                                                                                             &     0                                                                                                                                                                                                                                                         & TACAGAGGTCTCAAGCGTTGTTCGGAATCACTGGGCGTAAAGCGTGCGTAGGCTGTTTCGTAAGTCGTGTGTGAAAGGCGCGGGCTCAACCCGCGGACGGCACATGATACTGCGAGACTAGAGTAATGGAGGGGGAACCGGAATTCTCGGTGTAGCAGTGAAATGCGTAGATATCGAGAGGAACACTCGTGGCGAAGGCGGGTTCCTGGACATTAACTGACGCTGAGGCACGAAGGCCAGGGGAGCGAAAGGG\\\\\n",
       "\t G63228                                                                                                                                                                                                                                                        & 2                                                                                                                                                                                                                                                             & 23187                                                                                                                                                                                                                                                         & TACAGAGGTCTCAAGCGTTGTTCGGAATCACTGGGCGTAAAGCGTGCGTAGGCTGTTTCGTAAGTCGTGTGTGAAAGGCGCGGGCTCAACCCGCGGACGGCACATGATACTGCGAGACTAGAGTAATGGAGGGGGAACCGGAATTCTCGGTGTAGCAGTGAAATGCGTAGATATCGAGAGGAACACTCGTGGCGAAGGCGGGTTCCTGGACATTAACTGACGCTGAGGCACGAAGGCCAGGGGAGCGAAAGGG\\\\\n",
       "\t G63225                                                                                                                                                                                                                                                        & 3                                                                                                                                                                                                                                                             &   815                                                                                                                                                                                                                                                         & AACGTAGGTCACAAGCGTTGTCCGGAATTACTGGGTGTAAAGGGAGCGCAGGCGGGAAGACAAGTTGGAAGTGAAATCTATGGGCTCAACCCATAAACTGCTTTCAAAACTGTTTTTCTTGAGTAGTGCAGAGGTAGGCGGAATTCCCGGTGTAGCGGTGGAATGCGTAGATATCGGGAGGAACACCAGTGGCGAAGGCGGCCTACTGGGCACCAACTGACGCTGAGGCTCGAAAGTGTGGGTAGCAAACAGG\\\\\n",
       "\t G63228                                                                                                                                                                                                                                                        & 3                                                                                                                                                                                                                                                             &  9908                                                                                                                                                                                                                                                         & AACGTAGGTCACAAGCGTTGTCCGGAATTACTGGGTGTAAAGGGAGCGCAGGCGGGAAGACAAGTTGGAAGTGAAATCTATGGGCTCAACCCATAAACTGCTTTCAAAACTGTTTTTCTTGAGTAGTGCAGAGGTAGGCGGAATTCCCGGTGTAGCGGTGGAATGCGTAGATATCGGGAGGAACACCAGTGGCGAAGGCGGCCTACTGGGCACCAACTGACGCTGAGGCTCGAAAGTGTGGGTAGCAAACAGG\\\\\n",
       "\t G63225                                                                                                                                                                                                                                                        & 4                                                                                                                                                                                                                                                             &   403                                                                                                                                                                                                                                                         & TACGTATGGTGCAAGCGTTATCCGGATTTACTGGGTGTAAAGGGAGCGCAGGCGGTGCGGCAAGTCTGATGTGAAAGCCCGGGGCTCAACCCCGGTACTGCATTGGAAACTGTCGTACTAGAGTGTCGGAGGGGTAAGCGGAATTCCTAGTGTAGCGGTGAAATGCGTAGATATTAGGAGGAACACCAGTGGCGAAGGCGGCTTACTGGACGATAACTGACGCTGAGGCTCGAAAGCGTGGGGAGCAAACAGG\\\\\n",
       "\t G63228                                                                                                                                                                                                                                                        & 4                                                                                                                                                                                                                                                             &  8392                                                                                                                                                                                                                                                         & TACGTATGGTGCAAGCGTTATCCGGATTTACTGGGTGTAAAGGGAGCGCAGGCGGTGCGGCAAGTCTGATGTGAAAGCCCGGGGCTCAACCCCGGTACTGCATTGGAAACTGTCGTACTAGAGTGTCGGAGGGGTAAGCGGAATTCCTAGTGTAGCGGTGAAATGCGTAGATATTAGGAGGAACACCAGTGGCGAAGGCGGCTTACTGGACGATAACTGACGCTGAGGCTCGAAAGCGTGGGGAGCAAACAGG\\\\\n",
       "\t G63225                                                                                                                                                                                                                                                        & 5                                                                                                                                                                                                                                                             &     0                                                                                                                                                                                                                                                         & TACGGAAGGTCCGGGCGTTATCCGGATTTATTGGGTTTAAAGGGAGCGTAGGCCGGAGATTAAGCGTGTTGTGAAATGTAGACGCTCAACGTCTGCACTGCAGCGCGAACTGGTTTCCTTGAGTACGCACAAAGTGGGCGGAATTCGTGGTGTAGCGGTGAAATGCTTAGATATCACGAAGAACTCCGATTGCGAAGGCAGCTCACTGGAGCGCAACTGACGCTGAAGCTCGAAAGTGCGGGTATCGAACAGG\\\\\n",
       "\t G63228                                                                                                                                                                                                                                                        & 5                                                                                                                                                                                                                                                             &  7915                                                                                                                                                                                                                                                         & TACGGAAGGTCCGGGCGTTATCCGGATTTATTGGGTTTAAAGGGAGCGTAGGCCGGAGATTAAGCGTGTTGTGAAATGTAGACGCTCAACGTCTGCACTGCAGCGCGAACTGGTTTCCTTGAGTACGCACAAAGTGGGCGGAATTCGTGGTGTAGCGGTGAAATGCTTAGATATCACGAAGAACTCCGATTGCGAAGGCAGCTCACTGGAGCGCAACTGACGCTGAAGCTCGAAAGTGCGGGTATCGAACAGG\\\\\n",
       "\\end{tabular}\n"
      ],
      "text/markdown": [
       "\n",
       "sample_id | qseqid | raw_count | sequence | \n",
       "|---|---|---|---|---|---|---|---|---|---|\n",
       "| G63225                                                                                                                                                                                                                                                        | 1                                                                                                                                                                                                                                                             | 25291                                                                                                                                                                                                                                                         | TACGGAGGATCCGAGCGTTATCCGGATTTATTGGGTTTAAAGGGAGCGTAGATGGATGTTTAAGTCAGTTGTGAAAGTTTGCGGCTCAACCGTAAAATTGCAGTTGATACTGGATGTCTTGAGTGCAGTTGAGGCAGGCGGAATTCGTGGTGTAGCGGTGAAATGCTTAGATATCACGAAGAACTCCGATTGCGAAGGCAGCCTGCTAAGCTGCAACTGACATTGAGGCTCGAAAGTGTGGGTATCAAACAGG | \n",
       "| G63228                                                                                                                                                                                                                                                        | 1                                                                                                                                                                                                                                                             |    31                                                                                                                                                                                                                                                         | TACGGAGGATCCGAGCGTTATCCGGATTTATTGGGTTTAAAGGGAGCGTAGATGGATGTTTAAGTCAGTTGTGAAAGTTTGCGGCTCAACCGTAAAATTGCAGTTGATACTGGATGTCTTGAGTGCAGTTGAGGCAGGCGGAATTCGTGGTGTAGCGGTGAAATGCTTAGATATCACGAAGAACTCCGATTGCGAAGGCAGCCTGCTAAGCTGCAACTGACATTGAGGCTCGAAAGTGTGGGTATCAAACAGG | \n",
       "| G63225                                                                                                                                                                                                                                                        | 2                                                                                                                                                                                                                                                             |     0                                                                                                                                                                                                                                                         | TACAGAGGTCTCAAGCGTTGTTCGGAATCACTGGGCGTAAAGCGTGCGTAGGCTGTTTCGTAAGTCGTGTGTGAAAGGCGCGGGCTCAACCCGCGGACGGCACATGATACTGCGAGACTAGAGTAATGGAGGGGGAACCGGAATTCTCGGTGTAGCAGTGAAATGCGTAGATATCGAGAGGAACACTCGTGGCGAAGGCGGGTTCCTGGACATTAACTGACGCTGAGGCACGAAGGCCAGGGGAGCGAAAGGG | \n",
       "| G63228                                                                                                                                                                                                                                                        | 2                                                                                                                                                                                                                                                             | 23187                                                                                                                                                                                                                                                         | TACAGAGGTCTCAAGCGTTGTTCGGAATCACTGGGCGTAAAGCGTGCGTAGGCTGTTTCGTAAGTCGTGTGTGAAAGGCGCGGGCTCAACCCGCGGACGGCACATGATACTGCGAGACTAGAGTAATGGAGGGGGAACCGGAATTCTCGGTGTAGCAGTGAAATGCGTAGATATCGAGAGGAACACTCGTGGCGAAGGCGGGTTCCTGGACATTAACTGACGCTGAGGCACGAAGGCCAGGGGAGCGAAAGGG | \n",
       "| G63225                                                                                                                                                                                                                                                        | 3                                                                                                                                                                                                                                                             |   815                                                                                                                                                                                                                                                         | AACGTAGGTCACAAGCGTTGTCCGGAATTACTGGGTGTAAAGGGAGCGCAGGCGGGAAGACAAGTTGGAAGTGAAATCTATGGGCTCAACCCATAAACTGCTTTCAAAACTGTTTTTCTTGAGTAGTGCAGAGGTAGGCGGAATTCCCGGTGTAGCGGTGGAATGCGTAGATATCGGGAGGAACACCAGTGGCGAAGGCGGCCTACTGGGCACCAACTGACGCTGAGGCTCGAAAGTGTGGGTAGCAAACAGG | \n",
       "| G63228                                                                                                                                                                                                                                                        | 3                                                                                                                                                                                                                                                             |  9908                                                                                                                                                                                                                                                         | AACGTAGGTCACAAGCGTTGTCCGGAATTACTGGGTGTAAAGGGAGCGCAGGCGGGAAGACAAGTTGGAAGTGAAATCTATGGGCTCAACCCATAAACTGCTTTCAAAACTGTTTTTCTTGAGTAGTGCAGAGGTAGGCGGAATTCCCGGTGTAGCGGTGGAATGCGTAGATATCGGGAGGAACACCAGTGGCGAAGGCGGCCTACTGGGCACCAACTGACGCTGAGGCTCGAAAGTGTGGGTAGCAAACAGG | \n",
       "| G63225                                                                                                                                                                                                                                                        | 4                                                                                                                                                                                                                                                             |   403                                                                                                                                                                                                                                                         | TACGTATGGTGCAAGCGTTATCCGGATTTACTGGGTGTAAAGGGAGCGCAGGCGGTGCGGCAAGTCTGATGTGAAAGCCCGGGGCTCAACCCCGGTACTGCATTGGAAACTGTCGTACTAGAGTGTCGGAGGGGTAAGCGGAATTCCTAGTGTAGCGGTGAAATGCGTAGATATTAGGAGGAACACCAGTGGCGAAGGCGGCTTACTGGACGATAACTGACGCTGAGGCTCGAAAGCGTGGGGAGCAAACAGG | \n",
       "| G63228                                                                                                                                                                                                                                                        | 4                                                                                                                                                                                                                                                             |  8392                                                                                                                                                                                                                                                         | TACGTATGGTGCAAGCGTTATCCGGATTTACTGGGTGTAAAGGGAGCGCAGGCGGTGCGGCAAGTCTGATGTGAAAGCCCGGGGCTCAACCCCGGTACTGCATTGGAAACTGTCGTACTAGAGTGTCGGAGGGGTAAGCGGAATTCCTAGTGTAGCGGTGAAATGCGTAGATATTAGGAGGAACACCAGTGGCGAAGGCGGCTTACTGGACGATAACTGACGCTGAGGCTCGAAAGCGTGGGGAGCAAACAGG | \n",
       "| G63225                                                                                                                                                                                                                                                        | 5                                                                                                                                                                                                                                                             |     0                                                                                                                                                                                                                                                         | TACGGAAGGTCCGGGCGTTATCCGGATTTATTGGGTTTAAAGGGAGCGTAGGCCGGAGATTAAGCGTGTTGTGAAATGTAGACGCTCAACGTCTGCACTGCAGCGCGAACTGGTTTCCTTGAGTACGCACAAAGTGGGCGGAATTCGTGGTGTAGCGGTGAAATGCTTAGATATCACGAAGAACTCCGATTGCGAAGGCAGCTCACTGGAGCGCAACTGACGCTGAAGCTCGAAAGTGCGGGTATCGAACAGG | \n",
       "| G63228                                                                                                                                                                                                                                                        | 5                                                                                                                                                                                                                                                             |  7915                                                                                                                                                                                                                                                         | TACGGAAGGTCCGGGCGTTATCCGGATTTATTGGGTTTAAAGGGAGCGTAGGCCGGAGATTAAGCGTGTTGTGAAATGTAGACGCTCAACGTCTGCACTGCAGCGCGAACTGGTTTCCTTGAGTACGCACAAAGTGGGCGGAATTCGTGGTGTAGCGGTGAAATGCTTAGATATCACGAAGAACTCCGATTGCGAAGGCAGCTCACTGGAGCGCAACTGACGCTGAAGCTCGAAAGTGCGGGTATCGAACAGG | \n",
       "\n",
       "\n"
      ],
      "text/plain": [
       "   sample_id qseqid raw_count\n",
       "1  G63225    1      25291    \n",
       "2  G63228    1         31    \n",
       "3  G63225    2          0    \n",
       "4  G63228    2      23187    \n",
       "5  G63225    3        815    \n",
       "6  G63228    3       9908    \n",
       "7  G63225    4        403    \n",
       "8  G63228    4       8392    \n",
       "9  G63225    5          0    \n",
       "10 G63228    5       7915    \n",
       "   sequence                                                                                                                                                                                                                                                     \n",
       "1  TACGGAGGATCCGAGCGTTATCCGGATTTATTGGGTTTAAAGGGAGCGTAGATGGATGTTTAAGTCAGTTGTGAAAGTTTGCGGCTCAACCGTAAAATTGCAGTTGATACTGGATGTCTTGAGTGCAGTTGAGGCAGGCGGAATTCGTGGTGTAGCGGTGAAATGCTTAGATATCACGAAGAACTCCGATTGCGAAGGCAGCCTGCTAAGCTGCAACTGACATTGAGGCTCGAAAGTGTGGGTATCAAACAGG\n",
       "2  TACGGAGGATCCGAGCGTTATCCGGATTTATTGGGTTTAAAGGGAGCGTAGATGGATGTTTAAGTCAGTTGTGAAAGTTTGCGGCTCAACCGTAAAATTGCAGTTGATACTGGATGTCTTGAGTGCAGTTGAGGCAGGCGGAATTCGTGGTGTAGCGGTGAAATGCTTAGATATCACGAAGAACTCCGATTGCGAAGGCAGCCTGCTAAGCTGCAACTGACATTGAGGCTCGAAAGTGTGGGTATCAAACAGG\n",
       "3  TACAGAGGTCTCAAGCGTTGTTCGGAATCACTGGGCGTAAAGCGTGCGTAGGCTGTTTCGTAAGTCGTGTGTGAAAGGCGCGGGCTCAACCCGCGGACGGCACATGATACTGCGAGACTAGAGTAATGGAGGGGGAACCGGAATTCTCGGTGTAGCAGTGAAATGCGTAGATATCGAGAGGAACACTCGTGGCGAAGGCGGGTTCCTGGACATTAACTGACGCTGAGGCACGAAGGCCAGGGGAGCGAAAGGG\n",
       "4  TACAGAGGTCTCAAGCGTTGTTCGGAATCACTGGGCGTAAAGCGTGCGTAGGCTGTTTCGTAAGTCGTGTGTGAAAGGCGCGGGCTCAACCCGCGGACGGCACATGATACTGCGAGACTAGAGTAATGGAGGGGGAACCGGAATTCTCGGTGTAGCAGTGAAATGCGTAGATATCGAGAGGAACACTCGTGGCGAAGGCGGGTTCCTGGACATTAACTGACGCTGAGGCACGAAGGCCAGGGGAGCGAAAGGG\n",
       "5  AACGTAGGTCACAAGCGTTGTCCGGAATTACTGGGTGTAAAGGGAGCGCAGGCGGGAAGACAAGTTGGAAGTGAAATCTATGGGCTCAACCCATAAACTGCTTTCAAAACTGTTTTTCTTGAGTAGTGCAGAGGTAGGCGGAATTCCCGGTGTAGCGGTGGAATGCGTAGATATCGGGAGGAACACCAGTGGCGAAGGCGGCCTACTGGGCACCAACTGACGCTGAGGCTCGAAAGTGTGGGTAGCAAACAGG\n",
       "6  AACGTAGGTCACAAGCGTTGTCCGGAATTACTGGGTGTAAAGGGAGCGCAGGCGGGAAGACAAGTTGGAAGTGAAATCTATGGGCTCAACCCATAAACTGCTTTCAAAACTGTTTTTCTTGAGTAGTGCAGAGGTAGGCGGAATTCCCGGTGTAGCGGTGGAATGCGTAGATATCGGGAGGAACACCAGTGGCGAAGGCGGCCTACTGGGCACCAACTGACGCTGAGGCTCGAAAGTGTGGGTAGCAAACAGG\n",
       "7  TACGTATGGTGCAAGCGTTATCCGGATTTACTGGGTGTAAAGGGAGCGCAGGCGGTGCGGCAAGTCTGATGTGAAAGCCCGGGGCTCAACCCCGGTACTGCATTGGAAACTGTCGTACTAGAGTGTCGGAGGGGTAAGCGGAATTCCTAGTGTAGCGGTGAAATGCGTAGATATTAGGAGGAACACCAGTGGCGAAGGCGGCTTACTGGACGATAACTGACGCTGAGGCTCGAAAGCGTGGGGAGCAAACAGG\n",
       "8  TACGTATGGTGCAAGCGTTATCCGGATTTACTGGGTGTAAAGGGAGCGCAGGCGGTGCGGCAAGTCTGATGTGAAAGCCCGGGGCTCAACCCCGGTACTGCATTGGAAACTGTCGTACTAGAGTGTCGGAGGGGTAAGCGGAATTCCTAGTGTAGCGGTGAAATGCGTAGATATTAGGAGGAACACCAGTGGCGAAGGCGGCTTACTGGACGATAACTGACGCTGAGGCTCGAAAGCGTGGGGAGCAAACAGG\n",
       "9  TACGGAAGGTCCGGGCGTTATCCGGATTTATTGGGTTTAAAGGGAGCGTAGGCCGGAGATTAAGCGTGTTGTGAAATGTAGACGCTCAACGTCTGCACTGCAGCGCGAACTGGTTTCCTTGAGTACGCACAAAGTGGGCGGAATTCGTGGTGTAGCGGTGAAATGCTTAGATATCACGAAGAACTCCGATTGCGAAGGCAGCTCACTGGAGCGCAACTGACGCTGAAGCTCGAAAGTGCGGGTATCGAACAGG\n",
       "10 TACGGAAGGTCCGGGCGTTATCCGGATTTATTGGGTTTAAAGGGAGCGTAGGCCGGAGATTAAGCGTGTTGTGAAATGTAGACGCTCAACGTCTGCACTGCAGCGCGAACTGGTTTCCTTGAGTACGCACAAAGTGGGCGGAATTCGTGGTGTAGCGGTGAAATGCTTAGATATCACGAAGAACTCCGATTGCGAAGGCAGCTCACTGGAGCGCAACTGACGCTGAAGCTCGAAAGTGCGGGTATCGAACAGG"
      ]
     },
     "metadata": {},
     "output_type": "display_data"
    }
   ],
   "source": [
    "head(ab.dt, 10)"
   ]
  },
  {
   "cell_type": "markdown",
   "metadata": {},
   "source": [
    "## Align sequences vs reference database"
   ]
  },
  {
   "cell_type": "markdown",
   "metadata": {},
   "source": [
    "Now that we have a final list of sequences, we align these sequences to the reference database. We BLAST these sequences against our V4 region HiMAP database:"
   ]
  },
  {
   "cell_type": "code",
   "execution_count": 19,
   "metadata": {
    "collapsed": false
   },
   "outputs": [
    {
     "name": "stdout",
     "output_type": "stream",
     "text": [
      "* blast input type: abundance table\n",
      "* blast out: OK. blast best: OK. copy number table: OK.\n",
      "merge: OK. Fix overhang differences:..OK. OK.\n"
     ]
    }
   ],
   "source": [
    "blast_output_file = file.path(out_path, 'blast_vs_db.txt')\n",
    "blast_output = blast(ab.dt, blast_output_file, region='V4', max_target_seqs=100,\n",
    "                     word_size=50, verbose=T)"
   ]
  },
  {
   "cell_type": "markdown",
   "metadata": {},
   "source": [
    "## Calculate OSU abundances"
   ]
  },
  {
   "cell_type": "markdown",
   "metadata": {},
   "source": [
    "We then use sequence abundance table `ab.dt` and `blast_output` to infer OSUs: "
   ]
  },
  {
   "cell_type": "code",
   "execution_count": 20,
   "metadata": {
    "collapsed": false
   },
   "outputs": [
    {
     "name": "stdout",
     "output_type": "stream",
     "text": [
      "OSU table: OK. Melt table:  OK.Preparing blast tables...OK.\n"
     ]
    }
   ],
   "source": [
    "osu_ab.dt = abundance(ab.dt, blast_output)"
   ]
  },
  {
   "cell_type": "code",
   "execution_count": 21,
   "metadata": {
    "collapsed": false
   },
   "outputs": [
    {
     "data": {
      "text/html": [
       "<table>\n",
       "<thead><tr><th scope=col>sample_id</th><th scope=col>osu_id</th><th scope=col>osu_count</th><th scope=col>pctsim</th><th scope=col>species</th></tr></thead>\n",
       "<tbody>\n",
       "\t<tr><td>G63225                                                                                   </td><td>   2937                                                                                  </td><td>8430                                                                                     </td><td>100.00                                                                                   </td><td>Bacteroides_dorei_[8],Bacteroides_sp._3_1_33FAA,Bacteroides_sp._9_1_42FAA                </td></tr>\n",
       "\t<tr><td>G63225                                                                                   </td><td>   3368                                                                                  </td><td>7138                                                                                     </td><td>100.00                                                                                   </td><td>Bacteroides_ovatus_[4],Bacteroides_sp._KFT8                                              </td></tr>\n",
       "\t<tr><td>G63225                                                                                   </td><td>1000009                                                                                  </td><td>4078                                                                                     </td><td> 95.26                                                                                   </td><td>Ruminococcus_bicirculans_80/3                                                            </td></tr>\n",
       "\t<tr><td>G63225                                                                                   </td><td>   2719                                                                                  </td><td>3881                                                                                     </td><td>100.00                                                                                   </td><td>Burkholderiales_bacterium_1_1_47,Parasutterella_excrementihominis_YIT_11859              </td></tr>\n",
       "\t<tr><td>G63225                                                                                   </td><td>   2884                                                                                  </td><td>2130                                                                                     </td><td>100.00                                                                                   </td><td>Alistipes_putredinis_[2]                                                                 </td></tr>\n",
       "\t<tr><td>G63225                                                                                   </td><td>   3048                                                                                  </td><td>2098                                                                                     </td><td>100.00                                                                                   </td><td>Dialister_invisus_[3]                                                                    </td></tr>\n",
       "\t<tr><td>G63225                                                                                   </td><td>   6895                                                                                  </td><td>1976                                                                                     </td><td>100.00                                                                                   </td><td>Oscillibacter_sp._ER4                                                                    </td></tr>\n",
       "\t<tr><td>G63225                                                                                   </td><td>   5756                                                                                  </td><td>1862                                                                                     </td><td>100.00                                                                                   </td><td>Oscillibacter_sp._KLE_1728,Oscillibacter_sp._KLE_1745,Oscillospiraceae_bacterium_VE202-24</td></tr>\n",
       "\t<tr><td>G63225                                                                                   </td><td>   7842                                                                                  </td><td>1743                                                                                     </td><td>100.00                                                                                   </td><td>Faecalibacterium_prausnitzii_[2]                                                         </td></tr>\n",
       "\t<tr><td>G63225                                                                                   </td><td>1000022                                                                                  </td><td>1587                                                                                     </td><td> 99.60                                                                                   </td><td>Burkholderiales_bacterium_1_1_47,Parasutterella_excrementihominis_YIT_11859              </td></tr>\n",
       "</tbody>\n",
       "</table>\n"
      ],
      "text/latex": [
       "\\begin{tabular}{r|lllll}\n",
       " sample\\_id & osu\\_id & osu\\_count & pctsim & species\\\\\n",
       "\\hline\n",
       "\t G63225                                                                                                            &    2937                                                                                                           & 8430                                                                                                              & 100.00                                                                                                            & Bacteroides\\_dorei\\_{[}8{]},Bacteroides\\_sp.\\_3\\_1\\_33FAA,Bacteroides\\_sp.\\_9\\_1\\_42FAA                \\\\\n",
       "\t G63225                                                                                                &    3368                                                                                               & 7138                                                                                                  & 100.00                                                                                                & Bacteroides\\_ovatus\\_{[}4{]},Bacteroides\\_sp.\\_KFT8                                              \\\\\n",
       "\t G63225                                                                                        & 1000009                                                                                       & 4078                                                                                          &  95.26                                                                                        & Ruminococcus\\_bicirculans\\_80/3                                                            \\\\\n",
       "\t G63225                                                                                                  &    2719                                                                                                 & 3881                                                                                                    & 100.00                                                                                                  & Burkholderiales\\_bacterium\\_1\\_1\\_47,Parasutterella\\_excrementihominis\\_YIT\\_11859              \\\\\n",
       "\t G63225                                                                                            &    2884                                                                                           & 2130                                                                                              & 100.00                                                                                            & Alistipes\\_putredinis\\_{[}2{]}                                                                 \\\\\n",
       "\t G63225                                                                                            &    3048                                                                                           & 2098                                                                                              & 100.00                                                                                            & Dialister\\_invisus\\_{[}3{]}                                                                    \\\\\n",
       "\t G63225                                                                                        &    6895                                                                                       & 1976                                                                                          & 100.00                                                                                        & Oscillibacter\\_sp.\\_ER4                                                                    \\\\\n",
       "\t G63225                                                                                                    &    5756                                                                                                   & 1862                                                                                                      & 100.00                                                                                                    & Oscillibacter\\_sp.\\_KLE\\_1728,Oscillibacter\\_sp.\\_KLE\\_1745,Oscillospiraceae\\_bacterium\\_VE202-24\\\\\n",
       "\t G63225                                                                                            &    7842                                                                                           & 1743                                                                                              & 100.00                                                                                            & Faecalibacterium\\_prausnitzii\\_{[}2{]}                                                         \\\\\n",
       "\t G63225                                                                                                  & 1000022                                                                                                 & 1587                                                                                                    &  99.60                                                                                                  & Burkholderiales\\_bacterium\\_1\\_1\\_47,Parasutterella\\_excrementihominis\\_YIT\\_11859              \\\\\n",
       "\\end{tabular}\n"
      ],
      "text/markdown": [
       "\n",
       "sample_id | osu_id | osu_count | pctsim | species | \n",
       "|---|---|---|---|---|---|---|---|---|---|\n",
       "| G63225                                                                                    |    2937                                                                                   | 8430                                                                                      | 100.00                                                                                    | Bacteroides_dorei_[8],Bacteroides_sp._3_1_33FAA,Bacteroides_sp._9_1_42FAA                 | \n",
       "| G63225                                                                                    |    3368                                                                                   | 7138                                                                                      | 100.00                                                                                    | Bacteroides_ovatus_[4],Bacteroides_sp._KFT8                                               | \n",
       "| G63225                                                                                    | 1000009                                                                                   | 4078                                                                                      |  95.26                                                                                    | Ruminococcus_bicirculans_80/3                                                             | \n",
       "| G63225                                                                                    |    2719                                                                                   | 3881                                                                                      | 100.00                                                                                    | Burkholderiales_bacterium_1_1_47,Parasutterella_excrementihominis_YIT_11859               | \n",
       "| G63225                                                                                    |    2884                                                                                   | 2130                                                                                      | 100.00                                                                                    | Alistipes_putredinis_[2]                                                                  | \n",
       "| G63225                                                                                    |    3048                                                                                   | 2098                                                                                      | 100.00                                                                                    | Dialister_invisus_[3]                                                                     | \n",
       "| G63225                                                                                    |    6895                                                                                   | 1976                                                                                      | 100.00                                                                                    | Oscillibacter_sp._ER4                                                                     | \n",
       "| G63225                                                                                    |    5756                                                                                   | 1862                                                                                      | 100.00                                                                                    | Oscillibacter_sp._KLE_1728,Oscillibacter_sp._KLE_1745,Oscillospiraceae_bacterium_VE202-24 | \n",
       "| G63225                                                                                    |    7842                                                                                   | 1743                                                                                      | 100.00                                                                                    | Faecalibacterium_prausnitzii_[2]                                                          | \n",
       "| G63225                                                                                    | 1000022                                                                                   | 1587                                                                                      |  99.60                                                                                    | Burkholderiales_bacterium_1_1_47,Parasutterella_excrementihominis_YIT_11859               | \n",
       "\n",
       "\n"
      ],
      "text/plain": [
       "   sample_id osu_id  osu_count pctsim\n",
       "1  G63225       2937 8430      100.00\n",
       "2  G63225       3368 7138      100.00\n",
       "3  G63225    1000009 4078       95.26\n",
       "4  G63225       2719 3881      100.00\n",
       "5  G63225       2884 2130      100.00\n",
       "6  G63225       3048 2098      100.00\n",
       "7  G63225       6895 1976      100.00\n",
       "8  G63225       5756 1862      100.00\n",
       "9  G63225       7842 1743      100.00\n",
       "10 G63225    1000022 1587       99.60\n",
       "   species                                                                                  \n",
       "1  Bacteroides_dorei_[8],Bacteroides_sp._3_1_33FAA,Bacteroides_sp._9_1_42FAA                \n",
       "2  Bacteroides_ovatus_[4],Bacteroides_sp._KFT8                                              \n",
       "3  Ruminococcus_bicirculans_80/3                                                            \n",
       "4  Burkholderiales_bacterium_1_1_47,Parasutterella_excrementihominis_YIT_11859              \n",
       "5  Alistipes_putredinis_[2]                                                                 \n",
       "6  Dialister_invisus_[3]                                                                    \n",
       "7  Oscillibacter_sp._ER4                                                                    \n",
       "8  Oscillibacter_sp._KLE_1728,Oscillibacter_sp._KLE_1745,Oscillospiraceae_bacterium_VE202-24\n",
       "9  Faecalibacterium_prausnitzii_[2]                                                         \n",
       "10 Burkholderiales_bacterium_1_1_47,Parasutterella_excrementihominis_YIT_11859              "
      ]
     },
     "metadata": {},
     "output_type": "display_data"
    }
   ],
   "source": [
    "head(osu_ab.dt, 10)"
   ]
  },
  {
   "cell_type": "code",
   "execution_count": 22,
   "metadata": {
    "collapsed": true
   },
   "outputs": [],
   "source": [
    "write_table(osu_ab.dt, file.path(out_path, 'osu_abundances.txt'))"
   ]
  },
  {
   "cell_type": "markdown",
   "metadata": {},
   "source": [
    "## Add taxonomy"
   ]
  },
  {
   "cell_type": "markdown",
   "metadata": {},
   "source": [
    "For each OSU, we get taxonomic ranks for all detected strains, from NCBI Taxonomy database."
   ]
  },
  {
   "cell_type": "code",
   "execution_count": 23,
   "metadata": {
    "collapsed": false
   },
   "outputs": [],
   "source": [
    "osu_tax.dt = taxonomy(osu_ab.dt)"
   ]
  },
  {
   "cell_type": "code",
   "execution_count": 24,
   "metadata": {
    "collapsed": false
   },
   "outputs": [
    {
     "data": {
      "text/html": [
       "<table>\n",
       "<thead><tr><th scope=col>osu_id</th><th scope=col>pctsim</th><th scope=col>phylum</th><th scope=col>class</th><th scope=col>order</th><th scope=col>family</th><th scope=col>genus</th></tr></thead>\n",
       "<tbody>\n",
       "\t<tr><td>1000262                                                                                                       </td><td> 90.12                                                                                                        </td><td>Firmicutes_[2]                                                                                                </td><td>Clostridia_[2]                                                                                                </td><td>Clostridiales_[2]                                                                                             </td><td>Lachnospiraceae_[1],Defluviitaleaceae_[1]                                                                     </td><td>Abyssivirga_[1],Vallitalea_[1]                                                                                </td></tr>\n",
       "\t<tr><td>1000416                                                                                                       </td><td> 84.13                                                                                                        </td><td>Firmicutes_[1]                                                                                                </td><td>Clostridia_[1]                                                                                                </td><td>Clostridiales_[1]                                                                                             </td><td>Peptostreptococcaceae_[1]                                                                                     </td><td>Acetoanaerobium_[1]                                                                                           </td></tr>\n",
       "\t<tr><td>1000159                                                                                                       </td><td> 87.30                                                                                                        </td><td>Tenericutes_[1]                                                                                               </td><td>Mollicutes_[1]                                                                                                </td><td>Acholeplasmatales_[1]                                                                                         </td><td>Acholeplasmataceae_[1]                                                                                        </td><td>Acholeplasma_[1]                                                                                              </td></tr>\n",
       "\t<tr><td>    164                                                                                                       </td><td>100.00                                                                                                        </td><td>Proteobacteria_[8451]                                                                                         </td><td>Gammaproteobacteria_[8450],Betaproteobacteria_[1]                                                             </td><td>Enterobacterales_[8449],Burkholderiales_[1],Vibrionales_[1]                                                   </td><td>Enterobacteriaceae_[8448],Alcaligenaceae_[1],Pectobacteriaceae_[1],Vibrionaceae_[1]                           </td><td>Escherichia_[7472],Shigella_[974],Achromobacter_[1],Brenneria_[1],Citrobacter_[1],Klebsiella_[1],Vibrio_[1]   </td></tr>\n",
       "\t<tr><td>   2498                                                                                                       </td><td>100.00                                                                                                        </td><td>Proteobacteria_[187]                                                                                          </td><td>Gammaproteobacteria_[186],Betaproteobacteria_[1]                                                              </td><td>Enterobacterales_[186],Burkholderiales_[1]                                                                    </td><td>Enterobacteriaceae_[186],Alcaligenaceae_[1]                                                                   </td><td>Klebsiella_[147],Enterobacter_[30],Salmonella_[6],Citrobacter_[3],Achromobacter_[1]                           </td></tr>\n",
       "\t<tr><td>   1022                                                                                                       </td><td>100.00                                                                                                        </td><td>Firmicutes_[1236],Proteobacteria_[1]                                                                          </td><td>Bacilli_[1236],Gammaproteobacteria_[1]                                                                        </td><td>Lactobacillales_[1236],Pseudomonadales_[1]                                                                    </td><td>Enterococcaceae_[1235],Moraxellaceae_[1],Lactobacillaceae_[1]                                                 </td><td>Enterococcus_[1235],Acinetobacter_[1],Lactobacillus_[1]                                                       </td></tr>\n",
       "\t<tr><td>1000353                                                                                                       </td><td> 99.21                                                                                                        </td><td>Actinobacteria_[3]                                                                                            </td><td>Actinobacteria_[3]                                                                                            </td><td>Actinomycetales_[3]                                                                                           </td><td>Actinomycetaceae_[3]                                                                                          </td><td>Actinomyces_[3]                                                                                               </td></tr>\n",
       "\t<tr><td>   2873                                                                                                       </td><td>100.00                                                                                                        </td><td>Actinobacteria_[19]                                                                                           </td><td>Actinobacteria_[19]                                                                                           </td><td>Actinomycetales_[13],Micrococcales_[6]                                                                        </td><td>Actinomycetaceae_[13],Promicromonosporaceae_[2],Dermacoccaceae_[2],Cellulomonadaceae_[1],Sanguibacteraceae_[1]</td><td>Actinomyces_[13],Kytococcus_[2],Cellulomonas_[1],Isoptericola_[1],Sanguibacter_[1],Xylanimonas_[1]            </td></tr>\n",
       "\t<tr><td>   6834                                                                                                       </td><td>100.00                                                                                                        </td><td>Actinobacteria_[3]                                                                                            </td><td>Actinobacteria_[3]                                                                                            </td><td>Actinomycetales_[3]                                                                                           </td><td>Actinomycetaceae_[3]                                                                                          </td><td>Actinomyces_[3]                                                                                               </td></tr>\n",
       "\t<tr><td>1000051                                                                                                       </td><td> 96.44                                                                                                        </td><td>Firmicutes_[2]                                                                                                </td><td>Clostridia_[2]                                                                                                </td><td>Clostridiales_[2]                                                                                             </td><td>Ruminococcaceae_[2]                                                                                           </td><td>Acutalibacter_[1],Ruminiclostridium_[1]                                                                       </td></tr>\n",
       "</tbody>\n",
       "</table>\n"
      ],
      "text/latex": [
       "\\begin{tabular}{r|lllllll}\n",
       " osu\\_id & pctsim & phylum & class & order & family & genus\\\\\n",
       "\\hline\n",
       "\t 1000262                                                                                                                    &  90.12                                                                                                                     & Firmicutes\\_{[}2{]}                                                                                                       & Clostridia\\_{[}2{]}                                                                                                       & Clostridiales\\_{[}2{]}                                                                                                    & Lachnospiraceae\\_{[}1{]},Defluviitaleaceae\\_{[}1{]}                                                                      & Abyssivirga\\_{[}1{]},Vallitalea\\_{[}1{]}                                                                                \\\\\n",
       "\t 1000416                                                                                                              &  84.13                                                                                                               & Firmicutes\\_{[}1{]}                                                                                                 & Clostridia\\_{[}1{]}                                                                                                 & Clostridiales\\_{[}1{]}                                                                                              & Peptostreptococcaceae\\_{[}1{]}                                                                                      & Acetoanaerobium\\_{[}1{]}                                                                                           \\\\\n",
       "\t 1000159                                                                                                              &  87.30                                                                                                               & Tenericutes\\_{[}1{]}                                                                                                & Mollicutes\\_{[}1{]}                                                                                                 & Acholeplasmatales\\_{[}1{]}                                                                                          & Acholeplasmataceae\\_{[}1{]}                                                                                         & Acholeplasma\\_{[}1{]}                                                                                              \\\\\n",
       "\t     164                                                                                                                                               & 100.00                                                                                                                                                & Proteobacteria\\_{[}8451{]}                                                                                                                           & Gammaproteobacteria\\_{[}8450{]},Betaproteobacteria\\_{[}1{]}                                                                                         & Enterobacterales\\_{[}8449{]},Burkholderiales\\_{[}1{]},Vibrionales\\_{[}1{]}                                                                         & Enterobacteriaceae\\_{[}8448{]},Alcaligenaceae\\_{[}1{]},Pectobacteriaceae\\_{[}1{]},Vibrionaceae\\_{[}1{]}                                           & Escherichia\\_{[}7472{]},Shigella\\_{[}974{]},Achromobacter\\_{[}1{]},Brenneria\\_{[}1{]},Citrobacter\\_{[}1{]},Klebsiella\\_{[}1{]},Vibrio\\_{[}1{]}\\\\\n",
       "\t    2498                                                                                                                                   & 100.00                                                                                                                                    & Proteobacteria\\_{[}187{]}                                                                                                                & Gammaproteobacteria\\_{[}186{]},Betaproteobacteria\\_{[}1{]}                                                                              & Enterobacterales\\_{[}186{]},Burkholderiales\\_{[}1{]}                                                                                    & Enterobacteriaceae\\_{[}186{]},Alcaligenaceae\\_{[}1{]}                                                                                   & Klebsiella\\_{[}147{]},Enterobacter\\_{[}30{]},Salmonella\\_{[}6{]},Citrobacter\\_{[}3{]},Achromobacter\\_{[}1{]}                        \\\\\n",
       "\t    1022                                                                                                                          & 100.00                                                                                                                           & Firmicutes\\_{[}1236{]},Proteobacteria\\_{[}1{]}                                                                                 & Bacilli\\_{[}1236{]},Gammaproteobacteria\\_{[}1{]}                                                                               & Lactobacillales\\_{[}1236{]},Pseudomonadales\\_{[}1{]}                                                                           & Enterococcaceae\\_{[}1235{]},Moraxellaceae\\_{[}1{]},Lactobacillaceae\\_{[}1{]}                                                  & Enterococcus\\_{[}1235{]},Acinetobacter\\_{[}1{]},Lactobacillus\\_{[}1{]}                                                       \\\\\n",
       "\t 1000353                                                                                                              &  99.21                                                                                                               & Actinobacteria\\_{[}3{]}                                                                                             & Actinobacteria\\_{[}3{]}                                                                                             & Actinomycetales\\_{[}3{]}                                                                                            & Actinomycetaceae\\_{[}3{]}                                                                                           & Actinomyces\\_{[}3{]}                                                                                               \\\\\n",
       "\t    2873                                                                                                                                         & 100.00                                                                                                                                          & Actinobacteria\\_{[}19{]}                                                                                                                       & Actinobacteria\\_{[}19{]}                                                                                                                       & Actinomycetales\\_{[}13{]},Micrococcales\\_{[}6{]}                                                                                              & Actinomycetaceae\\_{[}13{]},Promicromonosporaceae\\_{[}2{]},Dermacoccaceae\\_{[}2{]},Cellulomonadaceae\\_{[}1{]},Sanguibacteraceae\\_{[}1{]}    & Actinomyces\\_{[}13{]},Kytococcus\\_{[}2{]},Cellulomonas\\_{[}1{]},Isoptericola\\_{[}1{]},Sanguibacter\\_{[}1{]},Xylanimonas\\_{[}1{]}         \\\\\n",
       "\t    6834                                                                                                              & 100.00                                                                                                               & Actinobacteria\\_{[}3{]}                                                                                             & Actinobacteria\\_{[}3{]}                                                                                             & Actinomycetales\\_{[}3{]}                                                                                            & Actinomycetaceae\\_{[}3{]}                                                                                           & Actinomyces\\_{[}3{]}                                                                                               \\\\\n",
       "\t 1000051                                                                                                                 &  96.44                                                                                                                  & Firmicutes\\_{[}2{]}                                                                                                    & Clostridia\\_{[}2{]}                                                                                                    & Clostridiales\\_{[}2{]}                                                                                                 & Ruminococcaceae\\_{[}2{]}                                                                                               & Acutalibacter\\_{[}1{]},Ruminiclostridium\\_{[}1{]}                                                                    \\\\\n",
       "\\end{tabular}\n"
      ],
      "text/markdown": [
       "\n",
       "osu_id | pctsim | phylum | class | order | family | genus | \n",
       "|---|---|---|---|---|---|---|---|---|---|\n",
       "| 1000262                                                                                                        |  90.12                                                                                                         | Firmicutes_[2]                                                                                                 | Clostridia_[2]                                                                                                 | Clostridiales_[2]                                                                                              | Lachnospiraceae_[1],Defluviitaleaceae_[1]                                                                      | Abyssivirga_[1],Vallitalea_[1]                                                                                 | \n",
       "| 1000416                                                                                                        |  84.13                                                                                                         | Firmicutes_[1]                                                                                                 | Clostridia_[1]                                                                                                 | Clostridiales_[1]                                                                                              | Peptostreptococcaceae_[1]                                                                                      | Acetoanaerobium_[1]                                                                                            | \n",
       "| 1000159                                                                                                        |  87.30                                                                                                         | Tenericutes_[1]                                                                                                | Mollicutes_[1]                                                                                                 | Acholeplasmatales_[1]                                                                                          | Acholeplasmataceae_[1]                                                                                         | Acholeplasma_[1]                                                                                               | \n",
       "|     164                                                                                                        | 100.00                                                                                                         | Proteobacteria_[8451]                                                                                          | Gammaproteobacteria_[8450],Betaproteobacteria_[1]                                                              | Enterobacterales_[8449],Burkholderiales_[1],Vibrionales_[1]                                                    | Enterobacteriaceae_[8448],Alcaligenaceae_[1],Pectobacteriaceae_[1],Vibrionaceae_[1]                            | Escherichia_[7472],Shigella_[974],Achromobacter_[1],Brenneria_[1],Citrobacter_[1],Klebsiella_[1],Vibrio_[1]    | \n",
       "|    2498                                                                                                        | 100.00                                                                                                         | Proteobacteria_[187]                                                                                           | Gammaproteobacteria_[186],Betaproteobacteria_[1]                                                               | Enterobacterales_[186],Burkholderiales_[1]                                                                     | Enterobacteriaceae_[186],Alcaligenaceae_[1]                                                                    | Klebsiella_[147],Enterobacter_[30],Salmonella_[6],Citrobacter_[3],Achromobacter_[1]                            | \n",
       "|    1022                                                                                                        | 100.00                                                                                                         | Firmicutes_[1236],Proteobacteria_[1]                                                                           | Bacilli_[1236],Gammaproteobacteria_[1]                                                                         | Lactobacillales_[1236],Pseudomonadales_[1]                                                                     | Enterococcaceae_[1235],Moraxellaceae_[1],Lactobacillaceae_[1]                                                  | Enterococcus_[1235],Acinetobacter_[1],Lactobacillus_[1]                                                        | \n",
       "| 1000353                                                                                                        |  99.21                                                                                                         | Actinobacteria_[3]                                                                                             | Actinobacteria_[3]                                                                                             | Actinomycetales_[3]                                                                                            | Actinomycetaceae_[3]                                                                                           | Actinomyces_[3]                                                                                                | \n",
       "|    2873                                                                                                        | 100.00                                                                                                         | Actinobacteria_[19]                                                                                            | Actinobacteria_[19]                                                                                            | Actinomycetales_[13],Micrococcales_[6]                                                                         | Actinomycetaceae_[13],Promicromonosporaceae_[2],Dermacoccaceae_[2],Cellulomonadaceae_[1],Sanguibacteraceae_[1] | Actinomyces_[13],Kytococcus_[2],Cellulomonas_[1],Isoptericola_[1],Sanguibacter_[1],Xylanimonas_[1]             | \n",
       "|    6834                                                                                                        | 100.00                                                                                                         | Actinobacteria_[3]                                                                                             | Actinobacteria_[3]                                                                                             | Actinomycetales_[3]                                                                                            | Actinomycetaceae_[3]                                                                                           | Actinomyces_[3]                                                                                                | \n",
       "| 1000051                                                                                                        |  96.44                                                                                                         | Firmicutes_[2]                                                                                                 | Clostridia_[2]                                                                                                 | Clostridiales_[2]                                                                                              | Ruminococcaceae_[2]                                                                                            | Acutalibacter_[1],Ruminiclostridium_[1]                                                                        | \n",
       "\n",
       "\n"
      ],
      "text/plain": [
       "   osu_id  pctsim phylum                              \n",
       "1  1000262  90.12 Firmicutes_[2]                      \n",
       "2  1000416  84.13 Firmicutes_[1]                      \n",
       "3  1000159  87.30 Tenericutes_[1]                     \n",
       "4      164 100.00 Proteobacteria_[8451]               \n",
       "5     2498 100.00 Proteobacteria_[187]                \n",
       "6     1022 100.00 Firmicutes_[1236],Proteobacteria_[1]\n",
       "7  1000353  99.21 Actinobacteria_[3]                  \n",
       "8     2873 100.00 Actinobacteria_[19]                 \n",
       "9     6834 100.00 Actinobacteria_[3]                  \n",
       "10 1000051  96.44 Firmicutes_[2]                      \n",
       "   class                                            \n",
       "1  Clostridia_[2]                                   \n",
       "2  Clostridia_[1]                                   \n",
       "3  Mollicutes_[1]                                   \n",
       "4  Gammaproteobacteria_[8450],Betaproteobacteria_[1]\n",
       "5  Gammaproteobacteria_[186],Betaproteobacteria_[1] \n",
       "6  Bacilli_[1236],Gammaproteobacteria_[1]           \n",
       "7  Actinobacteria_[3]                               \n",
       "8  Actinobacteria_[19]                              \n",
       "9  Actinobacteria_[3]                               \n",
       "10 Clostridia_[2]                                   \n",
       "   order                                                      \n",
       "1  Clostridiales_[2]                                          \n",
       "2  Clostridiales_[1]                                          \n",
       "3  Acholeplasmatales_[1]                                      \n",
       "4  Enterobacterales_[8449],Burkholderiales_[1],Vibrionales_[1]\n",
       "5  Enterobacterales_[186],Burkholderiales_[1]                 \n",
       "6  Lactobacillales_[1236],Pseudomonadales_[1]                 \n",
       "7  Actinomycetales_[3]                                        \n",
       "8  Actinomycetales_[13],Micrococcales_[6]                     \n",
       "9  Actinomycetales_[3]                                        \n",
       "10 Clostridiales_[2]                                          \n",
       "   family                                                                                                        \n",
       "1  Lachnospiraceae_[1],Defluviitaleaceae_[1]                                                                     \n",
       "2  Peptostreptococcaceae_[1]                                                                                     \n",
       "3  Acholeplasmataceae_[1]                                                                                        \n",
       "4  Enterobacteriaceae_[8448],Alcaligenaceae_[1],Pectobacteriaceae_[1],Vibrionaceae_[1]                           \n",
       "5  Enterobacteriaceae_[186],Alcaligenaceae_[1]                                                                   \n",
       "6  Enterococcaceae_[1235],Moraxellaceae_[1],Lactobacillaceae_[1]                                                 \n",
       "7  Actinomycetaceae_[3]                                                                                          \n",
       "8  Actinomycetaceae_[13],Promicromonosporaceae_[2],Dermacoccaceae_[2],Cellulomonadaceae_[1],Sanguibacteraceae_[1]\n",
       "9  Actinomycetaceae_[3]                                                                                          \n",
       "10 Ruminococcaceae_[2]                                                                                           \n",
       "   genus                                                                                                      \n",
       "1  Abyssivirga_[1],Vallitalea_[1]                                                                             \n",
       "2  Acetoanaerobium_[1]                                                                                        \n",
       "3  Acholeplasma_[1]                                                                                           \n",
       "4  Escherichia_[7472],Shigella_[974],Achromobacter_[1],Brenneria_[1],Citrobacter_[1],Klebsiella_[1],Vibrio_[1]\n",
       "5  Klebsiella_[147],Enterobacter_[30],Salmonella_[6],Citrobacter_[3],Achromobacter_[1]                        \n",
       "6  Enterococcus_[1235],Acinetobacter_[1],Lactobacillus_[1]                                                    \n",
       "7  Actinomyces_[3]                                                                                            \n",
       "8  Actinomyces_[13],Kytococcus_[2],Cellulomonas_[1],Isoptericola_[1],Sanguibacter_[1],Xylanimonas_[1]         \n",
       "9  Actinomyces_[3]                                                                                            \n",
       "10 Acutalibacter_[1],Ruminiclostridium_[1]                                                                    "
      ]
     },
     "metadata": {},
     "output_type": "display_data"
    }
   ],
   "source": [
    "head(osu_tax.dt, 10)"
   ]
  }
 ],
 "metadata": {
  "kernelspec": {
   "display_name": "R",
   "language": "R",
   "name": "ir"
  },
  "language_info": {
   "codemirror_mode": "r",
   "file_extension": ".r",
   "mimetype": "text/x-r-source",
   "name": "R",
   "pygments_lexer": "r",
   "version": "3.4.4"
  }
 },
 "nbformat": 4,
 "nbformat_minor": 2
}
